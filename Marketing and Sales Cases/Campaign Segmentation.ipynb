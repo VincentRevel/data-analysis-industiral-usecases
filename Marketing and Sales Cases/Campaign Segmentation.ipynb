{
 "cells": [
  {
   "cell_type": "markdown",
   "metadata": {},
   "source": [
    "# Introduction\n",
    "\n",
    "- In the `Cleansing & Exploration.ipynb` I have explored the data and got to know a little bit more about the insight it holds.\n",
    "\n",
    "- In this notebook, I am going to use the same dataset to segment customers into different groups to help making the decision on how company best approach each group of customer.\n",
    "\n",
    "- The dataset can be obtained from https://archive.ics.uci.edu/dataset/222/bank+marketing"
   ]
  },
  {
   "cell_type": "markdown",
   "metadata": {},
   "source": [
    "# Import Libraries and Data"
   ]
  },
  {
   "cell_type": "code",
   "execution_count": 2,
   "metadata": {},
   "outputs": [],
   "source": [
    "import numpy as np\n",
    "import pandas as pd\n",
    "\n",
    "import plotly.express as px\n",
    "import plotly.graph_objects as go\n",
    "from plotly.subplots import make_subplots\n",
    "from matplotlib import pyplot as plt\n",
    "import seaborn as sns"
   ]
  },
  {
   "cell_type": "code",
   "execution_count": 6,
   "metadata": {},
   "outputs": [
    {
     "data": {
      "text/html": [
       "<div>\n",
       "<style scoped>\n",
       "    .dataframe tbody tr th:only-of-type {\n",
       "        vertical-align: middle;\n",
       "    }\n",
       "\n",
       "    .dataframe tbody tr th {\n",
       "        vertical-align: top;\n",
       "    }\n",
       "\n",
       "    .dataframe thead th {\n",
       "        text-align: right;\n",
       "    }\n",
       "</style>\n",
       "<table border=\"1\" class=\"dataframe\">\n",
       "  <thead>\n",
       "    <tr style=\"text-align: right;\">\n",
       "      <th></th>\n",
       "      <th>age</th>\n",
       "      <th>job</th>\n",
       "      <th>marital</th>\n",
       "      <th>education</th>\n",
       "      <th>default</th>\n",
       "      <th>housing</th>\n",
       "      <th>loan</th>\n",
       "      <th>contact</th>\n",
       "      <th>month</th>\n",
       "      <th>day_of_week</th>\n",
       "      <th>...</th>\n",
       "      <th>campaign</th>\n",
       "      <th>pdays</th>\n",
       "      <th>previous</th>\n",
       "      <th>poutcome</th>\n",
       "      <th>emp.var.rate</th>\n",
       "      <th>cons.price.idx</th>\n",
       "      <th>cons.conf.idx</th>\n",
       "      <th>euribor3m</th>\n",
       "      <th>nr.employed</th>\n",
       "      <th>y</th>\n",
       "    </tr>\n",
       "  </thead>\n",
       "  <tbody>\n",
       "    <tr>\n",
       "      <th>0</th>\n",
       "      <td>56</td>\n",
       "      <td>housemaid</td>\n",
       "      <td>married</td>\n",
       "      <td>basic.4y</td>\n",
       "      <td>no</td>\n",
       "      <td>no</td>\n",
       "      <td>no</td>\n",
       "      <td>telephone</td>\n",
       "      <td>may</td>\n",
       "      <td>mon</td>\n",
       "      <td>...</td>\n",
       "      <td>1</td>\n",
       "      <td>999</td>\n",
       "      <td>0</td>\n",
       "      <td>nonexistent</td>\n",
       "      <td>1.1</td>\n",
       "      <td>93.994</td>\n",
       "      <td>-36.4</td>\n",
       "      <td>4.857</td>\n",
       "      <td>5191.0</td>\n",
       "      <td>no</td>\n",
       "    </tr>\n",
       "    <tr>\n",
       "      <th>1</th>\n",
       "      <td>57</td>\n",
       "      <td>services</td>\n",
       "      <td>married</td>\n",
       "      <td>high.school</td>\n",
       "      <td>unknown</td>\n",
       "      <td>no</td>\n",
       "      <td>no</td>\n",
       "      <td>telephone</td>\n",
       "      <td>may</td>\n",
       "      <td>mon</td>\n",
       "      <td>...</td>\n",
       "      <td>1</td>\n",
       "      <td>999</td>\n",
       "      <td>0</td>\n",
       "      <td>nonexistent</td>\n",
       "      <td>1.1</td>\n",
       "      <td>93.994</td>\n",
       "      <td>-36.4</td>\n",
       "      <td>4.857</td>\n",
       "      <td>5191.0</td>\n",
       "      <td>no</td>\n",
       "    </tr>\n",
       "    <tr>\n",
       "      <th>2</th>\n",
       "      <td>37</td>\n",
       "      <td>services</td>\n",
       "      <td>married</td>\n",
       "      <td>high.school</td>\n",
       "      <td>no</td>\n",
       "      <td>yes</td>\n",
       "      <td>no</td>\n",
       "      <td>telephone</td>\n",
       "      <td>may</td>\n",
       "      <td>mon</td>\n",
       "      <td>...</td>\n",
       "      <td>1</td>\n",
       "      <td>999</td>\n",
       "      <td>0</td>\n",
       "      <td>nonexistent</td>\n",
       "      <td>1.1</td>\n",
       "      <td>93.994</td>\n",
       "      <td>-36.4</td>\n",
       "      <td>4.857</td>\n",
       "      <td>5191.0</td>\n",
       "      <td>no</td>\n",
       "    </tr>\n",
       "    <tr>\n",
       "      <th>3</th>\n",
       "      <td>40</td>\n",
       "      <td>admin.</td>\n",
       "      <td>married</td>\n",
       "      <td>basic.6y</td>\n",
       "      <td>no</td>\n",
       "      <td>no</td>\n",
       "      <td>no</td>\n",
       "      <td>telephone</td>\n",
       "      <td>may</td>\n",
       "      <td>mon</td>\n",
       "      <td>...</td>\n",
       "      <td>1</td>\n",
       "      <td>999</td>\n",
       "      <td>0</td>\n",
       "      <td>nonexistent</td>\n",
       "      <td>1.1</td>\n",
       "      <td>93.994</td>\n",
       "      <td>-36.4</td>\n",
       "      <td>4.857</td>\n",
       "      <td>5191.0</td>\n",
       "      <td>no</td>\n",
       "    </tr>\n",
       "    <tr>\n",
       "      <th>4</th>\n",
       "      <td>56</td>\n",
       "      <td>services</td>\n",
       "      <td>married</td>\n",
       "      <td>high.school</td>\n",
       "      <td>no</td>\n",
       "      <td>no</td>\n",
       "      <td>yes</td>\n",
       "      <td>telephone</td>\n",
       "      <td>may</td>\n",
       "      <td>mon</td>\n",
       "      <td>...</td>\n",
       "      <td>1</td>\n",
       "      <td>999</td>\n",
       "      <td>0</td>\n",
       "      <td>nonexistent</td>\n",
       "      <td>1.1</td>\n",
       "      <td>93.994</td>\n",
       "      <td>-36.4</td>\n",
       "      <td>4.857</td>\n",
       "      <td>5191.0</td>\n",
       "      <td>no</td>\n",
       "    </tr>\n",
       "  </tbody>\n",
       "</table>\n",
       "<p>5 rows × 21 columns</p>\n",
       "</div>"
      ],
      "text/plain": [
       "   age        job  marital    education  default housing loan    contact  \\\n",
       "0   56  housemaid  married     basic.4y       no      no   no  telephone   \n",
       "1   57   services  married  high.school  unknown      no   no  telephone   \n",
       "2   37   services  married  high.school       no     yes   no  telephone   \n",
       "3   40     admin.  married     basic.6y       no      no   no  telephone   \n",
       "4   56   services  married  high.school       no      no  yes  telephone   \n",
       "\n",
       "  month day_of_week  ...  campaign  pdays  previous     poutcome emp.var.rate  \\\n",
       "0   may         mon  ...         1    999         0  nonexistent          1.1   \n",
       "1   may         mon  ...         1    999         0  nonexistent          1.1   \n",
       "2   may         mon  ...         1    999         0  nonexistent          1.1   \n",
       "3   may         mon  ...         1    999         0  nonexistent          1.1   \n",
       "4   may         mon  ...         1    999         0  nonexistent          1.1   \n",
       "\n",
       "   cons.price.idx  cons.conf.idx  euribor3m  nr.employed   y  \n",
       "0          93.994          -36.4      4.857       5191.0  no  \n",
       "1          93.994          -36.4      4.857       5191.0  no  \n",
       "2          93.994          -36.4      4.857       5191.0  no  \n",
       "3          93.994          -36.4      4.857       5191.0  no  \n",
       "4          93.994          -36.4      4.857       5191.0  no  \n",
       "\n",
       "[5 rows x 21 columns]"
      ]
     },
     "execution_count": 6,
     "metadata": {},
     "output_type": "execute_result"
    }
   ],
   "source": [
    "df = pd.read_csv('bank-additional-full.csv', sep=';')\n",
    "df.head()"
   ]
  },
  {
   "cell_type": "markdown",
   "metadata": {},
   "source": [
    "# Add Customer ID"
   ]
  },
  {
   "cell_type": "markdown",
   "metadata": {},
   "source": [
    "Create a `customer_id` column using combination of `age`, `job`, `marital`, `education`, `housing`, and `loan` columns."
   ]
  },
  {
   "cell_type": "code",
   "execution_count": 7,
   "metadata": {},
   "outputs": [
    {
     "data": {
      "text/html": [
       "<div>\n",
       "<style scoped>\n",
       "    .dataframe tbody tr th:only-of-type {\n",
       "        vertical-align: middle;\n",
       "    }\n",
       "\n",
       "    .dataframe tbody tr th {\n",
       "        vertical-align: top;\n",
       "    }\n",
       "\n",
       "    .dataframe thead th {\n",
       "        text-align: right;\n",
       "    }\n",
       "</style>\n",
       "<table border=\"1\" class=\"dataframe\">\n",
       "  <thead>\n",
       "    <tr style=\"text-align: right;\">\n",
       "      <th></th>\n",
       "      <th>age</th>\n",
       "      <th>job</th>\n",
       "      <th>marital</th>\n",
       "      <th>education</th>\n",
       "      <th>default</th>\n",
       "      <th>housing</th>\n",
       "      <th>loan</th>\n",
       "      <th>contact</th>\n",
       "      <th>month</th>\n",
       "      <th>day_of_week</th>\n",
       "      <th>...</th>\n",
       "      <th>pdays</th>\n",
       "      <th>previous</th>\n",
       "      <th>poutcome</th>\n",
       "      <th>emp.var.rate</th>\n",
       "      <th>cons.price.idx</th>\n",
       "      <th>cons.conf.idx</th>\n",
       "      <th>euribor3m</th>\n",
       "      <th>nr.employed</th>\n",
       "      <th>y</th>\n",
       "      <th>customer_id</th>\n",
       "    </tr>\n",
       "  </thead>\n",
       "  <tbody>\n",
       "    <tr>\n",
       "      <th>0</th>\n",
       "      <td>56</td>\n",
       "      <td>housemaid</td>\n",
       "      <td>married</td>\n",
       "      <td>basic.4y</td>\n",
       "      <td>no</td>\n",
       "      <td>no</td>\n",
       "      <td>no</td>\n",
       "      <td>telephone</td>\n",
       "      <td>may</td>\n",
       "      <td>mon</td>\n",
       "      <td>...</td>\n",
       "      <td>999</td>\n",
       "      <td>0</td>\n",
       "      <td>nonexistent</td>\n",
       "      <td>1.1</td>\n",
       "      <td>93.994</td>\n",
       "      <td>-36.4</td>\n",
       "      <td>4.857</td>\n",
       "      <td>5191.0</td>\n",
       "      <td>no</td>\n",
       "      <td>56_housemaid_married_basic.4y_no_no</td>\n",
       "    </tr>\n",
       "    <tr>\n",
       "      <th>1</th>\n",
       "      <td>57</td>\n",
       "      <td>services</td>\n",
       "      <td>married</td>\n",
       "      <td>high.school</td>\n",
       "      <td>unknown</td>\n",
       "      <td>no</td>\n",
       "      <td>no</td>\n",
       "      <td>telephone</td>\n",
       "      <td>may</td>\n",
       "      <td>mon</td>\n",
       "      <td>...</td>\n",
       "      <td>999</td>\n",
       "      <td>0</td>\n",
       "      <td>nonexistent</td>\n",
       "      <td>1.1</td>\n",
       "      <td>93.994</td>\n",
       "      <td>-36.4</td>\n",
       "      <td>4.857</td>\n",
       "      <td>5191.0</td>\n",
       "      <td>no</td>\n",
       "      <td>57_services_married_high.school_no_no</td>\n",
       "    </tr>\n",
       "    <tr>\n",
       "      <th>2</th>\n",
       "      <td>37</td>\n",
       "      <td>services</td>\n",
       "      <td>married</td>\n",
       "      <td>high.school</td>\n",
       "      <td>no</td>\n",
       "      <td>yes</td>\n",
       "      <td>no</td>\n",
       "      <td>telephone</td>\n",
       "      <td>may</td>\n",
       "      <td>mon</td>\n",
       "      <td>...</td>\n",
       "      <td>999</td>\n",
       "      <td>0</td>\n",
       "      <td>nonexistent</td>\n",
       "      <td>1.1</td>\n",
       "      <td>93.994</td>\n",
       "      <td>-36.4</td>\n",
       "      <td>4.857</td>\n",
       "      <td>5191.0</td>\n",
       "      <td>no</td>\n",
       "      <td>37_services_married_high.school_yes_no</td>\n",
       "    </tr>\n",
       "    <tr>\n",
       "      <th>3</th>\n",
       "      <td>40</td>\n",
       "      <td>admin.</td>\n",
       "      <td>married</td>\n",
       "      <td>basic.6y</td>\n",
       "      <td>no</td>\n",
       "      <td>no</td>\n",
       "      <td>no</td>\n",
       "      <td>telephone</td>\n",
       "      <td>may</td>\n",
       "      <td>mon</td>\n",
       "      <td>...</td>\n",
       "      <td>999</td>\n",
       "      <td>0</td>\n",
       "      <td>nonexistent</td>\n",
       "      <td>1.1</td>\n",
       "      <td>93.994</td>\n",
       "      <td>-36.4</td>\n",
       "      <td>4.857</td>\n",
       "      <td>5191.0</td>\n",
       "      <td>no</td>\n",
       "      <td>40_admin._married_basic.6y_no_no</td>\n",
       "    </tr>\n",
       "    <tr>\n",
       "      <th>4</th>\n",
       "      <td>56</td>\n",
       "      <td>services</td>\n",
       "      <td>married</td>\n",
       "      <td>high.school</td>\n",
       "      <td>no</td>\n",
       "      <td>no</td>\n",
       "      <td>yes</td>\n",
       "      <td>telephone</td>\n",
       "      <td>may</td>\n",
       "      <td>mon</td>\n",
       "      <td>...</td>\n",
       "      <td>999</td>\n",
       "      <td>0</td>\n",
       "      <td>nonexistent</td>\n",
       "      <td>1.1</td>\n",
       "      <td>93.994</td>\n",
       "      <td>-36.4</td>\n",
       "      <td>4.857</td>\n",
       "      <td>5191.0</td>\n",
       "      <td>no</td>\n",
       "      <td>56_services_married_high.school_no_yes</td>\n",
       "    </tr>\n",
       "  </tbody>\n",
       "</table>\n",
       "<p>5 rows × 22 columns</p>\n",
       "</div>"
      ],
      "text/plain": [
       "   age        job  marital    education  default housing loan    contact  \\\n",
       "0   56  housemaid  married     basic.4y       no      no   no  telephone   \n",
       "1   57   services  married  high.school  unknown      no   no  telephone   \n",
       "2   37   services  married  high.school       no     yes   no  telephone   \n",
       "3   40     admin.  married     basic.6y       no      no   no  telephone   \n",
       "4   56   services  married  high.school       no      no  yes  telephone   \n",
       "\n",
       "  month day_of_week  ...  pdays  previous     poutcome  emp.var.rate  \\\n",
       "0   may         mon  ...    999         0  nonexistent           1.1   \n",
       "1   may         mon  ...    999         0  nonexistent           1.1   \n",
       "2   may         mon  ...    999         0  nonexistent           1.1   \n",
       "3   may         mon  ...    999         0  nonexistent           1.1   \n",
       "4   may         mon  ...    999         0  nonexistent           1.1   \n",
       "\n",
       "  cons.price.idx  cons.conf.idx  euribor3m  nr.employed   y  \\\n",
       "0         93.994          -36.4      4.857       5191.0  no   \n",
       "1         93.994          -36.4      4.857       5191.0  no   \n",
       "2         93.994          -36.4      4.857       5191.0  no   \n",
       "3         93.994          -36.4      4.857       5191.0  no   \n",
       "4         93.994          -36.4      4.857       5191.0  no   \n",
       "\n",
       "                              customer_id  \n",
       "0     56_housemaid_married_basic.4y_no_no  \n",
       "1   57_services_married_high.school_no_no  \n",
       "2  37_services_married_high.school_yes_no  \n",
       "3        40_admin._married_basic.6y_no_no  \n",
       "4  56_services_married_high.school_no_yes  \n",
       "\n",
       "[5 rows x 22 columns]"
      ]
     },
     "execution_count": 7,
     "metadata": {},
     "output_type": "execute_result"
    }
   ],
   "source": [
    "# Add customer ID\n",
    "\n",
    "df[\"customer_id\"] = df[\"age\"].astype(str) + '_' + df[\"job\"].astype(str) + '_' + df[\"marital\"].astype(str) + '_' + \\\n",
    "                      df[\"education\"].astype(str) + '_' + df[\"housing\"].astype(str) + '_' + df[\"loan\"]\n",
    "df.head()"
   ]
  },
  {
   "cell_type": "markdown",
   "metadata": {},
   "source": [
    "# Segmentation"
   ]
  },
  {
   "cell_type": "markdown",
   "metadata": {},
   "source": [
    "## Step 1\n",
    "\n",
    "- Simple statistics to understand the distribution for the variables I'm interested in.\n",
    "\n",
    "- I will try by looking into the `mean`, `median`, `minimum value`, `maximum value`, `25th percentile`, `75th percentile`, and `95th percentile`."
   ]
  },
  {
   "cell_type": "markdown",
   "metadata": {},
   "source": [
    "Calculate the response rate for every customer and campaign.  \n",
    "By dividing `count_respond` and `contact_per_campaign`."
   ]
  },
  {
   "cell_type": "code",
   "execution_count": 8,
   "metadata": {},
   "outputs": [
    {
     "data": {
      "text/html": [
       "<div>\n",
       "<style scoped>\n",
       "    .dataframe tbody tr th:only-of-type {\n",
       "        vertical-align: middle;\n",
       "    }\n",
       "\n",
       "    .dataframe tbody tr th {\n",
       "        vertical-align: top;\n",
       "    }\n",
       "\n",
       "    .dataframe thead th {\n",
       "        text-align: right;\n",
       "    }\n",
       "</style>\n",
       "<table border=\"1\" class=\"dataframe\">\n",
       "  <thead>\n",
       "    <tr style=\"text-align: right;\">\n",
       "      <th></th>\n",
       "      <th></th>\n",
       "      <th>contact_per_campaign</th>\n",
       "    </tr>\n",
       "    <tr>\n",
       "      <th>customer_id</th>\n",
       "      <th>campaign</th>\n",
       "      <th></th>\n",
       "    </tr>\n",
       "  </thead>\n",
       "  <tbody>\n",
       "    <tr>\n",
       "      <th>17_student_single_basic.9y_unknown_unknown</th>\n",
       "      <th>2</th>\n",
       "      <td>1</td>\n",
       "    </tr>\n",
       "    <tr>\n",
       "      <th rowspan=\"2\" valign=\"top\">17_student_single_basic.9y_yes_no</th>\n",
       "      <th>2</th>\n",
       "      <td>1</td>\n",
       "    </tr>\n",
       "    <tr>\n",
       "      <th>3</th>\n",
       "      <td>1</td>\n",
       "    </tr>\n",
       "    <tr>\n",
       "      <th>17_student_single_unknown_no_yes</th>\n",
       "      <th>1</th>\n",
       "      <td>1</td>\n",
       "    </tr>\n",
       "    <tr>\n",
       "      <th>17_student_single_unknown_yes_no</th>\n",
       "      <th>3</th>\n",
       "      <td>1</td>\n",
       "    </tr>\n",
       "  </tbody>\n",
       "</table>\n",
       "</div>"
      ],
      "text/plain": [
       "                                                     contact_per_campaign\n",
       "customer_id                                campaign                      \n",
       "17_student_single_basic.9y_unknown_unknown 2                            1\n",
       "17_student_single_basic.9y_yes_no          2                            1\n",
       "                                           3                            1\n",
       "17_student_single_unknown_no_yes           1                            1\n",
       "17_student_single_unknown_yes_no           3                            1"
      ]
     },
     "execution_count": 8,
     "metadata": {},
     "output_type": "execute_result"
    }
   ],
   "source": [
    "# Find the number of row by customer_id and campaign.\n",
    "campaign_count = pd.DataFrame(df.groupby([\"customer_id\", \"campaign\"]).size())\n",
    "\n",
    "# Rename the result column into `contact_per_campaign`\n",
    "campaign_count.rename(columns={0:\"contact_per_campaign\"}, inplace=True)\n",
    "\n",
    "# Show the first 5 row\n",
    "campaign_count.head()"
   ]
  },
  {
   "cell_type": "code",
   "execution_count": 9,
   "metadata": {},
   "outputs": [
    {
     "data": {
      "text/html": [
       "<div>\n",
       "<style scoped>\n",
       "    .dataframe tbody tr th:only-of-type {\n",
       "        vertical-align: middle;\n",
       "    }\n",
       "\n",
       "    .dataframe tbody tr th {\n",
       "        vertical-align: top;\n",
       "    }\n",
       "\n",
       "    .dataframe thead th {\n",
       "        text-align: right;\n",
       "    }\n",
       "</style>\n",
       "<table border=\"1\" class=\"dataframe\">\n",
       "  <thead>\n",
       "    <tr style=\"text-align: right;\">\n",
       "      <th></th>\n",
       "      <th></th>\n",
       "      <th></th>\n",
       "      <th>count_respond</th>\n",
       "    </tr>\n",
       "    <tr>\n",
       "      <th>customer_id</th>\n",
       "      <th>campaign</th>\n",
       "      <th>y</th>\n",
       "      <th></th>\n",
       "    </tr>\n",
       "  </thead>\n",
       "  <tbody>\n",
       "    <tr>\n",
       "      <th>17_student_single_basic.9y_unknown_unknown</th>\n",
       "      <th>2</th>\n",
       "      <th>yes</th>\n",
       "      <td>1</td>\n",
       "    </tr>\n",
       "    <tr>\n",
       "      <th>17_student_single_unknown_no_yes</th>\n",
       "      <th>1</th>\n",
       "      <th>yes</th>\n",
       "      <td>1</td>\n",
       "    </tr>\n",
       "    <tr>\n",
       "      <th>18_student_single_basic.4y_yes_no</th>\n",
       "      <th>1</th>\n",
       "      <th>yes</th>\n",
       "      <td>1</td>\n",
       "    </tr>\n",
       "    <tr>\n",
       "      <th>18_student_single_basic.6y_no_yes</th>\n",
       "      <th>2</th>\n",
       "      <th>yes</th>\n",
       "      <td>1</td>\n",
       "    </tr>\n",
       "    <tr>\n",
       "      <th>18_student_single_basic.9y_no_no</th>\n",
       "      <th>2</th>\n",
       "      <th>yes</th>\n",
       "      <td>1</td>\n",
       "    </tr>\n",
       "  </tbody>\n",
       "</table>\n",
       "</div>"
      ],
      "text/plain": [
       "                                                         count_respond\n",
       "customer_id                                campaign y                 \n",
       "17_student_single_basic.9y_unknown_unknown 2        yes              1\n",
       "17_student_single_unknown_no_yes           1        yes              1\n",
       "18_student_single_basic.4y_yes_no          1        yes              1\n",
       "18_student_single_basic.6y_no_yes          2        yes              1\n",
       "18_student_single_basic.9y_no_no           2        yes              1"
      ]
     },
     "execution_count": 9,
     "metadata": {},
     "output_type": "execute_result"
    }
   ],
   "source": [
    "# Find the number of row by customer_id, campaign, and y.\n",
    "campaign_respond_count = pd.DataFrame(df.groupby([\"customer_id\", \"campaign\", \"y\"]).size())\n",
    "\n",
    "# Rename the result column into `count_respond`\n",
    "campaign_respond_count.rename(columns={0:\"count_respond\"}, inplace=True)\n",
    "\n",
    "# Only get the result where y = yes\n",
    "campaign_respond_count = campaign_respond_count.loc[(slice(None), slice(None), \"yes\"), :]\n",
    "\n",
    "# Show the first 5 row\n",
    "campaign_respond_count.head()"
   ]
  },
  {
   "cell_type": "code",
   "execution_count": 10,
   "metadata": {},
   "outputs": [
    {
     "data": {
      "text/html": [
       "<div>\n",
       "<style scoped>\n",
       "    .dataframe tbody tr th:only-of-type {\n",
       "        vertical-align: middle;\n",
       "    }\n",
       "\n",
       "    .dataframe tbody tr th {\n",
       "        vertical-align: top;\n",
       "    }\n",
       "\n",
       "    .dataframe thead th {\n",
       "        text-align: right;\n",
       "    }\n",
       "</style>\n",
       "<table border=\"1\" class=\"dataframe\">\n",
       "  <thead>\n",
       "    <tr style=\"text-align: right;\">\n",
       "      <th></th>\n",
       "      <th></th>\n",
       "      <th></th>\n",
       "      <th>count_respond</th>\n",
       "      <th>contact_per_campaign</th>\n",
       "      <th>response_rate</th>\n",
       "    </tr>\n",
       "    <tr>\n",
       "      <th>customer_id</th>\n",
       "      <th>campaign</th>\n",
       "      <th>y</th>\n",
       "      <th></th>\n",
       "      <th></th>\n",
       "      <th></th>\n",
       "    </tr>\n",
       "  </thead>\n",
       "  <tbody>\n",
       "    <tr>\n",
       "      <th>17_student_single_basic.9y_unknown_unknown</th>\n",
       "      <th>2</th>\n",
       "      <th>yes</th>\n",
       "      <td>1</td>\n",
       "      <td>1</td>\n",
       "      <td>1.0</td>\n",
       "    </tr>\n",
       "    <tr>\n",
       "      <th>17_student_single_unknown_no_yes</th>\n",
       "      <th>1</th>\n",
       "      <th>yes</th>\n",
       "      <td>1</td>\n",
       "      <td>1</td>\n",
       "      <td>1.0</td>\n",
       "    </tr>\n",
       "    <tr>\n",
       "      <th>18_student_single_basic.4y_yes_no</th>\n",
       "      <th>1</th>\n",
       "      <th>yes</th>\n",
       "      <td>1</td>\n",
       "      <td>2</td>\n",
       "      <td>0.5</td>\n",
       "    </tr>\n",
       "    <tr>\n",
       "      <th>18_student_single_basic.6y_no_yes</th>\n",
       "      <th>2</th>\n",
       "      <th>yes</th>\n",
       "      <td>1</td>\n",
       "      <td>1</td>\n",
       "      <td>1.0</td>\n",
       "    </tr>\n",
       "    <tr>\n",
       "      <th>18_student_single_basic.9y_no_no</th>\n",
       "      <th>2</th>\n",
       "      <th>yes</th>\n",
       "      <td>1</td>\n",
       "      <td>1</td>\n",
       "      <td>1.0</td>\n",
       "    </tr>\n",
       "  </tbody>\n",
       "</table>\n",
       "</div>"
      ],
      "text/plain": [
       "                                                         count_respond  \\\n",
       "customer_id                                campaign y                    \n",
       "17_student_single_basic.9y_unknown_unknown 2        yes              1   \n",
       "17_student_single_unknown_no_yes           1        yes              1   \n",
       "18_student_single_basic.4y_yes_no          1        yes              1   \n",
       "18_student_single_basic.6y_no_yes          2        yes              1   \n",
       "18_student_single_basic.9y_no_no           2        yes              1   \n",
       "\n",
       "                                                         contact_per_campaign  \\\n",
       "customer_id                                campaign y                           \n",
       "17_student_single_basic.9y_unknown_unknown 2        yes                     1   \n",
       "17_student_single_unknown_no_yes           1        yes                     1   \n",
       "18_student_single_basic.4y_yes_no          1        yes                     2   \n",
       "18_student_single_basic.6y_no_yes          2        yes                     1   \n",
       "18_student_single_basic.9y_no_no           2        yes                     1   \n",
       "\n",
       "                                                         response_rate  \n",
       "customer_id                                campaign y                   \n",
       "17_student_single_basic.9y_unknown_unknown 2        yes            1.0  \n",
       "17_student_single_unknown_no_yes           1        yes            1.0  \n",
       "18_student_single_basic.4y_yes_no          1        yes            0.5  \n",
       "18_student_single_basic.6y_no_yes          2        yes            1.0  \n",
       "18_student_single_basic.9y_no_no           2        yes            1.0  "
      ]
     },
     "execution_count": 10,
     "metadata": {},
     "output_type": "execute_result"
    }
   ],
   "source": [
    "# Merge campaign_respond_count with campaign_count\n",
    "campaign_response = campaign_respond_count.merge(campaign_count, left_index=True, right_index=True)\n",
    "\n",
    "# Calculate response_rate\n",
    "campaign_response[\"response_rate\"] = campaign_response[\"count_respond\"] / campaign_response[\"contact_per_campaign\"]\n",
    "\n",
    "# Show the first 5 row\n",
    "campaign_response.head()"
   ]
  },
  {
   "cell_type": "markdown",
   "metadata": {},
   "source": [
    "Next to prepare some data:\n",
    "  1. `contact_frequency`: Frequency of contact per `customer_id`\n",
    "  2. `sum_duration_of_contact`: Sum of duration of all contact per `customer_id`\n",
    "  3. `avg_duration_of_contact`: Average of duration of all contact per `customer_id`\n",
    "  4. `campaign_engagement_cnt`: Number of unique campaign per `customer_id`"
   ]
  },
  {
   "cell_type": "code",
   "execution_count": 11,
   "metadata": {},
   "outputs": [
    {
     "data": {
      "text/html": [
       "<div>\n",
       "<style scoped>\n",
       "    .dataframe tbody tr th:only-of-type {\n",
       "        vertical-align: middle;\n",
       "    }\n",
       "\n",
       "    .dataframe tbody tr th {\n",
       "        vertical-align: top;\n",
       "    }\n",
       "\n",
       "    .dataframe thead th {\n",
       "        text-align: right;\n",
       "    }\n",
       "</style>\n",
       "<table border=\"1\" class=\"dataframe\">\n",
       "  <thead>\n",
       "    <tr style=\"text-align: right;\">\n",
       "      <th></th>\n",
       "      <th>contact_frequency</th>\n",
       "      <th>sum_duration_of_contact</th>\n",
       "      <th>avg_duration_of_contact</th>\n",
       "      <th>campaign_engagement_cnt</th>\n",
       "    </tr>\n",
       "    <tr>\n",
       "      <th>customer_id</th>\n",
       "      <th></th>\n",
       "      <th></th>\n",
       "      <th></th>\n",
       "      <th></th>\n",
       "    </tr>\n",
       "  </thead>\n",
       "  <tbody>\n",
       "    <tr>\n",
       "      <th>17_student_single_basic.9y_unknown_unknown</th>\n",
       "      <td>1</td>\n",
       "      <td>498</td>\n",
       "      <td>498.0</td>\n",
       "      <td>1</td>\n",
       "    </tr>\n",
       "    <tr>\n",
       "      <th>17_student_single_basic.9y_yes_no</th>\n",
       "      <td>2</td>\n",
       "      <td>274</td>\n",
       "      <td>137.0</td>\n",
       "      <td>2</td>\n",
       "    </tr>\n",
       "    <tr>\n",
       "      <th>17_student_single_unknown_no_yes</th>\n",
       "      <td>1</td>\n",
       "      <td>896</td>\n",
       "      <td>896.0</td>\n",
       "      <td>1</td>\n",
       "    </tr>\n",
       "    <tr>\n",
       "      <th>17_student_single_unknown_yes_no</th>\n",
       "      <td>1</td>\n",
       "      <td>432</td>\n",
       "      <td>432.0</td>\n",
       "      <td>1</td>\n",
       "    </tr>\n",
       "    <tr>\n",
       "      <th>18_student_single_basic.4y_no_no</th>\n",
       "      <td>1</td>\n",
       "      <td>108</td>\n",
       "      <td>108.0</td>\n",
       "      <td>1</td>\n",
       "    </tr>\n",
       "  </tbody>\n",
       "</table>\n",
       "</div>"
      ],
      "text/plain": [
       "                                            contact_frequency  \\\n",
       "customer_id                                                     \n",
       "17_student_single_basic.9y_unknown_unknown                  1   \n",
       "17_student_single_basic.9y_yes_no                           2   \n",
       "17_student_single_unknown_no_yes                            1   \n",
       "17_student_single_unknown_yes_no                            1   \n",
       "18_student_single_basic.4y_no_no                            1   \n",
       "\n",
       "                                            sum_duration_of_contact  \\\n",
       "customer_id                                                           \n",
       "17_student_single_basic.9y_unknown_unknown                      498   \n",
       "17_student_single_basic.9y_yes_no                               274   \n",
       "17_student_single_unknown_no_yes                                896   \n",
       "17_student_single_unknown_yes_no                                432   \n",
       "18_student_single_basic.4y_no_no                                108   \n",
       "\n",
       "                                            avg_duration_of_contact  \\\n",
       "customer_id                                                           \n",
       "17_student_single_basic.9y_unknown_unknown                    498.0   \n",
       "17_student_single_basic.9y_yes_no                             137.0   \n",
       "17_student_single_unknown_no_yes                              896.0   \n",
       "17_student_single_unknown_yes_no                              432.0   \n",
       "18_student_single_basic.4y_no_no                              108.0   \n",
       "\n",
       "                                            campaign_engagement_cnt  \n",
       "customer_id                                                          \n",
       "17_student_single_basic.9y_unknown_unknown                        1  \n",
       "17_student_single_basic.9y_yes_no                                 2  \n",
       "17_student_single_unknown_no_yes                                  1  \n",
       "17_student_single_unknown_yes_no                                  1  \n",
       "18_student_single_basic.4y_no_no                                  1  "
      ]
     },
     "execution_count": 11,
     "metadata": {},
     "output_type": "execute_result"
    }
   ],
   "source": [
    "# Aggregate data per customer_id\n",
    "customer_agg = df.groupby(\"customer_id\").agg({\"customer_id\":\"count\",\n",
    "                                              \"duration\":[\"sum\",\"mean\"],\n",
    "                                              \"campaign\":\"nunique\"\n",
    "                                              })\n",
    "\n",
    "# If multiindex, use the code below to flatten the columns\n",
    "customer_agg.columns = customer_agg.columns.get_level_values(1)\n",
    "\n",
    "# Rename the columns appropriately\n",
    "customer_agg.rename(columns={\"count\": \"contact_frequency\",\n",
    "                             \"sum\": \"sum_duration_of_contact\",\n",
    "                             \"mean\": \"avg_duration_of_contact\",\n",
    "                             \"nunique\": \"campaign_engagement_cnt\"\n",
    "                             }, inplace=True)\n",
    "\n",
    "# Show the first 5 row\n",
    "customer_agg.head()"
   ]
  },
  {
   "cell_type": "markdown",
   "metadata": {},
   "source": [
    "- Next, I want to categorize each `campaign_engagement_cnt`.\n",
    "\n",
    "- This step of labelling helps to convert a numerical variable into a categorical one.\n",
    "\n",
    "- This step is often usefull in translating data into a more digestable form, depending on business domain.\n",
    "\n",
    "- In this case, based on business domain, I want to categorize them into a new variable called `campaign_engagement_level`:\n",
    "\n",
    "|Group | Label |\n",
    "|-|-|\n",
    "|`campaign_engagement_cnt` = 1| `1 Campaign`|\n",
    "|1 < `campaign_engagement_cnt` < 5| `2-4 Campaign`|\n",
    "|`campaign_engagement_cnt` >= 5| `5+ Campaign`|"
   ]
  },
  {
   "cell_type": "code",
   "execution_count": 14,
   "metadata": {},
   "outputs": [
    {
     "data": {
      "text/html": [
       "<div>\n",
       "<style scoped>\n",
       "    .dataframe tbody tr th:only-of-type {\n",
       "        vertical-align: middle;\n",
       "    }\n",
       "\n",
       "    .dataframe tbody tr th {\n",
       "        vertical-align: top;\n",
       "    }\n",
       "\n",
       "    .dataframe thead th {\n",
       "        text-align: right;\n",
       "    }\n",
       "</style>\n",
       "<table border=\"1\" class=\"dataframe\">\n",
       "  <thead>\n",
       "    <tr style=\"text-align: right;\">\n",
       "      <th></th>\n",
       "      <th>contact_frequency</th>\n",
       "      <th>sum_duration_of_contact</th>\n",
       "      <th>avg_duration_of_contact</th>\n",
       "      <th>campaign_engagement_cnt</th>\n",
       "      <th>campaign_engagement_level</th>\n",
       "    </tr>\n",
       "    <tr>\n",
       "      <th>customer_id</th>\n",
       "      <th></th>\n",
       "      <th></th>\n",
       "      <th></th>\n",
       "      <th></th>\n",
       "      <th></th>\n",
       "    </tr>\n",
       "  </thead>\n",
       "  <tbody>\n",
       "    <tr>\n",
       "      <th>17_student_single_basic.9y_unknown_unknown</th>\n",
       "      <td>1</td>\n",
       "      <td>498</td>\n",
       "      <td>498.0</td>\n",
       "      <td>1</td>\n",
       "      <td>1 Campaign</td>\n",
       "    </tr>\n",
       "    <tr>\n",
       "      <th>17_student_single_basic.9y_yes_no</th>\n",
       "      <td>2</td>\n",
       "      <td>274</td>\n",
       "      <td>137.0</td>\n",
       "      <td>2</td>\n",
       "      <td>2-4 Campaigns</td>\n",
       "    </tr>\n",
       "    <tr>\n",
       "      <th>17_student_single_unknown_no_yes</th>\n",
       "      <td>1</td>\n",
       "      <td>896</td>\n",
       "      <td>896.0</td>\n",
       "      <td>1</td>\n",
       "      <td>1 Campaign</td>\n",
       "    </tr>\n",
       "    <tr>\n",
       "      <th>17_student_single_unknown_yes_no</th>\n",
       "      <td>1</td>\n",
       "      <td>432</td>\n",
       "      <td>432.0</td>\n",
       "      <td>1</td>\n",
       "      <td>1 Campaign</td>\n",
       "    </tr>\n",
       "    <tr>\n",
       "      <th>18_student_single_basic.4y_no_no</th>\n",
       "      <td>1</td>\n",
       "      <td>108</td>\n",
       "      <td>108.0</td>\n",
       "      <td>1</td>\n",
       "      <td>1 Campaign</td>\n",
       "    </tr>\n",
       "  </tbody>\n",
       "</table>\n",
       "</div>"
      ],
      "text/plain": [
       "                                            contact_frequency  \\\n",
       "customer_id                                                     \n",
       "17_student_single_basic.9y_unknown_unknown                  1   \n",
       "17_student_single_basic.9y_yes_no                           2   \n",
       "17_student_single_unknown_no_yes                            1   \n",
       "17_student_single_unknown_yes_no                            1   \n",
       "18_student_single_basic.4y_no_no                            1   \n",
       "\n",
       "                                            sum_duration_of_contact  \\\n",
       "customer_id                                                           \n",
       "17_student_single_basic.9y_unknown_unknown                      498   \n",
       "17_student_single_basic.9y_yes_no                               274   \n",
       "17_student_single_unknown_no_yes                                896   \n",
       "17_student_single_unknown_yes_no                                432   \n",
       "18_student_single_basic.4y_no_no                                108   \n",
       "\n",
       "                                            avg_duration_of_contact  \\\n",
       "customer_id                                                           \n",
       "17_student_single_basic.9y_unknown_unknown                    498.0   \n",
       "17_student_single_basic.9y_yes_no                             137.0   \n",
       "17_student_single_unknown_no_yes                              896.0   \n",
       "17_student_single_unknown_yes_no                              432.0   \n",
       "18_student_single_basic.4y_no_no                              108.0   \n",
       "\n",
       "                                            campaign_engagement_cnt  \\\n",
       "customer_id                                                           \n",
       "17_student_single_basic.9y_unknown_unknown                        1   \n",
       "17_student_single_basic.9y_yes_no                                 2   \n",
       "17_student_single_unknown_no_yes                                  1   \n",
       "17_student_single_unknown_yes_no                                  1   \n",
       "18_student_single_basic.4y_no_no                                  1   \n",
       "\n",
       "                                           campaign_engagement_level  \n",
       "customer_id                                                           \n",
       "17_student_single_basic.9y_unknown_unknown                1 Campaign  \n",
       "17_student_single_basic.9y_yes_no                      2-4 Campaigns  \n",
       "17_student_single_unknown_no_yes                          1 Campaign  \n",
       "17_student_single_unknown_yes_no                          1 Campaign  \n",
       "18_student_single_basic.4y_no_no                          1 Campaign  "
      ]
     },
     "execution_count": 14,
     "metadata": {},
     "output_type": "execute_result"
    }
   ],
   "source": [
    "# Label for `1 Campaign`\n",
    "customer_agg.loc[customer_agg[\"campaign_engagement_cnt\"] == 1,\"campaign_engagement_level\"] = \"1 Campaign\"\n",
    "\n",
    "# Label for `2-4 Campaign`\n",
    "customer_agg.loc[(customer_agg[\"campaign_engagement_cnt\"] > 1) & (customer_agg[\"campaign_engagement_cnt\"] < 5),\"campaign_engagement_level\"] = \"2-4 Campaigns\"\n",
    "\n",
    "# Label for `5+ Campaign`\n",
    "customer_agg.loc[customer_agg[\"campaign_engagement_cnt\"] >= 5,\"campaign_engagement_level\"] = \"5+ Campaigns\"\n",
    "\n",
    "# Check if the logic works by showing the first 5 row\n",
    "customer_agg.head()"
   ]
  },
  {
   "cell_type": "code",
   "execution_count": 15,
   "metadata": {},
   "outputs": [
    {
     "data": {
      "text/plain": [
       "campaign_engagement_level  campaign_engagement_cnt\n",
       "1 Campaign                 1                          5680\n",
       "2-4 Campaigns              2                          2234\n",
       "                           3                          1102\n",
       "                           4                           630\n",
       "5+ Campaigns               5                           362\n",
       "                           6                           213\n",
       "                           7                           138\n",
       "                           8                            67\n",
       "                           9                            24\n",
       "                           10                           14\n",
       "                           11                            2\n",
       "                           12                            1\n",
       "                           13                            2\n",
       "dtype: int64"
      ]
     },
     "execution_count": 15,
     "metadata": {},
     "output_type": "execute_result"
    }
   ],
   "source": [
    "# Sanity check the result by aggregating row count for every `campaign_engagement_level` and `campaign_engagement_cnt`\n",
    "customer_agg.groupby([\"campaign_engagement_level\", \"campaign_engagement_cnt\"]).size()"
   ]
  },
  {
   "cell_type": "markdown",
   "metadata": {},
   "source": [
    "- Now that I have 2 DataFrames for campaign response per `customer_id` (`campaign_response`) and statistics per `customer_id` (`customer_agg`), I will combine them to finally explore the distribution of the data.\n",
    "\n",
    "- Merge the two DataFrame's by `customer_id` into a new DataFrame called `campaign_merge`."
   ]
  },
  {
   "cell_type": "code",
   "execution_count": 16,
   "metadata": {},
   "outputs": [
    {
     "data": {
      "text/html": [
       "<div>\n",
       "<style scoped>\n",
       "    .dataframe tbody tr th:only-of-type {\n",
       "        vertical-align: middle;\n",
       "    }\n",
       "\n",
       "    .dataframe tbody tr th {\n",
       "        vertical-align: top;\n",
       "    }\n",
       "\n",
       "    .dataframe thead th {\n",
       "        text-align: right;\n",
       "    }\n",
       "</style>\n",
       "<table border=\"1\" class=\"dataframe\">\n",
       "  <thead>\n",
       "    <tr style=\"text-align: right;\">\n",
       "      <th></th>\n",
       "      <th></th>\n",
       "      <th></th>\n",
       "      <th>count_respond</th>\n",
       "      <th>contact_per_campaign</th>\n",
       "      <th>response_rate</th>\n",
       "      <th>contact_frequency</th>\n",
       "      <th>sum_duration_of_contact</th>\n",
       "      <th>avg_duration_of_contact</th>\n",
       "      <th>campaign_engagement_cnt</th>\n",
       "      <th>campaign_engagement_level</th>\n",
       "    </tr>\n",
       "    <tr>\n",
       "      <th>customer_id</th>\n",
       "      <th>campaign</th>\n",
       "      <th>y</th>\n",
       "      <th></th>\n",
       "      <th></th>\n",
       "      <th></th>\n",
       "      <th></th>\n",
       "      <th></th>\n",
       "      <th></th>\n",
       "      <th></th>\n",
       "      <th></th>\n",
       "    </tr>\n",
       "  </thead>\n",
       "  <tbody>\n",
       "    <tr>\n",
       "      <th>17_student_single_basic.9y_unknown_unknown</th>\n",
       "      <th>2</th>\n",
       "      <th>yes</th>\n",
       "      <td>1</td>\n",
       "      <td>1</td>\n",
       "      <td>1.0</td>\n",
       "      <td>1</td>\n",
       "      <td>498</td>\n",
       "      <td>498.0</td>\n",
       "      <td>1</td>\n",
       "      <td>1 Campaign</td>\n",
       "    </tr>\n",
       "    <tr>\n",
       "      <th>17_student_single_unknown_no_yes</th>\n",
       "      <th>1</th>\n",
       "      <th>yes</th>\n",
       "      <td>1</td>\n",
       "      <td>1</td>\n",
       "      <td>1.0</td>\n",
       "      <td>1</td>\n",
       "      <td>896</td>\n",
       "      <td>896.0</td>\n",
       "      <td>1</td>\n",
       "      <td>1 Campaign</td>\n",
       "    </tr>\n",
       "    <tr>\n",
       "      <th>18_student_single_basic.4y_yes_no</th>\n",
       "      <th>1</th>\n",
       "      <th>yes</th>\n",
       "      <td>1</td>\n",
       "      <td>2</td>\n",
       "      <td>0.5</td>\n",
       "      <td>2</td>\n",
       "      <td>548</td>\n",
       "      <td>274.0</td>\n",
       "      <td>1</td>\n",
       "      <td>1 Campaign</td>\n",
       "    </tr>\n",
       "    <tr>\n",
       "      <th>18_student_single_basic.6y_no_yes</th>\n",
       "      <th>2</th>\n",
       "      <th>yes</th>\n",
       "      <td>1</td>\n",
       "      <td>1</td>\n",
       "      <td>1.0</td>\n",
       "      <td>1</td>\n",
       "      <td>368</td>\n",
       "      <td>368.0</td>\n",
       "      <td>1</td>\n",
       "      <td>1 Campaign</td>\n",
       "    </tr>\n",
       "    <tr>\n",
       "      <th>18_student_single_basic.9y_no_no</th>\n",
       "      <th>2</th>\n",
       "      <th>yes</th>\n",
       "      <td>1</td>\n",
       "      <td>1</td>\n",
       "      <td>1.0</td>\n",
       "      <td>1</td>\n",
       "      <td>412</td>\n",
       "      <td>412.0</td>\n",
       "      <td>1</td>\n",
       "      <td>1 Campaign</td>\n",
       "    </tr>\n",
       "  </tbody>\n",
       "</table>\n",
       "</div>"
      ],
      "text/plain": [
       "                                                         count_respond  \\\n",
       "customer_id                                campaign y                    \n",
       "17_student_single_basic.9y_unknown_unknown 2        yes              1   \n",
       "17_student_single_unknown_no_yes           1        yes              1   \n",
       "18_student_single_basic.4y_yes_no          1        yes              1   \n",
       "18_student_single_basic.6y_no_yes          2        yes              1   \n",
       "18_student_single_basic.9y_no_no           2        yes              1   \n",
       "\n",
       "                                                         contact_per_campaign  \\\n",
       "customer_id                                campaign y                           \n",
       "17_student_single_basic.9y_unknown_unknown 2        yes                     1   \n",
       "17_student_single_unknown_no_yes           1        yes                     1   \n",
       "18_student_single_basic.4y_yes_no          1        yes                     2   \n",
       "18_student_single_basic.6y_no_yes          2        yes                     1   \n",
       "18_student_single_basic.9y_no_no           2        yes                     1   \n",
       "\n",
       "                                                         response_rate  \\\n",
       "customer_id                                campaign y                    \n",
       "17_student_single_basic.9y_unknown_unknown 2        yes            1.0   \n",
       "17_student_single_unknown_no_yes           1        yes            1.0   \n",
       "18_student_single_basic.4y_yes_no          1        yes            0.5   \n",
       "18_student_single_basic.6y_no_yes          2        yes            1.0   \n",
       "18_student_single_basic.9y_no_no           2        yes            1.0   \n",
       "\n",
       "                                                         contact_frequency  \\\n",
       "customer_id                                campaign y                        \n",
       "17_student_single_basic.9y_unknown_unknown 2        yes                  1   \n",
       "17_student_single_unknown_no_yes           1        yes                  1   \n",
       "18_student_single_basic.4y_yes_no          1        yes                  2   \n",
       "18_student_single_basic.6y_no_yes          2        yes                  1   \n",
       "18_student_single_basic.9y_no_no           2        yes                  1   \n",
       "\n",
       "                                                         sum_duration_of_contact  \\\n",
       "customer_id                                campaign y                              \n",
       "17_student_single_basic.9y_unknown_unknown 2        yes                      498   \n",
       "17_student_single_unknown_no_yes           1        yes                      896   \n",
       "18_student_single_basic.4y_yes_no          1        yes                      548   \n",
       "18_student_single_basic.6y_no_yes          2        yes                      368   \n",
       "18_student_single_basic.9y_no_no           2        yes                      412   \n",
       "\n",
       "                                                         avg_duration_of_contact  \\\n",
       "customer_id                                campaign y                              \n",
       "17_student_single_basic.9y_unknown_unknown 2        yes                    498.0   \n",
       "17_student_single_unknown_no_yes           1        yes                    896.0   \n",
       "18_student_single_basic.4y_yes_no          1        yes                    274.0   \n",
       "18_student_single_basic.6y_no_yes          2        yes                    368.0   \n",
       "18_student_single_basic.9y_no_no           2        yes                    412.0   \n",
       "\n",
       "                                                         campaign_engagement_cnt  \\\n",
       "customer_id                                campaign y                              \n",
       "17_student_single_basic.9y_unknown_unknown 2        yes                        1   \n",
       "17_student_single_unknown_no_yes           1        yes                        1   \n",
       "18_student_single_basic.4y_yes_no          1        yes                        1   \n",
       "18_student_single_basic.6y_no_yes          2        yes                        1   \n",
       "18_student_single_basic.9y_no_no           2        yes                        1   \n",
       "\n",
       "                                                        campaign_engagement_level  \n",
       "customer_id                                campaign y                              \n",
       "17_student_single_basic.9y_unknown_unknown 2        yes                1 Campaign  \n",
       "17_student_single_unknown_no_yes           1        yes                1 Campaign  \n",
       "18_student_single_basic.4y_yes_no          1        yes                1 Campaign  \n",
       "18_student_single_basic.6y_no_yes          2        yes                1 Campaign  \n",
       "18_student_single_basic.9y_no_no           2        yes                1 Campaign  "
      ]
     },
     "execution_count": 16,
     "metadata": {},
     "output_type": "execute_result"
    }
   ],
   "source": [
    "campaign_merge = campaign_response.merge(customer_agg, how=\"inner\", left_index=True, right_index=True)\n",
    "campaign_merge.head()"
   ]
  },
  {
   "cell_type": "markdown",
   "metadata": {},
   "source": [
    "- Now I want to check the distribution.\n",
    "\n",
    "- Aggregate these values:\n",
    "  - minimum\n",
    "  - average\n",
    "  - maximum\n",
    "  - 25th percentile\n",
    "  - 50th percentile\n",
    "  - 75th percentile\n",
    "  - 95th percentile"
   ]
  },
  {
   "cell_type": "code",
   "execution_count": 17,
   "metadata": {},
   "outputs": [],
   "source": [
    "# Defining function for 25th Percentile\n",
    "def p25(x):\n",
    "    return np.percentile(x,0.25)\n",
    "\n",
    "\n",
    "# Defining function for 50th Percentile\n",
    "def p50(x):\n",
    "    return np.percentile(x,0.5)\n",
    "\n",
    "\n",
    "# Defining function for 75th Percentile\n",
    "def p75(x):\n",
    "    return np.percentile(x,0.75)\n",
    "\n",
    "\n",
    "# Defining function for 95th Percentile\n",
    "def p95(x):\n",
    "    return np.percentile(x,0.95)"
   ]
  },
  {
   "cell_type": "code",
   "execution_count": 18,
   "metadata": {},
   "outputs": [
    {
     "data": {
      "text/html": [
       "<div>\n",
       "<style scoped>\n",
       "    .dataframe tbody tr th:only-of-type {\n",
       "        vertical-align: middle;\n",
       "    }\n",
       "\n",
       "    .dataframe tbody tr th {\n",
       "        vertical-align: top;\n",
       "    }\n",
       "\n",
       "    .dataframe thead th {\n",
       "        text-align: right;\n",
       "    }\n",
       "</style>\n",
       "<table border=\"1\" class=\"dataframe\">\n",
       "  <thead>\n",
       "    <tr style=\"text-align: right;\">\n",
       "      <th></th>\n",
       "      <th>campaign_engagement_level</th>\n",
       "      <th>min</th>\n",
       "      <th>mean</th>\n",
       "      <th>max</th>\n",
       "      <th>p25</th>\n",
       "      <th>p50</th>\n",
       "      <th>p75</th>\n",
       "      <th>p95</th>\n",
       "    </tr>\n",
       "  </thead>\n",
       "  <tbody>\n",
       "    <tr>\n",
       "      <th>0</th>\n",
       "      <td>1 Campaign</td>\n",
       "      <td>0.166667</td>\n",
       "      <td>0.880680</td>\n",
       "      <td>1.0</td>\n",
       "      <td>0.200000</td>\n",
       "      <td>0.250000</td>\n",
       "      <td>0.250000</td>\n",
       "      <td>0.250000</td>\n",
       "    </tr>\n",
       "    <tr>\n",
       "      <th>1</th>\n",
       "      <td>2-4 Campaigns</td>\n",
       "      <td>0.071429</td>\n",
       "      <td>0.661390</td>\n",
       "      <td>1.0</td>\n",
       "      <td>0.090909</td>\n",
       "      <td>0.100000</td>\n",
       "      <td>0.111111</td>\n",
       "      <td>0.111111</td>\n",
       "    </tr>\n",
       "    <tr>\n",
       "      <th>2</th>\n",
       "      <td>5+ Campaigns</td>\n",
       "      <td>0.038462</td>\n",
       "      <td>0.371066</td>\n",
       "      <td>1.0</td>\n",
       "      <td>0.047608</td>\n",
       "      <td>0.049976</td>\n",
       "      <td>0.050000</td>\n",
       "      <td>0.052632</td>\n",
       "    </tr>\n",
       "  </tbody>\n",
       "</table>\n",
       "</div>"
      ],
      "text/plain": [
       "  campaign_engagement_level       min      mean  max       p25       p50  \\\n",
       "0                1 Campaign  0.166667  0.880680  1.0  0.200000  0.250000   \n",
       "1             2-4 Campaigns  0.071429  0.661390  1.0  0.090909  0.100000   \n",
       "2              5+ Campaigns  0.038462  0.371066  1.0  0.047608  0.049976   \n",
       "\n",
       "        p75       p95  \n",
       "0  0.250000  0.250000  \n",
       "1  0.111111  0.111111  \n",
       "2  0.050000  0.052632  "
      ]
     },
     "execution_count": 18,
     "metadata": {},
     "output_type": "execute_result"
    }
   ],
   "source": [
    "# Calculate distribution statistics for response_rate per campaign_engagement_level\n",
    "campaign_engagement_level = campaign_merge.groupby(\"campaign_engagement_level\").agg({\"response_rate\": [\"min\", \"mean\", \"max\", p25, p50, p75, p95]})\n",
    "\n",
    "# Flatten multiindex column\n",
    "campaign_engagement_level.columns = campaign_engagement_level.columns.get_level_values(1)\n",
    "\n",
    "# Reset index\n",
    "campaign_engagement_level.reset_index(inplace=True)\n",
    "\n",
    "# Show the result\n",
    "campaign_engagement_level"
   ]
  },
  {
   "cell_type": "markdown",
   "metadata": {},
   "source": [
    "1. Which campaign engagement level has a better chance of response?\n",
    "- 1 Campaign: This level has the **highest** mean response rate (0.880680), suggesting that customers who were engaged with **only one campaign** have the **highest likelihood of responding**.\n",
    "- 2-4 Campaigns: This level has a **moderate** mean response rate (0.661390), indicating a **decent chance of response** but not as high as the 1 Campaign level.\n",
    "- 5+ Campaigns: This level has the **lowest** mean response rate (0.371066), indicating that **customers engaged with more than five campaigns have the least likelihood** of responding.  \n",
    "\n",
    "  \n",
    "2. Which campaign engagement level has a skewed distribution?  \n",
    "    To determine the skewness of the distribution, we can look at the difference between the mean and median (p50):\n",
    "\n",
    "-  1 Campaign:\n",
    "\n",
    "    - **Mean:** 0.880680\n",
    "    - **Median (p50):** 0.250000\n",
    "    - **Difference:** 0.630680 (indicating a **positive skew**, with the mean being **much higher** than the median)\n",
    "\n",
    "- 2-4 Campaigns:\n",
    "\n",
    "    - **Mean:** 0.661390\n",
    "    - **Median (p50):** 0.100000\n",
    "    - **Difference:** 0.561390 (indicating a **positive skew**, with the mean being **higher** than the median)\n",
    "\n",
    "- 5+ Campaigns:\n",
    "\n",
    "    - **Mean:** 0.371066\n",
    "    - **Median (p50):** 0.049976\n",
    "    - **Difference:** 0.321090 (indicating a **positive skew**, but **less pronounced** than the other levels)\n",
    "\n",
    "The **1 Campaign** level has the most skewed distribution, as indicated by the largest difference between the mean and median. This suggests that while the average response rate is high, there is a significant portion of customers with much lower response rates, creating a positively skewed distribution."
   ]
  },
  {
   "cell_type": "code",
   "execution_count": 19,
   "metadata": {},
   "outputs": [
    {
     "data": {
      "text/html": [
       "<div>\n",
       "<style scoped>\n",
       "    .dataframe tbody tr th:only-of-type {\n",
       "        vertical-align: middle;\n",
       "    }\n",
       "\n",
       "    .dataframe tbody tr th {\n",
       "        vertical-align: top;\n",
       "    }\n",
       "\n",
       "    .dataframe thead th {\n",
       "        text-align: right;\n",
       "    }\n",
       "</style>\n",
       "<table border=\"1\" class=\"dataframe\">\n",
       "  <thead>\n",
       "    <tr style=\"text-align: right;\">\n",
       "      <th></th>\n",
       "      <th>campaign_engagement_level</th>\n",
       "      <th>variable</th>\n",
       "      <th>value</th>\n",
       "    </tr>\n",
       "  </thead>\n",
       "  <tbody>\n",
       "    <tr>\n",
       "      <th>0</th>\n",
       "      <td>1 Campaign</td>\n",
       "      <td>min</td>\n",
       "      <td>0.166667</td>\n",
       "    </tr>\n",
       "    <tr>\n",
       "      <th>1</th>\n",
       "      <td>2-4 Campaigns</td>\n",
       "      <td>min</td>\n",
       "      <td>0.071429</td>\n",
       "    </tr>\n",
       "    <tr>\n",
       "      <th>2</th>\n",
       "      <td>5+ Campaigns</td>\n",
       "      <td>min</td>\n",
       "      <td>0.038462</td>\n",
       "    </tr>\n",
       "    <tr>\n",
       "      <th>3</th>\n",
       "      <td>1 Campaign</td>\n",
       "      <td>mean</td>\n",
       "      <td>0.880680</td>\n",
       "    </tr>\n",
       "    <tr>\n",
       "      <th>4</th>\n",
       "      <td>2-4 Campaigns</td>\n",
       "      <td>mean</td>\n",
       "      <td>0.661390</td>\n",
       "    </tr>\n",
       "    <tr>\n",
       "      <th>5</th>\n",
       "      <td>5+ Campaigns</td>\n",
       "      <td>mean</td>\n",
       "      <td>0.371066</td>\n",
       "    </tr>\n",
       "    <tr>\n",
       "      <th>6</th>\n",
       "      <td>1 Campaign</td>\n",
       "      <td>max</td>\n",
       "      <td>1.000000</td>\n",
       "    </tr>\n",
       "    <tr>\n",
       "      <th>7</th>\n",
       "      <td>2-4 Campaigns</td>\n",
       "      <td>max</td>\n",
       "      <td>1.000000</td>\n",
       "    </tr>\n",
       "    <tr>\n",
       "      <th>8</th>\n",
       "      <td>5+ Campaigns</td>\n",
       "      <td>max</td>\n",
       "      <td>1.000000</td>\n",
       "    </tr>\n",
       "    <tr>\n",
       "      <th>9</th>\n",
       "      <td>1 Campaign</td>\n",
       "      <td>p25</td>\n",
       "      <td>0.200000</td>\n",
       "    </tr>\n",
       "  </tbody>\n",
       "</table>\n",
       "</div>"
      ],
      "text/plain": [
       "  campaign_engagement_level variable     value\n",
       "0                1 Campaign      min  0.166667\n",
       "1             2-4 Campaigns      min  0.071429\n",
       "2              5+ Campaigns      min  0.038462\n",
       "3                1 Campaign     mean  0.880680\n",
       "4             2-4 Campaigns     mean  0.661390\n",
       "5              5+ Campaigns     mean  0.371066\n",
       "6                1 Campaign      max  1.000000\n",
       "7             2-4 Campaigns      max  1.000000\n",
       "8              5+ Campaigns      max  1.000000\n",
       "9                1 Campaign      p25  0.200000"
      ]
     },
     "execution_count": 19,
     "metadata": {},
     "output_type": "execute_result"
    }
   ],
   "source": [
    "# Melt the previous DataFrame and save it into a new DataFrame called campaign_engagement_melt\n",
    "\n",
    "campaign_engagement_melt = pd.melt(campaign_engagement_level, id_vars=[\"campaign_engagement_level\"], value_vars=[\"min\", \"mean\", \"max\", \"p25\", \"p50\", \"p75\", \"p95\"])\n",
    "campaign_engagement_melt.head(10)"
   ]
  },
  {
   "cell_type": "code",
   "execution_count": 20,
   "metadata": {},
   "outputs": [
    {
     "data": {
      "application/vnd.plotly.v1+json": {
       "config": {
        "plotlyServerURL": "https://plot.ly"
       },
       "data": [
        {
         "alignmentgroup": "True",
         "hovertemplate": "variable=min<br>Campaign Engagement Level=%{x}<br>Response Rate=%{y}<extra></extra>",
         "legendgroup": "min",
         "marker": {
          "color": "#636efa",
          "pattern": {
           "shape": ""
          }
         },
         "name": "min",
         "offsetgroup": "min",
         "orientation": "v",
         "showlegend": true,
         "textposition": "auto",
         "type": "bar",
         "x": [
          "1 Campaign",
          "2-4 Campaigns",
          "5+ Campaigns"
         ],
         "xaxis": "x",
         "y": [
          0.16666666666666666,
          0.07142857142857142,
          0.038461538461538464
         ],
         "yaxis": "y"
        },
        {
         "alignmentgroup": "True",
         "hovertemplate": "variable=mean<br>Campaign Engagement Level=%{x}<br>Response Rate=%{y}<extra></extra>",
         "legendgroup": "mean",
         "marker": {
          "color": "#EF553B",
          "pattern": {
           "shape": ""
          }
         },
         "name": "mean",
         "offsetgroup": "mean",
         "orientation": "v",
         "showlegend": true,
         "textposition": "auto",
         "type": "bar",
         "x": [
          "1 Campaign",
          "2-4 Campaigns",
          "5+ Campaigns"
         ],
         "xaxis": "x2",
         "y": [
          0.880680031446541,
          0.6613903315095152,
          0.3710663385508341
         ],
         "yaxis": "y2"
        },
        {
         "alignmentgroup": "True",
         "hovertemplate": "variable=max<br>Campaign Engagement Level=%{x}<br>Response Rate=%{y}<extra></extra>",
         "legendgroup": "max",
         "marker": {
          "color": "#00cc96",
          "pattern": {
           "shape": ""
          }
         },
         "name": "max",
         "offsetgroup": "max",
         "orientation": "v",
         "showlegend": true,
         "textposition": "auto",
         "type": "bar",
         "x": [
          "1 Campaign",
          "2-4 Campaigns",
          "5+ Campaigns"
         ],
         "xaxis": "x3",
         "y": [
          1,
          1,
          1
         ],
         "yaxis": "y3"
        },
        {
         "alignmentgroup": "True",
         "hovertemplate": "variable=p25<br>Campaign Engagement Level=%{x}<br>Response Rate=%{y}<extra></extra>",
         "legendgroup": "p25",
         "marker": {
          "color": "#ab63fa",
          "pattern": {
           "shape": ""
          }
         },
         "name": "p25",
         "offsetgroup": "p25",
         "orientation": "v",
         "showlegend": true,
         "textposition": "auto",
         "type": "bar",
         "x": [
          "1 Campaign",
          "2-4 Campaigns",
          "5+ Campaigns"
         ],
         "xaxis": "x4",
         "y": [
          0.2,
          0.09090909090909091,
          0.047608225108225107
         ],
         "yaxis": "y4"
        },
        {
         "alignmentgroup": "True",
         "hovertemplate": "variable=p50<br>Campaign Engagement Level=%{x}<br>Response Rate=%{y}<extra></extra>",
         "legendgroup": "p50",
         "marker": {
          "color": "#FFA15A",
          "pattern": {
           "shape": ""
          }
         },
         "name": "p50",
         "offsetgroup": "p50",
         "orientation": "v",
         "showlegend": true,
         "textposition": "auto",
         "type": "bar",
         "x": [
          "1 Campaign",
          "2-4 Campaigns",
          "5+ Campaigns"
         ],
         "xaxis": "x5",
         "y": [
          0.25,
          0.1,
          0.04997619047619048
         ],
         "yaxis": "y5"
        },
        {
         "alignmentgroup": "True",
         "hovertemplate": "variable=p75<br>Campaign Engagement Level=%{x}<br>Response Rate=%{y}<extra></extra>",
         "legendgroup": "p75",
         "marker": {
          "color": "#19d3f3",
          "pattern": {
           "shape": ""
          }
         },
         "name": "p75",
         "offsetgroup": "p75",
         "orientation": "v",
         "showlegend": true,
         "textposition": "auto",
         "type": "bar",
         "x": [
          "1 Campaign",
          "2-4 Campaigns",
          "5+ Campaigns"
         ],
         "xaxis": "x6",
         "y": [
          0.25,
          0.1111111111111111,
          0.05
         ],
         "yaxis": "y6"
        },
        {
         "alignmentgroup": "True",
         "hovertemplate": "variable=p95<br>Campaign Engagement Level=%{x}<br>Response Rate=%{y}<extra></extra>",
         "legendgroup": "p95",
         "marker": {
          "color": "#FF6692",
          "pattern": {
           "shape": ""
          }
         },
         "name": "p95",
         "offsetgroup": "p95",
         "orientation": "v",
         "showlegend": true,
         "textposition": "auto",
         "type": "bar",
         "x": [
          "1 Campaign",
          "2-4 Campaigns",
          "5+ Campaigns"
         ],
         "xaxis": "x7",
         "y": [
          0.25,
          0.1111111111111111,
          0.05263157894736842
         ],
         "yaxis": "y7"
        }
       ],
       "layout": {
        "annotations": [
         {
          "font": {},
          "showarrow": false,
          "text": "variable=min",
          "x": 0.06285714285714285,
          "xanchor": "center",
          "xref": "paper",
          "y": 1,
          "yanchor": "bottom",
          "yref": "paper"
         },
         {
          "font": {},
          "showarrow": false,
          "text": "variable=mean",
          "x": 0.20857142857142852,
          "xanchor": "center",
          "xref": "paper",
          "y": 1,
          "yanchor": "bottom",
          "yref": "paper"
         },
         {
          "font": {},
          "showarrow": false,
          "text": "variable=max",
          "x": 0.3542857142857142,
          "xanchor": "center",
          "xref": "paper",
          "y": 1,
          "yanchor": "bottom",
          "yref": "paper"
         },
         {
          "font": {},
          "showarrow": false,
          "text": "variable=p25",
          "x": 0.5,
          "xanchor": "center",
          "xref": "paper",
          "y": 1,
          "yanchor": "bottom",
          "yref": "paper"
         },
         {
          "font": {},
          "showarrow": false,
          "text": "variable=p50",
          "x": 0.6457142857142856,
          "xanchor": "center",
          "xref": "paper",
          "y": 1,
          "yanchor": "bottom",
          "yref": "paper"
         },
         {
          "font": {},
          "showarrow": false,
          "text": "variable=p75",
          "x": 0.7914285714285713,
          "xanchor": "center",
          "xref": "paper",
          "y": 1,
          "yanchor": "bottom",
          "yref": "paper"
         },
         {
          "font": {},
          "showarrow": false,
          "text": "variable=p95",
          "x": 0.9371428571428569,
          "xanchor": "center",
          "xref": "paper",
          "y": 1,
          "yanchor": "bottom",
          "yref": "paper"
         }
        ],
        "barmode": "group",
        "legend": {
         "title": {
          "text": "variable"
         },
         "tracegroupgap": 0
        },
        "template": {
         "data": {
          "bar": [
           {
            "error_x": {
             "color": "#2a3f5f"
            },
            "error_y": {
             "color": "#2a3f5f"
            },
            "marker": {
             "line": {
              "color": "#E5ECF6",
              "width": 0.5
             },
             "pattern": {
              "fillmode": "overlay",
              "size": 10,
              "solidity": 0.2
             }
            },
            "type": "bar"
           }
          ],
          "barpolar": [
           {
            "marker": {
             "line": {
              "color": "#E5ECF6",
              "width": 0.5
             },
             "pattern": {
              "fillmode": "overlay",
              "size": 10,
              "solidity": 0.2
             }
            },
            "type": "barpolar"
           }
          ],
          "carpet": [
           {
            "aaxis": {
             "endlinecolor": "#2a3f5f",
             "gridcolor": "white",
             "linecolor": "white",
             "minorgridcolor": "white",
             "startlinecolor": "#2a3f5f"
            },
            "baxis": {
             "endlinecolor": "#2a3f5f",
             "gridcolor": "white",
             "linecolor": "white",
             "minorgridcolor": "white",
             "startlinecolor": "#2a3f5f"
            },
            "type": "carpet"
           }
          ],
          "choropleth": [
           {
            "colorbar": {
             "outlinewidth": 0,
             "ticks": ""
            },
            "type": "choropleth"
           }
          ],
          "contour": [
           {
            "colorbar": {
             "outlinewidth": 0,
             "ticks": ""
            },
            "colorscale": [
             [
              0,
              "#0d0887"
             ],
             [
              0.1111111111111111,
              "#46039f"
             ],
             [
              0.2222222222222222,
              "#7201a8"
             ],
             [
              0.3333333333333333,
              "#9c179e"
             ],
             [
              0.4444444444444444,
              "#bd3786"
             ],
             [
              0.5555555555555556,
              "#d8576b"
             ],
             [
              0.6666666666666666,
              "#ed7953"
             ],
             [
              0.7777777777777778,
              "#fb9f3a"
             ],
             [
              0.8888888888888888,
              "#fdca26"
             ],
             [
              1,
              "#f0f921"
             ]
            ],
            "type": "contour"
           }
          ],
          "contourcarpet": [
           {
            "colorbar": {
             "outlinewidth": 0,
             "ticks": ""
            },
            "type": "contourcarpet"
           }
          ],
          "heatmap": [
           {
            "colorbar": {
             "outlinewidth": 0,
             "ticks": ""
            },
            "colorscale": [
             [
              0,
              "#0d0887"
             ],
             [
              0.1111111111111111,
              "#46039f"
             ],
             [
              0.2222222222222222,
              "#7201a8"
             ],
             [
              0.3333333333333333,
              "#9c179e"
             ],
             [
              0.4444444444444444,
              "#bd3786"
             ],
             [
              0.5555555555555556,
              "#d8576b"
             ],
             [
              0.6666666666666666,
              "#ed7953"
             ],
             [
              0.7777777777777778,
              "#fb9f3a"
             ],
             [
              0.8888888888888888,
              "#fdca26"
             ],
             [
              1,
              "#f0f921"
             ]
            ],
            "type": "heatmap"
           }
          ],
          "heatmapgl": [
           {
            "colorbar": {
             "outlinewidth": 0,
             "ticks": ""
            },
            "colorscale": [
             [
              0,
              "#0d0887"
             ],
             [
              0.1111111111111111,
              "#46039f"
             ],
             [
              0.2222222222222222,
              "#7201a8"
             ],
             [
              0.3333333333333333,
              "#9c179e"
             ],
             [
              0.4444444444444444,
              "#bd3786"
             ],
             [
              0.5555555555555556,
              "#d8576b"
             ],
             [
              0.6666666666666666,
              "#ed7953"
             ],
             [
              0.7777777777777778,
              "#fb9f3a"
             ],
             [
              0.8888888888888888,
              "#fdca26"
             ],
             [
              1,
              "#f0f921"
             ]
            ],
            "type": "heatmapgl"
           }
          ],
          "histogram": [
           {
            "marker": {
             "pattern": {
              "fillmode": "overlay",
              "size": 10,
              "solidity": 0.2
             }
            },
            "type": "histogram"
           }
          ],
          "histogram2d": [
           {
            "colorbar": {
             "outlinewidth": 0,
             "ticks": ""
            },
            "colorscale": [
             [
              0,
              "#0d0887"
             ],
             [
              0.1111111111111111,
              "#46039f"
             ],
             [
              0.2222222222222222,
              "#7201a8"
             ],
             [
              0.3333333333333333,
              "#9c179e"
             ],
             [
              0.4444444444444444,
              "#bd3786"
             ],
             [
              0.5555555555555556,
              "#d8576b"
             ],
             [
              0.6666666666666666,
              "#ed7953"
             ],
             [
              0.7777777777777778,
              "#fb9f3a"
             ],
             [
              0.8888888888888888,
              "#fdca26"
             ],
             [
              1,
              "#f0f921"
             ]
            ],
            "type": "histogram2d"
           }
          ],
          "histogram2dcontour": [
           {
            "colorbar": {
             "outlinewidth": 0,
             "ticks": ""
            },
            "colorscale": [
             [
              0,
              "#0d0887"
             ],
             [
              0.1111111111111111,
              "#46039f"
             ],
             [
              0.2222222222222222,
              "#7201a8"
             ],
             [
              0.3333333333333333,
              "#9c179e"
             ],
             [
              0.4444444444444444,
              "#bd3786"
             ],
             [
              0.5555555555555556,
              "#d8576b"
             ],
             [
              0.6666666666666666,
              "#ed7953"
             ],
             [
              0.7777777777777778,
              "#fb9f3a"
             ],
             [
              0.8888888888888888,
              "#fdca26"
             ],
             [
              1,
              "#f0f921"
             ]
            ],
            "type": "histogram2dcontour"
           }
          ],
          "mesh3d": [
           {
            "colorbar": {
             "outlinewidth": 0,
             "ticks": ""
            },
            "type": "mesh3d"
           }
          ],
          "parcoords": [
           {
            "line": {
             "colorbar": {
              "outlinewidth": 0,
              "ticks": ""
             }
            },
            "type": "parcoords"
           }
          ],
          "pie": [
           {
            "automargin": true,
            "type": "pie"
           }
          ],
          "scatter": [
           {
            "fillpattern": {
             "fillmode": "overlay",
             "size": 10,
             "solidity": 0.2
            },
            "type": "scatter"
           }
          ],
          "scatter3d": [
           {
            "line": {
             "colorbar": {
              "outlinewidth": 0,
              "ticks": ""
             }
            },
            "marker": {
             "colorbar": {
              "outlinewidth": 0,
              "ticks": ""
             }
            },
            "type": "scatter3d"
           }
          ],
          "scattercarpet": [
           {
            "marker": {
             "colorbar": {
              "outlinewidth": 0,
              "ticks": ""
             }
            },
            "type": "scattercarpet"
           }
          ],
          "scattergeo": [
           {
            "marker": {
             "colorbar": {
              "outlinewidth": 0,
              "ticks": ""
             }
            },
            "type": "scattergeo"
           }
          ],
          "scattergl": [
           {
            "marker": {
             "colorbar": {
              "outlinewidth": 0,
              "ticks": ""
             }
            },
            "type": "scattergl"
           }
          ],
          "scattermapbox": [
           {
            "marker": {
             "colorbar": {
              "outlinewidth": 0,
              "ticks": ""
             }
            },
            "type": "scattermapbox"
           }
          ],
          "scatterpolar": [
           {
            "marker": {
             "colorbar": {
              "outlinewidth": 0,
              "ticks": ""
             }
            },
            "type": "scatterpolar"
           }
          ],
          "scatterpolargl": [
           {
            "marker": {
             "colorbar": {
              "outlinewidth": 0,
              "ticks": ""
             }
            },
            "type": "scatterpolargl"
           }
          ],
          "scatterternary": [
           {
            "marker": {
             "colorbar": {
              "outlinewidth": 0,
              "ticks": ""
             }
            },
            "type": "scatterternary"
           }
          ],
          "surface": [
           {
            "colorbar": {
             "outlinewidth": 0,
             "ticks": ""
            },
            "colorscale": [
             [
              0,
              "#0d0887"
             ],
             [
              0.1111111111111111,
              "#46039f"
             ],
             [
              0.2222222222222222,
              "#7201a8"
             ],
             [
              0.3333333333333333,
              "#9c179e"
             ],
             [
              0.4444444444444444,
              "#bd3786"
             ],
             [
              0.5555555555555556,
              "#d8576b"
             ],
             [
              0.6666666666666666,
              "#ed7953"
             ],
             [
              0.7777777777777778,
              "#fb9f3a"
             ],
             [
              0.8888888888888888,
              "#fdca26"
             ],
             [
              1,
              "#f0f921"
             ]
            ],
            "type": "surface"
           }
          ],
          "table": [
           {
            "cells": {
             "fill": {
              "color": "#EBF0F8"
             },
             "line": {
              "color": "white"
             }
            },
            "header": {
             "fill": {
              "color": "#C8D4E3"
             },
             "line": {
              "color": "white"
             }
            },
            "type": "table"
           }
          ]
         },
         "layout": {
          "annotationdefaults": {
           "arrowcolor": "#2a3f5f",
           "arrowhead": 0,
           "arrowwidth": 1
          },
          "autotypenumbers": "strict",
          "coloraxis": {
           "colorbar": {
            "outlinewidth": 0,
            "ticks": ""
           }
          },
          "colorscale": {
           "diverging": [
            [
             0,
             "#8e0152"
            ],
            [
             0.1,
             "#c51b7d"
            ],
            [
             0.2,
             "#de77ae"
            ],
            [
             0.3,
             "#f1b6da"
            ],
            [
             0.4,
             "#fde0ef"
            ],
            [
             0.5,
             "#f7f7f7"
            ],
            [
             0.6,
             "#e6f5d0"
            ],
            [
             0.7,
             "#b8e186"
            ],
            [
             0.8,
             "#7fbc41"
            ],
            [
             0.9,
             "#4d9221"
            ],
            [
             1,
             "#276419"
            ]
           ],
           "sequential": [
            [
             0,
             "#0d0887"
            ],
            [
             0.1111111111111111,
             "#46039f"
            ],
            [
             0.2222222222222222,
             "#7201a8"
            ],
            [
             0.3333333333333333,
             "#9c179e"
            ],
            [
             0.4444444444444444,
             "#bd3786"
            ],
            [
             0.5555555555555556,
             "#d8576b"
            ],
            [
             0.6666666666666666,
             "#ed7953"
            ],
            [
             0.7777777777777778,
             "#fb9f3a"
            ],
            [
             0.8888888888888888,
             "#fdca26"
            ],
            [
             1,
             "#f0f921"
            ]
           ],
           "sequentialminus": [
            [
             0,
             "#0d0887"
            ],
            [
             0.1111111111111111,
             "#46039f"
            ],
            [
             0.2222222222222222,
             "#7201a8"
            ],
            [
             0.3333333333333333,
             "#9c179e"
            ],
            [
             0.4444444444444444,
             "#bd3786"
            ],
            [
             0.5555555555555556,
             "#d8576b"
            ],
            [
             0.6666666666666666,
             "#ed7953"
            ],
            [
             0.7777777777777778,
             "#fb9f3a"
            ],
            [
             0.8888888888888888,
             "#fdca26"
            ],
            [
             1,
             "#f0f921"
            ]
           ]
          },
          "colorway": [
           "#636efa",
           "#EF553B",
           "#00cc96",
           "#ab63fa",
           "#FFA15A",
           "#19d3f3",
           "#FF6692",
           "#B6E880",
           "#FF97FF",
           "#FECB52"
          ],
          "font": {
           "color": "#2a3f5f"
          },
          "geo": {
           "bgcolor": "white",
           "lakecolor": "white",
           "landcolor": "#E5ECF6",
           "showlakes": true,
           "showland": true,
           "subunitcolor": "white"
          },
          "hoverlabel": {
           "align": "left"
          },
          "hovermode": "closest",
          "mapbox": {
           "style": "light"
          },
          "paper_bgcolor": "white",
          "plot_bgcolor": "#E5ECF6",
          "polar": {
           "angularaxis": {
            "gridcolor": "white",
            "linecolor": "white",
            "ticks": ""
           },
           "bgcolor": "#E5ECF6",
           "radialaxis": {
            "gridcolor": "white",
            "linecolor": "white",
            "ticks": ""
           }
          },
          "scene": {
           "xaxis": {
            "backgroundcolor": "#E5ECF6",
            "gridcolor": "white",
            "gridwidth": 2,
            "linecolor": "white",
            "showbackground": true,
            "ticks": "",
            "zerolinecolor": "white"
           },
           "yaxis": {
            "backgroundcolor": "#E5ECF6",
            "gridcolor": "white",
            "gridwidth": 2,
            "linecolor": "white",
            "showbackground": true,
            "ticks": "",
            "zerolinecolor": "white"
           },
           "zaxis": {
            "backgroundcolor": "#E5ECF6",
            "gridcolor": "white",
            "gridwidth": 2,
            "linecolor": "white",
            "showbackground": true,
            "ticks": "",
            "zerolinecolor": "white"
           }
          },
          "shapedefaults": {
           "line": {
            "color": "#2a3f5f"
           }
          },
          "ternary": {
           "aaxis": {
            "gridcolor": "white",
            "linecolor": "white",
            "ticks": ""
           },
           "baxis": {
            "gridcolor": "white",
            "linecolor": "white",
            "ticks": ""
           },
           "bgcolor": "#E5ECF6",
           "caxis": {
            "gridcolor": "white",
            "linecolor": "white",
            "ticks": ""
           }
          },
          "title": {
           "x": 0.05
          },
          "xaxis": {
           "automargin": true,
           "gridcolor": "white",
           "linecolor": "white",
           "ticks": "",
           "title": {
            "standoff": 15
           },
           "zerolinecolor": "white",
           "zerolinewidth": 2
          },
          "yaxis": {
           "automargin": true,
           "gridcolor": "white",
           "linecolor": "white",
           "ticks": "",
           "title": {
            "standoff": 15
           },
           "zerolinecolor": "white",
           "zerolinewidth": 2
          }
         }
        },
        "title": {
         "text": "Campaign Engagement Levels: Mean vs Median Response Rates"
        },
        "xaxis": {
         "anchor": "y",
         "domain": [
          0,
          0.1257142857142857
         ],
         "title": {
          "text": "Campaign Engagement Level"
         }
        },
        "xaxis2": {
         "anchor": "y2",
         "domain": [
          0.14571428571428569,
          0.27142857142857135
         ],
         "matches": "x",
         "title": {
          "text": "Campaign Engagement Level"
         }
        },
        "xaxis3": {
         "anchor": "y3",
         "domain": [
          0.29142857142857137,
          0.41714285714285704
         ],
         "matches": "x",
         "title": {
          "text": "Campaign Engagement Level"
         }
        },
        "xaxis4": {
         "anchor": "y4",
         "domain": [
          0.4371428571428571,
          0.5628571428571428
         ],
         "matches": "x",
         "title": {
          "text": "Campaign Engagement Level"
         }
        },
        "xaxis5": {
         "anchor": "y5",
         "domain": [
          0.5828571428571427,
          0.7085714285714284
         ],
         "matches": "x",
         "title": {
          "text": "Campaign Engagement Level"
         }
        },
        "xaxis6": {
         "anchor": "y6",
         "domain": [
          0.7285714285714284,
          0.8542857142857141
         ],
         "matches": "x",
         "title": {
          "text": "Campaign Engagement Level"
         }
        },
        "xaxis7": {
         "anchor": "y7",
         "domain": [
          0.8742857142857141,
          0.9999999999999998
         ],
         "matches": "x",
         "title": {
          "text": "Campaign Engagement Level"
         }
        },
        "yaxis": {
         "anchor": "x",
         "domain": [
          0,
          1
         ],
         "title": {
          "text": "Response Rate"
         }
        },
        "yaxis2": {
         "anchor": "x2",
         "domain": [
          0,
          1
         ],
         "matches": "y",
         "showticklabels": false
        },
        "yaxis3": {
         "anchor": "x3",
         "domain": [
          0,
          1
         ],
         "matches": "y",
         "showticklabels": false
        },
        "yaxis4": {
         "anchor": "x4",
         "domain": [
          0,
          1
         ],
         "matches": "y",
         "showticklabels": false
        },
        "yaxis5": {
         "anchor": "x5",
         "domain": [
          0,
          1
         ],
         "matches": "y",
         "showticklabels": false
        },
        "yaxis6": {
         "anchor": "x6",
         "domain": [
          0,
          1
         ],
         "matches": "y",
         "showticklabels": false
        },
        "yaxis7": {
         "anchor": "x7",
         "domain": [
          0,
          1
         ],
         "matches": "y",
         "showticklabels": false
        }
       }
      }
     },
     "metadata": {},
     "output_type": "display_data"
    }
   ],
   "source": [
    "# Plot using Plotly\n",
    "fig = px.bar(campaign_engagement_melt, \n",
    "             x='campaign_engagement_level', \n",
    "             y='value', \n",
    "             color='variable', \n",
    "             barmode='group',\n",
    "             facet_col='variable',\n",
    "             labels={'value': 'Response Rate', 'campaign_engagement_level': 'Campaign Engagement Level'},\n",
    "             title='Campaign Engagement Levels: Mean vs Median Response Rates')\n",
    "\n",
    "fig.show()"
   ]
  },
  {
   "cell_type": "markdown",
   "metadata": {},
   "source": [
    "## Step 2: Define Engagement Level Labels\n",
    "\n",
    "- Define engagement level labels that align with the stakeholders' objectives.\n",
    "- For example:\n",
    "  - Highly Engaged:\n",
    "    - Customers who have high contact frequency, long duration of contact, and high campaign engagement.\n",
    "  - Moderately Engaged:\n",
    "    - Customers with moderate contact frequency, duration of contact, and campaign engagement.\n",
    "  - Low Engagement:\n",
    "    - Customers with low contact frequency, short duration of contact, and low campaign engagement.\n",
    "\n",
    "\n",
    "- In this step the data team usually give insight about the distribution of the data, but the segmentation is done by multiple teams to combine as much context as possible.\n",
    "\n",
    "- The definition has been provided below through communication and deliberation with the other teams in the company."
   ]
  },
  {
   "cell_type": "code",
   "execution_count": 21,
   "metadata": {},
   "outputs": [
    {
     "data": {
      "text/html": [
       "<div>\n",
       "<style scoped>\n",
       "    .dataframe tbody tr th:only-of-type {\n",
       "        vertical-align: middle;\n",
       "    }\n",
       "\n",
       "    .dataframe tbody tr th {\n",
       "        vertical-align: top;\n",
       "    }\n",
       "\n",
       "    .dataframe thead th {\n",
       "        text-align: right;\n",
       "    }\n",
       "</style>\n",
       "<table border=\"1\" class=\"dataframe\">\n",
       "  <thead>\n",
       "    <tr style=\"text-align: right;\">\n",
       "      <th></th>\n",
       "      <th>count_respond</th>\n",
       "      <th>contact_per_campaign</th>\n",
       "      <th>response_rate</th>\n",
       "      <th>contact_frequency</th>\n",
       "      <th>sum_duration_of_contact</th>\n",
       "      <th>avg_duration_of_contact</th>\n",
       "      <th>campaign_engagement_cnt</th>\n",
       "    </tr>\n",
       "  </thead>\n",
       "  <tbody>\n",
       "    <tr>\n",
       "      <th>count</th>\n",
       "      <td>3693.000000</td>\n",
       "      <td>3693.000000</td>\n",
       "      <td>3693.000000</td>\n",
       "      <td>3693.000000</td>\n",
       "      <td>3693.000000</td>\n",
       "      <td>3693.000000</td>\n",
       "      <td>3693.000000</td>\n",
       "    </tr>\n",
       "    <tr>\n",
       "      <th>mean</th>\n",
       "      <td>1.256431</td>\n",
       "      <td>3.796913</td>\n",
       "      <td>0.617485</td>\n",
       "      <td>12.070674</td>\n",
       "      <td>3388.010019</td>\n",
       "      <td>349.944110</td>\n",
       "      <td>3.617113</td>\n",
       "    </tr>\n",
       "    <tr>\n",
       "      <th>std</th>\n",
       "      <td>0.760296</td>\n",
       "      <td>4.769829</td>\n",
       "      <td>0.352509</td>\n",
       "      <td>15.324696</td>\n",
       "      <td>3989.388900</td>\n",
       "      <td>221.040406</td>\n",
       "      <td>2.377360</td>\n",
       "    </tr>\n",
       "    <tr>\n",
       "      <th>min</th>\n",
       "      <td>1.000000</td>\n",
       "      <td>1.000000</td>\n",
       "      <td>0.038462</td>\n",
       "      <td>1.000000</td>\n",
       "      <td>63.000000</td>\n",
       "      <td>44.000000</td>\n",
       "      <td>1.000000</td>\n",
       "    </tr>\n",
       "    <tr>\n",
       "      <th>25%</th>\n",
       "      <td>1.000000</td>\n",
       "      <td>1.000000</td>\n",
       "      <td>0.285714</td>\n",
       "      <td>2.000000</td>\n",
       "      <td>774.000000</td>\n",
       "      <td>231.857143</td>\n",
       "      <td>2.000000</td>\n",
       "    </tr>\n",
       "    <tr>\n",
       "      <th>50%</th>\n",
       "      <td>1.000000</td>\n",
       "      <td>2.000000</td>\n",
       "      <td>0.500000</td>\n",
       "      <td>6.000000</td>\n",
       "      <td>1840.000000</td>\n",
       "      <td>287.000000</td>\n",
       "      <td>3.000000</td>\n",
       "    </tr>\n",
       "    <tr>\n",
       "      <th>75%</th>\n",
       "      <td>1.000000</td>\n",
       "      <td>4.000000</td>\n",
       "      <td>1.000000</td>\n",
       "      <td>17.000000</td>\n",
       "      <td>4617.000000</td>\n",
       "      <td>390.733333</td>\n",
       "      <td>5.000000</td>\n",
       "    </tr>\n",
       "    <tr>\n",
       "      <th>max</th>\n",
       "      <td>10.000000</td>\n",
       "      <td>54.000000</td>\n",
       "      <td>1.000000</td>\n",
       "      <td>114.000000</td>\n",
       "      <td>26895.000000</td>\n",
       "      <td>2926.000000</td>\n",
       "      <td>13.000000</td>\n",
       "    </tr>\n",
       "  </tbody>\n",
       "</table>\n",
       "</div>"
      ],
      "text/plain": [
       "       count_respond  contact_per_campaign  response_rate  contact_frequency  \\\n",
       "count    3693.000000           3693.000000    3693.000000        3693.000000   \n",
       "mean        1.256431              3.796913       0.617485          12.070674   \n",
       "std         0.760296              4.769829       0.352509          15.324696   \n",
       "min         1.000000              1.000000       0.038462           1.000000   \n",
       "25%         1.000000              1.000000       0.285714           2.000000   \n",
       "50%         1.000000              2.000000       0.500000           6.000000   \n",
       "75%         1.000000              4.000000       1.000000          17.000000   \n",
       "max        10.000000             54.000000       1.000000         114.000000   \n",
       "\n",
       "       sum_duration_of_contact  avg_duration_of_contact  \\\n",
       "count              3693.000000              3693.000000   \n",
       "mean               3388.010019               349.944110   \n",
       "std                3989.388900               221.040406   \n",
       "min                  63.000000                44.000000   \n",
       "25%                 774.000000               231.857143   \n",
       "50%                1840.000000               287.000000   \n",
       "75%                4617.000000               390.733333   \n",
       "max               26895.000000              2926.000000   \n",
       "\n",
       "       campaign_engagement_cnt  \n",
       "count              3693.000000  \n",
       "mean                  3.617113  \n",
       "std                   2.377360  \n",
       "min                   1.000000  \n",
       "25%                   2.000000  \n",
       "50%                   3.000000  \n",
       "75%                   5.000000  \n",
       "max                  13.000000  "
      ]
     },
     "execution_count": 21,
     "metadata": {},
     "output_type": "execute_result"
    }
   ],
   "source": [
    "# Describe numerical columns\n",
    "campaign_merge.describe()"
   ]
  },
  {
   "cell_type": "markdown",
   "metadata": {},
   "source": [
    "## Step 3: Calculate score based on threshold\n",
    "\n",
    "- To make it simple, below is the definition and the thresholds that I will need to segment every customer based on different variables.\n",
    "\n",
    "- Each will be converted to a score between `1 and 3` and later, we will combine all the composite variables into a single score based on pre-defined weight.\n",
    "\n",
    "</br>\n",
    "</br>\n",
    "\n",
    "### Contact Frequency\n",
    "\n",
    "| |Engagement Level|Threshold/Range|\n",
    "|-|-|-|\n",
    "|1|Low Engagement\t|<= 2|\n",
    "|2|Moderately Engaged\t|> 2 and <= 4|\n",
    "|3|Highly Engaged|\t> 4|\n",
    "\n",
    "\n",
    "</br>\n",
    "</br>\n",
    "\n",
    "\n",
    "### Duration of Contact\n",
    "\n",
    "| |Engagement Level|Threshold/Range|\n",
    "|-|-|-|\n",
    "|1|Low Engagement\t|<= 500|\n",
    "|2|Moderately Engaged|\t> 500 and <= 1000|\n",
    "|3|Highly Engaged|\t> 1000|\n",
    "\n",
    "\n",
    "\n",
    "</br>\n",
    "</br>\n",
    "\n",
    "\n",
    "### Average Duration of Contact\n",
    "\n",
    "| |Engagement Level|Threshold/Range|\n",
    "|-|-|-|\n",
    "|1|Low Engagement\t|<= 200|\n",
    "|2|Moderately Engaged|\t> 200 and <= 400|\n",
    "|3|Highly Engaged|\t> 400|\n",
    "\n",
    "\n",
    "\n",
    "</br>\n",
    "</br>\n",
    "\n",
    "\n",
    "### Campaign Engagement\n",
    "\n",
    "| |Engagement Level|Threshold/Range|\n",
    "|-|-|-|\n",
    "|1|Low Engagement\t|1 campaign|\n",
    "|2|Moderately Engaged|2-4 campaign|\n",
    "|3|Highly Engaged|5+ campaign|\n",
    "\n",
    "\n",
    "</br>\n",
    "</br>\n",
    "\n",
    "\n",
    "### Campaign Conversion Rate\n",
    "\n",
    "| | |Engagement Level|Threshold/Range|\n",
    "|-|-|-|-|\n",
    "|1|1 campaign|\tLow Engagement|\t<= 0.5|\n",
    "|2| |Moderately Engaged|\t> 0.5 and <= 0.75|\n",
    "|3| |Highly Engaged|\t> 0.75|\n",
    "|1|2-4 campaign|\tLow Engagement|\t<= 0.5|\n",
    "|2| |Moderately Engaged|\t> 0.5 and <= 0.75|\n",
    "|3| |Highly Engaged|\t> 0.75|\n",
    "|1|5+ campaign|\tLow Engagement|\t<= 0.25|\n",
    "|2| |Moderately Engaged|\t> 0.25 and <= 0.5|\n",
    "|3| |Highly Engaged|\t> 0.5|"
   ]
  },
  {
   "cell_type": "code",
   "execution_count": 97,
   "metadata": {},
   "outputs": [
    {
     "data": {
      "text/html": [
       "<div>\n",
       "<style scoped>\n",
       "    .dataframe tbody tr th:only-of-type {\n",
       "        vertical-align: middle;\n",
       "    }\n",
       "\n",
       "    .dataframe tbody tr th {\n",
       "        vertical-align: top;\n",
       "    }\n",
       "\n",
       "    .dataframe thead th {\n",
       "        text-align: right;\n",
       "    }\n",
       "</style>\n",
       "<table border=\"1\" class=\"dataframe\">\n",
       "  <thead>\n",
       "    <tr style=\"text-align: right;\">\n",
       "      <th></th>\n",
       "      <th>customer_id</th>\n",
       "      <th>campaign</th>\n",
       "      <th>y</th>\n",
       "      <th>count_respond</th>\n",
       "      <th>contact_per_campaign</th>\n",
       "      <th>response_rate</th>\n",
       "      <th>contact_frequency</th>\n",
       "      <th>sum_duration_of_contact</th>\n",
       "      <th>avg_duration_of_contact</th>\n",
       "      <th>campaign_engagement_cnt</th>\n",
       "      <th>campaign_engagement_level</th>\n",
       "    </tr>\n",
       "  </thead>\n",
       "  <tbody>\n",
       "    <tr>\n",
       "      <th>0</th>\n",
       "      <td>17_student_single_basic.9y_unknown_unknown</td>\n",
       "      <td>2</td>\n",
       "      <td>yes</td>\n",
       "      <td>1</td>\n",
       "      <td>1</td>\n",
       "      <td>1.0</td>\n",
       "      <td>1</td>\n",
       "      <td>498</td>\n",
       "      <td>498.0</td>\n",
       "      <td>1</td>\n",
       "      <td>1 Campaign</td>\n",
       "    </tr>\n",
       "    <tr>\n",
       "      <th>1</th>\n",
       "      <td>17_student_single_unknown_no_yes</td>\n",
       "      <td>1</td>\n",
       "      <td>yes</td>\n",
       "      <td>1</td>\n",
       "      <td>1</td>\n",
       "      <td>1.0</td>\n",
       "      <td>1</td>\n",
       "      <td>896</td>\n",
       "      <td>896.0</td>\n",
       "      <td>1</td>\n",
       "      <td>1 Campaign</td>\n",
       "    </tr>\n",
       "    <tr>\n",
       "      <th>2</th>\n",
       "      <td>18_student_single_basic.4y_yes_no</td>\n",
       "      <td>1</td>\n",
       "      <td>yes</td>\n",
       "      <td>1</td>\n",
       "      <td>2</td>\n",
       "      <td>0.5</td>\n",
       "      <td>2</td>\n",
       "      <td>548</td>\n",
       "      <td>274.0</td>\n",
       "      <td>1</td>\n",
       "      <td>1 Campaign</td>\n",
       "    </tr>\n",
       "    <tr>\n",
       "      <th>3</th>\n",
       "      <td>18_student_single_basic.6y_no_yes</td>\n",
       "      <td>2</td>\n",
       "      <td>yes</td>\n",
       "      <td>1</td>\n",
       "      <td>1</td>\n",
       "      <td>1.0</td>\n",
       "      <td>1</td>\n",
       "      <td>368</td>\n",
       "      <td>368.0</td>\n",
       "      <td>1</td>\n",
       "      <td>1 Campaign</td>\n",
       "    </tr>\n",
       "    <tr>\n",
       "      <th>4</th>\n",
       "      <td>18_student_single_basic.9y_no_no</td>\n",
       "      <td>2</td>\n",
       "      <td>yes</td>\n",
       "      <td>1</td>\n",
       "      <td>1</td>\n",
       "      <td>1.0</td>\n",
       "      <td>1</td>\n",
       "      <td>412</td>\n",
       "      <td>412.0</td>\n",
       "      <td>1</td>\n",
       "      <td>1 Campaign</td>\n",
       "    </tr>\n",
       "  </tbody>\n",
       "</table>\n",
       "</div>"
      ],
      "text/plain": [
       "                                  customer_id  campaign    y  count_respond  \\\n",
       "0  17_student_single_basic.9y_unknown_unknown         2  yes              1   \n",
       "1            17_student_single_unknown_no_yes         1  yes              1   \n",
       "2           18_student_single_basic.4y_yes_no         1  yes              1   \n",
       "3           18_student_single_basic.6y_no_yes         2  yes              1   \n",
       "4            18_student_single_basic.9y_no_no         2  yes              1   \n",
       "\n",
       "   contact_per_campaign  response_rate  contact_frequency  \\\n",
       "0                     1            1.0                  1   \n",
       "1                     1            1.0                  1   \n",
       "2                     2            0.5                  2   \n",
       "3                     1            1.0                  1   \n",
       "4                     1            1.0                  1   \n",
       "\n",
       "   sum_duration_of_contact  avg_duration_of_contact  campaign_engagement_cnt  \\\n",
       "0                      498                    498.0                        1   \n",
       "1                      896                    896.0                        1   \n",
       "2                      548                    274.0                        1   \n",
       "3                      368                    368.0                        1   \n",
       "4                      412                    412.0                        1   \n",
       "\n",
       "  campaign_engagement_level  \n",
       "0                1 Campaign  \n",
       "1                1 Campaign  \n",
       "2                1 Campaign  \n",
       "3                1 Campaign  \n",
       "4                1 Campaign  "
      ]
     },
     "execution_count": 97,
     "metadata": {},
     "output_type": "execute_result"
    }
   ],
   "source": [
    "# copy campaign_merge into a new DataFrame called campaign_score\n",
    "campaign_score = campaign_merge.copy()\n",
    "\n",
    "# reset index\n",
    "campaign_score.reset_index(inplace=True)\n",
    "\n",
    "# show first 5 rows\n",
    "campaign_score.head()"
   ]
  },
  {
   "cell_type": "markdown",
   "metadata": {},
   "source": [
    "Before I move on, I want to collect the median `response_rate` per `customer_id` and put it into a new column called `campaign_rate_per_customer`"
   ]
  },
  {
   "cell_type": "code",
   "execution_count": 98,
   "metadata": {},
   "outputs": [
    {
     "data": {
      "text/html": [
       "<div>\n",
       "<style scoped>\n",
       "    .dataframe tbody tr th:only-of-type {\n",
       "        vertical-align: middle;\n",
       "    }\n",
       "\n",
       "    .dataframe tbody tr th {\n",
       "        vertical-align: top;\n",
       "    }\n",
       "\n",
       "    .dataframe thead th {\n",
       "        text-align: right;\n",
       "    }\n",
       "</style>\n",
       "<table border=\"1\" class=\"dataframe\">\n",
       "  <thead>\n",
       "    <tr style=\"text-align: right;\">\n",
       "      <th></th>\n",
       "      <th>customer_id</th>\n",
       "      <th>campaign</th>\n",
       "      <th>y</th>\n",
       "      <th>count_respond</th>\n",
       "      <th>contact_per_campaign</th>\n",
       "      <th>response_rate</th>\n",
       "      <th>contact_frequency</th>\n",
       "      <th>sum_duration_of_contact</th>\n",
       "      <th>avg_duration_of_contact</th>\n",
       "      <th>campaign_engagement_cnt</th>\n",
       "      <th>campaign_engagement_level</th>\n",
       "      <th>campaign_rate_per_customer</th>\n",
       "    </tr>\n",
       "  </thead>\n",
       "  <tbody>\n",
       "    <tr>\n",
       "      <th>0</th>\n",
       "      <td>17_student_single_basic.9y_unknown_unknown</td>\n",
       "      <td>2</td>\n",
       "      <td>yes</td>\n",
       "      <td>1</td>\n",
       "      <td>1</td>\n",
       "      <td>1.0</td>\n",
       "      <td>1</td>\n",
       "      <td>498</td>\n",
       "      <td>498.0</td>\n",
       "      <td>1</td>\n",
       "      <td>1 Campaign</td>\n",
       "      <td>1.0</td>\n",
       "    </tr>\n",
       "    <tr>\n",
       "      <th>1</th>\n",
       "      <td>17_student_single_unknown_no_yes</td>\n",
       "      <td>1</td>\n",
       "      <td>yes</td>\n",
       "      <td>1</td>\n",
       "      <td>1</td>\n",
       "      <td>1.0</td>\n",
       "      <td>1</td>\n",
       "      <td>896</td>\n",
       "      <td>896.0</td>\n",
       "      <td>1</td>\n",
       "      <td>1 Campaign</td>\n",
       "      <td>1.0</td>\n",
       "    </tr>\n",
       "    <tr>\n",
       "      <th>2</th>\n",
       "      <td>18_student_single_basic.4y_yes_no</td>\n",
       "      <td>1</td>\n",
       "      <td>yes</td>\n",
       "      <td>1</td>\n",
       "      <td>2</td>\n",
       "      <td>0.5</td>\n",
       "      <td>2</td>\n",
       "      <td>548</td>\n",
       "      <td>274.0</td>\n",
       "      <td>1</td>\n",
       "      <td>1 Campaign</td>\n",
       "      <td>0.5</td>\n",
       "    </tr>\n",
       "    <tr>\n",
       "      <th>3</th>\n",
       "      <td>18_student_single_basic.6y_no_yes</td>\n",
       "      <td>2</td>\n",
       "      <td>yes</td>\n",
       "      <td>1</td>\n",
       "      <td>1</td>\n",
       "      <td>1.0</td>\n",
       "      <td>1</td>\n",
       "      <td>368</td>\n",
       "      <td>368.0</td>\n",
       "      <td>1</td>\n",
       "      <td>1 Campaign</td>\n",
       "      <td>1.0</td>\n",
       "    </tr>\n",
       "    <tr>\n",
       "      <th>4</th>\n",
       "      <td>18_student_single_basic.9y_no_no</td>\n",
       "      <td>2</td>\n",
       "      <td>yes</td>\n",
       "      <td>1</td>\n",
       "      <td>1</td>\n",
       "      <td>1.0</td>\n",
       "      <td>1</td>\n",
       "      <td>412</td>\n",
       "      <td>412.0</td>\n",
       "      <td>1</td>\n",
       "      <td>1 Campaign</td>\n",
       "      <td>1.0</td>\n",
       "    </tr>\n",
       "  </tbody>\n",
       "</table>\n",
       "</div>"
      ],
      "text/plain": [
       "                                  customer_id  campaign    y  count_respond  \\\n",
       "0  17_student_single_basic.9y_unknown_unknown         2  yes              1   \n",
       "1            17_student_single_unknown_no_yes         1  yes              1   \n",
       "2           18_student_single_basic.4y_yes_no         1  yes              1   \n",
       "3           18_student_single_basic.6y_no_yes         2  yes              1   \n",
       "4            18_student_single_basic.9y_no_no         2  yes              1   \n",
       "\n",
       "   contact_per_campaign  response_rate  contact_frequency  \\\n",
       "0                     1            1.0                  1   \n",
       "1                     1            1.0                  1   \n",
       "2                     2            0.5                  2   \n",
       "3                     1            1.0                  1   \n",
       "4                     1            1.0                  1   \n",
       "\n",
       "   sum_duration_of_contact  avg_duration_of_contact  campaign_engagement_cnt  \\\n",
       "0                      498                    498.0                        1   \n",
       "1                      896                    896.0                        1   \n",
       "2                      548                    274.0                        1   \n",
       "3                      368                    368.0                        1   \n",
       "4                      412                    412.0                        1   \n",
       "\n",
       "  campaign_engagement_level  campaign_rate_per_customer  \n",
       "0                1 Campaign                         1.0  \n",
       "1                1 Campaign                         1.0  \n",
       "2                1 Campaign                         0.5  \n",
       "3                1 Campaign                         1.0  \n",
       "4                1 Campaign                         1.0  "
      ]
     },
     "execution_count": 98,
     "metadata": {},
     "output_type": "execute_result"
    }
   ],
   "source": [
    "# Get 50th percentile response_rate, group by customer_id. Save it into campaign_rate_per_customer\n",
    "campaign_rate_per_customer = pd.DataFrame(campaign_score.groupby(\"customer_id\")[\"response_rate\"].agg(p50))\n",
    "\n",
    "# Rename to result column to be campaign_rate_per_customer\n",
    "campaign_rate_per_customer.rename(columns={\"response_rate\":\"campaign_rate_per_customer\"}, inplace=True)\n",
    "\n",
    "# Merge campaign_score with campaign_rate_per_customer by customer_id\n",
    "campaign_score = campaign_score.merge(campaign_rate_per_customer, how=\"left\", on=\"customer_id\")\n",
    "\n",
    "# Show first 5 rows\n",
    "campaign_score.head()"
   ]
  },
  {
   "cell_type": "markdown",
   "metadata": {},
   "source": [
    "Now I'm ready for the scoring process, refering to the tables above.\n",
    "\n",
    "Get 5 parts of the composite scores:\n",
    "  1. `contact_frequency_score`\n",
    "  2. `duration_of_contact_score`\n",
    "  3. `avg_duration_of_contact_score`\n",
    "  4. `campaign_rate_score`\n",
    "  5. `campaign_engagement_score`"
   ]
  },
  {
   "cell_type": "code",
   "execution_count": 99,
   "metadata": {},
   "outputs": [],
   "source": [
    "# Contact frequency: contact_frequency_score\n",
    "\n",
    "campaign_score.loc[campaign_score[\"contact_frequency\"] <= 2,\"contact_frequency_score\"] = 1\n",
    "campaign_score.loc[(campaign_score[\"contact_frequency\"] > 2) & (campaign_score[\"contact_frequency\"] <= 4),\"contact_frequency_score\"] = 2\n",
    "campaign_score.loc[campaign_score[\"contact_frequency\"] > 4,\"contact_frequency_score\"] = 3\n",
    "\n",
    "\n",
    "\n",
    "# Duration of Contact: duration_of_contact_score\n",
    "\n",
    "campaign_score.loc[campaign_score[\"sum_duration_of_contact\"] <= 500,\"duration_of_contact_score\"] = 1\n",
    "campaign_score.loc[(campaign_score[\"sum_duration_of_contact\"] > 500) & (campaign_score[\"sum_duration_of_contact\"] <= 1000),\"duration_of_contact_score\"] = 2\n",
    "campaign_score.loc[campaign_score[\"sum_duration_of_contact\"] > 1000,\"duration_of_contact_score\"] = 3\n",
    "\n",
    "\n",
    "# Avg Duration of Contact: avg_duration_of_contact_score\n",
    "\n",
    "campaign_score.loc[campaign_score[\"avg_duration_of_contact\"] <= 200,\"avg_duration_of_contact_score\"] = 1\n",
    "campaign_score.loc[(campaign_score[\"avg_duration_of_contact\"] > 200) & (campaign_score[\"avg_duration_of_contact\"] <= 400),\"avg_duration_of_contact_score\"] = 2\n",
    "campaign_score.loc[campaign_score[\"avg_duration_of_contact\"] > 400,\"avg_duration_of_contact_score\"] = 3\n",
    "\n",
    "\n",
    "# Campaign Rate: campaign_rate_score\n",
    "\n",
    "campaign_score.loc[(campaign_score[\"campaign_engagement_cnt\"] < 5) & (campaign_score[\"campaign_rate_per_customer\"] <= 0.5), \"campaign_rate_score\"] = 1\n",
    "campaign_score.loc[(campaign_score[\"campaign_engagement_cnt\"] < 5) & (campaign_score[\"campaign_rate_per_customer\"] > 0.5) & (campaign_score[\"campaign_rate_per_customer\"] <= 0.75), \"campaign_rate_score\"] = 2\n",
    "campaign_score.loc[(campaign_score[\"campaign_engagement_cnt\"] < 5) & (campaign_score[\"campaign_rate_per_customer\"] > 0.75) , \"campaign_rate_score\"] = 3\n",
    "\n",
    "campaign_score.loc[(campaign_score[\"campaign_engagement_cnt\"] >= 5) & (campaign_score[\"campaign_rate_per_customer\"] <= 0.25), \"campaign_rate_score\"] = 1\n",
    "campaign_score.loc[(campaign_score[\"campaign_engagement_cnt\"] >= 5) & (campaign_score[\"campaign_rate_per_customer\"] > 0.25) & (campaign_score[\"campaign_rate_per_customer\"] <= 0.5), \"campaign_rate_score\"] = 2\n",
    "campaign_score.loc[(campaign_score[\"campaign_engagement_cnt\"] >= 5) & (campaign_score[\"campaign_rate_per_customer\"] > 0.5) , \"campaign_rate_score\"] = 3\n",
    "\n",
    "\n",
    "\n",
    "# Campaign Engagement: campaign_engagement_score\n",
    "campaign_score.loc[campaign_score[\"campaign_engagement_cnt\"] == 1,\"campaign_engagement_score\"] = 1\n",
    "campaign_score.loc[(campaign_score[\"campaign_engagement_cnt\"] > 1) & (campaign_score[\"campaign_engagement_cnt\"] <= 4),\"campaign_engagement_score\"] = 2\n",
    "campaign_score.loc[campaign_score[\"campaign_engagement_cnt\"] > 4,\"campaign_engagement_score\"] = 3\n"
   ]
  },
  {
   "cell_type": "code",
   "execution_count": 100,
   "metadata": {},
   "outputs": [
    {
     "data": {
      "text/html": [
       "<div>\n",
       "<style scoped>\n",
       "    .dataframe tbody tr th:only-of-type {\n",
       "        vertical-align: middle;\n",
       "    }\n",
       "\n",
       "    .dataframe tbody tr th {\n",
       "        vertical-align: top;\n",
       "    }\n",
       "\n",
       "    .dataframe thead th {\n",
       "        text-align: right;\n",
       "    }\n",
       "</style>\n",
       "<table border=\"1\" class=\"dataframe\">\n",
       "  <thead>\n",
       "    <tr style=\"text-align: right;\">\n",
       "      <th></th>\n",
       "      <th>customer_id</th>\n",
       "      <th>campaign</th>\n",
       "      <th>y</th>\n",
       "      <th>count_respond</th>\n",
       "      <th>contact_per_campaign</th>\n",
       "      <th>response_rate</th>\n",
       "      <th>contact_frequency</th>\n",
       "      <th>sum_duration_of_contact</th>\n",
       "      <th>avg_duration_of_contact</th>\n",
       "      <th>campaign_engagement_cnt</th>\n",
       "      <th>campaign_engagement_level</th>\n",
       "      <th>campaign_rate_per_customer</th>\n",
       "      <th>contact_frequency_score</th>\n",
       "      <th>duration_of_contact_score</th>\n",
       "      <th>avg_duration_of_contact_score</th>\n",
       "      <th>campaign_rate_score</th>\n",
       "      <th>campaign_engagement_score</th>\n",
       "    </tr>\n",
       "  </thead>\n",
       "  <tbody>\n",
       "    <tr>\n",
       "      <th>0</th>\n",
       "      <td>17_student_single_basic.9y_unknown_unknown</td>\n",
       "      <td>2</td>\n",
       "      <td>yes</td>\n",
       "      <td>1</td>\n",
       "      <td>1</td>\n",
       "      <td>1.0</td>\n",
       "      <td>1</td>\n",
       "      <td>498</td>\n",
       "      <td>498.0</td>\n",
       "      <td>1</td>\n",
       "      <td>1 Campaign</td>\n",
       "      <td>1.0</td>\n",
       "      <td>1.0</td>\n",
       "      <td>1.0</td>\n",
       "      <td>3.0</td>\n",
       "      <td>3.0</td>\n",
       "      <td>1.0</td>\n",
       "    </tr>\n",
       "    <tr>\n",
       "      <th>1</th>\n",
       "      <td>17_student_single_unknown_no_yes</td>\n",
       "      <td>1</td>\n",
       "      <td>yes</td>\n",
       "      <td>1</td>\n",
       "      <td>1</td>\n",
       "      <td>1.0</td>\n",
       "      <td>1</td>\n",
       "      <td>896</td>\n",
       "      <td>896.0</td>\n",
       "      <td>1</td>\n",
       "      <td>1 Campaign</td>\n",
       "      <td>1.0</td>\n",
       "      <td>1.0</td>\n",
       "      <td>2.0</td>\n",
       "      <td>3.0</td>\n",
       "      <td>3.0</td>\n",
       "      <td>1.0</td>\n",
       "    </tr>\n",
       "    <tr>\n",
       "      <th>2</th>\n",
       "      <td>18_student_single_basic.4y_yes_no</td>\n",
       "      <td>1</td>\n",
       "      <td>yes</td>\n",
       "      <td>1</td>\n",
       "      <td>2</td>\n",
       "      <td>0.5</td>\n",
       "      <td>2</td>\n",
       "      <td>548</td>\n",
       "      <td>274.0</td>\n",
       "      <td>1</td>\n",
       "      <td>1 Campaign</td>\n",
       "      <td>0.5</td>\n",
       "      <td>1.0</td>\n",
       "      <td>2.0</td>\n",
       "      <td>2.0</td>\n",
       "      <td>1.0</td>\n",
       "      <td>1.0</td>\n",
       "    </tr>\n",
       "    <tr>\n",
       "      <th>3</th>\n",
       "      <td>18_student_single_basic.6y_no_yes</td>\n",
       "      <td>2</td>\n",
       "      <td>yes</td>\n",
       "      <td>1</td>\n",
       "      <td>1</td>\n",
       "      <td>1.0</td>\n",
       "      <td>1</td>\n",
       "      <td>368</td>\n",
       "      <td>368.0</td>\n",
       "      <td>1</td>\n",
       "      <td>1 Campaign</td>\n",
       "      <td>1.0</td>\n",
       "      <td>1.0</td>\n",
       "      <td>1.0</td>\n",
       "      <td>2.0</td>\n",
       "      <td>3.0</td>\n",
       "      <td>1.0</td>\n",
       "    </tr>\n",
       "    <tr>\n",
       "      <th>4</th>\n",
       "      <td>18_student_single_basic.9y_no_no</td>\n",
       "      <td>2</td>\n",
       "      <td>yes</td>\n",
       "      <td>1</td>\n",
       "      <td>1</td>\n",
       "      <td>1.0</td>\n",
       "      <td>1</td>\n",
       "      <td>412</td>\n",
       "      <td>412.0</td>\n",
       "      <td>1</td>\n",
       "      <td>1 Campaign</td>\n",
       "      <td>1.0</td>\n",
       "      <td>1.0</td>\n",
       "      <td>1.0</td>\n",
       "      <td>3.0</td>\n",
       "      <td>3.0</td>\n",
       "      <td>1.0</td>\n",
       "    </tr>\n",
       "  </tbody>\n",
       "</table>\n",
       "</div>"
      ],
      "text/plain": [
       "                                  customer_id  campaign    y  count_respond  \\\n",
       "0  17_student_single_basic.9y_unknown_unknown         2  yes              1   \n",
       "1            17_student_single_unknown_no_yes         1  yes              1   \n",
       "2           18_student_single_basic.4y_yes_no         1  yes              1   \n",
       "3           18_student_single_basic.6y_no_yes         2  yes              1   \n",
       "4            18_student_single_basic.9y_no_no         2  yes              1   \n",
       "\n",
       "   contact_per_campaign  response_rate  contact_frequency  \\\n",
       "0                     1            1.0                  1   \n",
       "1                     1            1.0                  1   \n",
       "2                     2            0.5                  2   \n",
       "3                     1            1.0                  1   \n",
       "4                     1            1.0                  1   \n",
       "\n",
       "   sum_duration_of_contact  avg_duration_of_contact  campaign_engagement_cnt  \\\n",
       "0                      498                    498.0                        1   \n",
       "1                      896                    896.0                        1   \n",
       "2                      548                    274.0                        1   \n",
       "3                      368                    368.0                        1   \n",
       "4                      412                    412.0                        1   \n",
       "\n",
       "  campaign_engagement_level  campaign_rate_per_customer  \\\n",
       "0                1 Campaign                         1.0   \n",
       "1                1 Campaign                         1.0   \n",
       "2                1 Campaign                         0.5   \n",
       "3                1 Campaign                         1.0   \n",
       "4                1 Campaign                         1.0   \n",
       "\n",
       "   contact_frequency_score  duration_of_contact_score  \\\n",
       "0                      1.0                        1.0   \n",
       "1                      1.0                        2.0   \n",
       "2                      1.0                        2.0   \n",
       "3                      1.0                        1.0   \n",
       "4                      1.0                        1.0   \n",
       "\n",
       "   avg_duration_of_contact_score  campaign_rate_score  \\\n",
       "0                            3.0                  3.0   \n",
       "1                            3.0                  3.0   \n",
       "2                            2.0                  1.0   \n",
       "3                            2.0                  3.0   \n",
       "4                            3.0                  3.0   \n",
       "\n",
       "   campaign_engagement_score  \n",
       "0                        1.0  \n",
       "1                        1.0  \n",
       "2                        1.0  \n",
       "3                        1.0  \n",
       "4                        1.0  "
      ]
     },
     "execution_count": 100,
     "metadata": {},
     "output_type": "execute_result"
    }
   ],
   "source": [
    "# Show the first 5 rows\n",
    "campaign_score.head()"
   ]
  },
  {
   "cell_type": "markdown",
   "metadata": {},
   "source": [
    "Now I will combine the 5 parts composite into a single final score based on the weight decided by stakeholders.\n",
    "\n",
    "</br>\n",
    "\n",
    "|Metric|Weight by stakeholder|\n",
    "|-|-|\n",
    "| Contact Frequency\t| 8 |\n",
    "| Duration of Contact\t| 7 |\n",
    "| Average Duration of Contact\t| 6 |\n",
    "| Campaign Engagement\t| 5 |\n",
    "| Campaign Conversion Rate |\t9 |\n",
    "\n",
    "</br>"
   ]
  },
  {
   "cell_type": "code",
   "execution_count": 103,
   "metadata": {},
   "outputs": [],
   "source": [
    "# Calculate the final score\n",
    "campaign_score[\"overall_engagement_score\"] = (campaign_score[\"contact_frequency_score\"] * 8) +\\\n",
    "                                              (campaign_score[\"duration_of_contact_score\"] * 7) +\\\n",
    "                                              (campaign_score[\"avg_duration_of_contact_score\"] * 6) +\\\n",
    "                                              (campaign_score[\"campaign_engagement_score\"] * 5) +\\\n",
    "                                              (campaign_score[\"campaign_rate_score\"] * 9)"
   ]
  },
  {
   "cell_type": "markdown",
   "metadata": {},
   "source": [
    "The score will help to finally segment all customers based on this thresholds:\n",
    "\n",
    "</br>\n",
    "\n",
    "|Threshold|`engagement_category`|\n",
    "|-|-|\n",
    "|overall_engagement_score <=48|Low engagement|\n",
    "|48 < overall_engagement_score <= 68|Moderate engagement|\n",
    "|overall_engagement_score > 68|Highly engaged|"
   ]
  },
  {
   "cell_type": "code",
   "execution_count": 105,
   "metadata": {},
   "outputs": [],
   "source": [
    "# Categorize based on threshold, save it into a new column called `engagement_category`\n",
    "\n",
    "campaign_score.loc[campaign_score[\"overall_engagement_score\"] <= 48,\"engagement_category\"] = \"Low engagement\"\n",
    "campaign_score.loc[(campaign_score[\"overall_engagement_score\"] > 48) & (campaign_score[\"overall_engagement_score\"] <= 68),\"engagement_category\"] = \"Moderately engaged\"\n",
    "campaign_score.loc[campaign_score[\"overall_engagement_score\"] > 68,\"engagement_category\"] = \"Highly engaged\""
   ]
  },
  {
   "cell_type": "code",
   "execution_count": 109,
   "metadata": {},
   "outputs": [
    {
     "data": {
      "text/plain": [
       "engagement_category\n",
       "Highly engaged        2855\n",
       "Moderately engaged     737\n",
       "Low engagement         101\n",
       "Name: count, dtype: int64"
      ]
     },
     "execution_count": 109,
     "metadata": {},
     "output_type": "execute_result"
    }
   ],
   "source": [
    "# Sanity check the result using `.value_counts()` function\n",
    "campaign_score[\"engagement_category\"].value_counts()"
   ]
  },
  {
   "cell_type": "markdown",
   "metadata": {},
   "source": [
    "## Check the percentage\n",
    "\n",
    "- I now have labeled every customer into different engagement category.\n",
    "\n",
    "- The last step is to know how many of the users from each `campaign` labelled into each `engagement_category`.\n",
    "\n",
    "- To do that, I need to create a few more DataFrame's.\n",
    "\n",
    "- First up, get unique `customer_id` per campaign.\n"
   ]
  },
  {
   "cell_type": "code",
   "execution_count": 111,
   "metadata": {},
   "outputs": [
    {
     "data": {
      "text/html": [
       "<div>\n",
       "<style scoped>\n",
       "    .dataframe tbody tr th:only-of-type {\n",
       "        vertical-align: middle;\n",
       "    }\n",
       "\n",
       "    .dataframe tbody tr th {\n",
       "        vertical-align: top;\n",
       "    }\n",
       "\n",
       "    .dataframe thead th {\n",
       "        text-align: right;\n",
       "    }\n",
       "</style>\n",
       "<table border=\"1\" class=\"dataframe\">\n",
       "  <thead>\n",
       "    <tr style=\"text-align: right;\">\n",
       "      <th></th>\n",
       "      <th>total_unique_customer</th>\n",
       "    </tr>\n",
       "    <tr>\n",
       "      <th>campaign</th>\n",
       "      <th></th>\n",
       "    </tr>\n",
       "  </thead>\n",
       "  <tbody>\n",
       "    <tr>\n",
       "      <th>1</th>\n",
       "      <td>6565</td>\n",
       "    </tr>\n",
       "    <tr>\n",
       "      <th>2</th>\n",
       "      <td>4973</td>\n",
       "    </tr>\n",
       "    <tr>\n",
       "      <th>3</th>\n",
       "      <td>3153</td>\n",
       "    </tr>\n",
       "    <tr>\n",
       "      <th>4</th>\n",
       "      <td>1928</td>\n",
       "    </tr>\n",
       "    <tr>\n",
       "      <th>5</th>\n",
       "      <td>1252</td>\n",
       "    </tr>\n",
       "  </tbody>\n",
       "</table>\n",
       "</div>"
      ],
      "text/plain": [
       "          total_unique_customer\n",
       "campaign                       \n",
       "1                          6565\n",
       "2                          4973\n",
       "3                          3153\n",
       "4                          1928\n",
       "5                          1252"
      ]
     },
     "execution_count": 111,
     "metadata": {},
     "output_type": "execute_result"
    }
   ],
   "source": [
    "# Find unique customer_id per campagin\n",
    "campaign_level_agg = df.groupby(\"campaign\").agg({\"customer_id\":\"nunique\"})\n",
    "\n",
    "# Rename the result column into `total_unique_customer`\n",
    "campaign_level_agg.rename(columns={\"customer_id\":\"total_unique_customer\"}, inplace=True)\n",
    "\n",
    "# Show first 5 rows\n",
    "campaign_level_agg.head()"
   ]
  },
  {
   "cell_type": "code",
   "execution_count": 112,
   "metadata": {},
   "outputs": [
    {
     "data": {
      "text/html": [
       "<div>\n",
       "<style scoped>\n",
       "    .dataframe tbody tr th:only-of-type {\n",
       "        vertical-align: middle;\n",
       "    }\n",
       "\n",
       "    .dataframe tbody tr th {\n",
       "        vertical-align: top;\n",
       "    }\n",
       "\n",
       "    .dataframe thead th {\n",
       "        text-align: right;\n",
       "    }\n",
       "</style>\n",
       "<table border=\"1\" class=\"dataframe\">\n",
       "  <thead>\n",
       "    <tr style=\"text-align: right;\">\n",
       "      <th></th>\n",
       "      <th></th>\n",
       "      <th>responded_customers</th>\n",
       "    </tr>\n",
       "    <tr>\n",
       "      <th>campaign</th>\n",
       "      <th>y</th>\n",
       "      <th></th>\n",
       "    </tr>\n",
       "  </thead>\n",
       "  <tbody>\n",
       "    <tr>\n",
       "      <th>1</th>\n",
       "      <th>yes</th>\n",
       "      <td>1645</td>\n",
       "    </tr>\n",
       "    <tr>\n",
       "      <th>2</th>\n",
       "      <th>yes</th>\n",
       "      <td>994</td>\n",
       "    </tr>\n",
       "    <tr>\n",
       "      <th>3</th>\n",
       "      <th>yes</th>\n",
       "      <td>511</td>\n",
       "    </tr>\n",
       "    <tr>\n",
       "      <th>4</th>\n",
       "      <th>yes</th>\n",
       "      <td>241</td>\n",
       "    </tr>\n",
       "    <tr>\n",
       "      <th>5</th>\n",
       "      <th>yes</th>\n",
       "      <td>117</td>\n",
       "    </tr>\n",
       "  </tbody>\n",
       "</table>\n",
       "</div>"
      ],
      "text/plain": [
       "              responded_customers\n",
       "campaign y                       \n",
       "1        yes                 1645\n",
       "2        yes                  994\n",
       "3        yes                  511\n",
       "4        yes                  241\n",
       "5        yes                  117"
      ]
     },
     "execution_count": 112,
     "metadata": {},
     "output_type": "execute_result"
    }
   ],
   "source": [
    "# Find unique customer_id per campaign and y\n",
    "campaign_level_respond_agg = df.groupby([\"campaign\", \"y\"]).agg({\"customer_id\":\"nunique\"})\n",
    "\n",
    "# Rename the result column into `responded_customers`\n",
    "campaign_level_respond_agg.rename(columns={\"customer_id\":\"responded_customers\"}, inplace=True)\n",
    "\n",
    "# Get only data with y=\"yes\"\n",
    "campaign_level_respond_agg = campaign_level_respond_agg.loc[(slice(None), \"yes\"), :]\n",
    "\n",
    "# Show first 5 rows\n",
    "campaign_level_respond_agg.head()"
   ]
  },
  {
   "cell_type": "markdown",
   "metadata": {},
   "source": [
    "Get `campaign_cvr_rate` by calculating the conversion rate by dividing `responded_customers` to `total_unique_customer`"
   ]
  },
  {
   "cell_type": "code",
   "execution_count": 113,
   "metadata": {},
   "outputs": [
    {
     "data": {
      "text/html": [
       "<div>\n",
       "<style scoped>\n",
       "    .dataframe tbody tr th:only-of-type {\n",
       "        vertical-align: middle;\n",
       "    }\n",
       "\n",
       "    .dataframe tbody tr th {\n",
       "        vertical-align: top;\n",
       "    }\n",
       "\n",
       "    .dataframe thead th {\n",
       "        text-align: right;\n",
       "    }\n",
       "</style>\n",
       "<table border=\"1\" class=\"dataframe\">\n",
       "  <thead>\n",
       "    <tr style=\"text-align: right;\">\n",
       "      <th></th>\n",
       "      <th>responded_customers</th>\n",
       "      <th>total_unique_customer</th>\n",
       "      <th>campaign_cvr_rate</th>\n",
       "    </tr>\n",
       "    <tr>\n",
       "      <th>campaign</th>\n",
       "      <th></th>\n",
       "      <th></th>\n",
       "      <th></th>\n",
       "    </tr>\n",
       "  </thead>\n",
       "  <tbody>\n",
       "    <tr>\n",
       "      <th>1</th>\n",
       "      <td>1645</td>\n",
       "      <td>6565</td>\n",
       "      <td>0.250571</td>\n",
       "    </tr>\n",
       "    <tr>\n",
       "      <th>2</th>\n",
       "      <td>994</td>\n",
       "      <td>4973</td>\n",
       "      <td>0.199879</td>\n",
       "    </tr>\n",
       "    <tr>\n",
       "      <th>3</th>\n",
       "      <td>511</td>\n",
       "      <td>3153</td>\n",
       "      <td>0.162068</td>\n",
       "    </tr>\n",
       "    <tr>\n",
       "      <th>4</th>\n",
       "      <td>241</td>\n",
       "      <td>1928</td>\n",
       "      <td>0.125000</td>\n",
       "    </tr>\n",
       "    <tr>\n",
       "      <th>5</th>\n",
       "      <td>117</td>\n",
       "      <td>1252</td>\n",
       "      <td>0.093450</td>\n",
       "    </tr>\n",
       "  </tbody>\n",
       "</table>\n",
       "</div>"
      ],
      "text/plain": [
       "          responded_customers  total_unique_customer  campaign_cvr_rate\n",
       "campaign                                                               \n",
       "1                        1645                   6565           0.250571\n",
       "2                         994                   4973           0.199879\n",
       "3                         511                   3153           0.162068\n",
       "4                         241                   1928           0.125000\n",
       "5                         117                   1252           0.093450"
      ]
     },
     "execution_count": 113,
     "metadata": {},
     "output_type": "execute_result"
    }
   ],
   "source": [
    "# Merge campaign_level_respond_agg with campaign_level_agg\n",
    "campaign_level_merge = campaign_level_respond_agg.merge(campaign_level_agg, left_index=True, right_index=True)\n",
    "\n",
    "# Calculate campaign_cvr_rate\n",
    "campaign_level_merge[\"campaign_cvr_rate\"] = campaign_level_merge[\"responded_customers\"] / campaign_level_merge[\"total_unique_customer\"]\n",
    "\n",
    "# Drop index / column `y`, we don't need it anymore\n",
    "campaign_level_merge = campaign_level_merge.droplevel(1)\n",
    "\n",
    "# Show first 5 rows\n",
    "campaign_level_merge.head()"
   ]
  },
  {
   "cell_type": "markdown",
   "metadata": {},
   "source": [
    "Need to find unique `customer_id` per `campaign` and `engagement_category` and save it into a DataFrame called `campaign_engagement_agg`."
   ]
  },
  {
   "cell_type": "code",
   "execution_count": 114,
   "metadata": {},
   "outputs": [
    {
     "data": {
      "text/html": [
       "<div>\n",
       "<style scoped>\n",
       "    .dataframe tbody tr th:only-of-type {\n",
       "        vertical-align: middle;\n",
       "    }\n",
       "\n",
       "    .dataframe tbody tr th {\n",
       "        vertical-align: top;\n",
       "    }\n",
       "\n",
       "    .dataframe thead th {\n",
       "        text-align: right;\n",
       "    }\n",
       "</style>\n",
       "<table border=\"1\" class=\"dataframe\">\n",
       "  <thead>\n",
       "    <tr style=\"text-align: right;\">\n",
       "      <th></th>\n",
       "      <th></th>\n",
       "      <th>customer_cnt</th>\n",
       "    </tr>\n",
       "    <tr>\n",
       "      <th>campaign</th>\n",
       "      <th>engagement_category</th>\n",
       "      <th></th>\n",
       "    </tr>\n",
       "  </thead>\n",
       "  <tbody>\n",
       "    <tr>\n",
       "      <th rowspan=\"3\" valign=\"top\">1</th>\n",
       "      <th>Highly engaged</th>\n",
       "      <td>1161</td>\n",
       "    </tr>\n",
       "    <tr>\n",
       "      <th>Low engagement</th>\n",
       "      <td>79</td>\n",
       "    </tr>\n",
       "    <tr>\n",
       "      <th>Moderately engaged</th>\n",
       "      <td>405</td>\n",
       "    </tr>\n",
       "    <tr>\n",
       "      <th rowspan=\"3\" valign=\"top\">2</th>\n",
       "      <th>Highly engaged</th>\n",
       "      <td>784</td>\n",
       "    </tr>\n",
       "    <tr>\n",
       "      <th>Low engagement</th>\n",
       "      <td>20</td>\n",
       "    </tr>\n",
       "    <tr>\n",
       "      <th>Moderately engaged</th>\n",
       "      <td>190</td>\n",
       "    </tr>\n",
       "    <tr>\n",
       "      <th rowspan=\"3\" valign=\"top\">3</th>\n",
       "      <th>Highly engaged</th>\n",
       "      <td>427</td>\n",
       "    </tr>\n",
       "    <tr>\n",
       "      <th>Low engagement</th>\n",
       "      <td>2</td>\n",
       "    </tr>\n",
       "    <tr>\n",
       "      <th>Moderately engaged</th>\n",
       "      <td>82</td>\n",
       "    </tr>\n",
       "    <tr>\n",
       "      <th>4</th>\n",
       "      <th>Highly engaged</th>\n",
       "      <td>211</td>\n",
       "    </tr>\n",
       "  </tbody>\n",
       "</table>\n",
       "</div>"
      ],
      "text/plain": [
       "                              customer_cnt\n",
       "campaign engagement_category              \n",
       "1        Highly engaged               1161\n",
       "         Low engagement                 79\n",
       "         Moderately engaged            405\n",
       "2        Highly engaged                784\n",
       "         Low engagement                 20\n",
       "         Moderately engaged            190\n",
       "3        Highly engaged                427\n",
       "         Low engagement                  2\n",
       "         Moderately engaged             82\n",
       "4        Highly engaged                211"
      ]
     },
     "execution_count": 114,
     "metadata": {},
     "output_type": "execute_result"
    }
   ],
   "source": [
    "# Get unique customer_id per campaign and engagement_category\n",
    "campaign_engagement_agg = campaign_score.groupby([\"campaign\", \"engagement_category\"]).agg({\"customer_id\":\"nunique\"})\n",
    "\n",
    "# Rename the result column into `customer_cnt`\n",
    "campaign_engagement_agg.rename(columns={\"customer_id\":\"customer_cnt\"}, inplace=True)\n",
    "\n",
    "# Show first 10 rows\n",
    "campaign_engagement_agg.head(10)"
   ]
  },
  {
   "cell_type": "markdown",
   "metadata": {},
   "source": [
    " get the percentage of each campaign and engagement category.\n",
    "- `percentage` = `customer_cnt` / `total_unique_customer`"
   ]
  },
  {
   "cell_type": "code",
   "execution_count": 127,
   "metadata": {},
   "outputs": [
    {
     "data": {
      "text/html": [
       "<div>\n",
       "<style scoped>\n",
       "    .dataframe tbody tr th:only-of-type {\n",
       "        vertical-align: middle;\n",
       "    }\n",
       "\n",
       "    .dataframe tbody tr th {\n",
       "        vertical-align: top;\n",
       "    }\n",
       "\n",
       "    .dataframe thead th {\n",
       "        text-align: right;\n",
       "    }\n",
       "</style>\n",
       "<table border=\"1\" class=\"dataframe\">\n",
       "  <thead>\n",
       "    <tr style=\"text-align: right;\">\n",
       "      <th></th>\n",
       "      <th></th>\n",
       "      <th>customer_cnt</th>\n",
       "      <th>responded_customers</th>\n",
       "      <th>total_unique_customer</th>\n",
       "      <th>campaign_cvr_rate</th>\n",
       "      <th>percentage</th>\n",
       "    </tr>\n",
       "    <tr>\n",
       "      <th>campaign</th>\n",
       "      <th>engagement_category</th>\n",
       "      <th></th>\n",
       "      <th></th>\n",
       "      <th></th>\n",
       "      <th></th>\n",
       "      <th></th>\n",
       "    </tr>\n",
       "  </thead>\n",
       "  <tbody>\n",
       "    <tr>\n",
       "      <th rowspan=\"3\" valign=\"top\">1</th>\n",
       "      <th>Highly engaged</th>\n",
       "      <td>1161</td>\n",
       "      <td>1645</td>\n",
       "      <td>6565</td>\n",
       "      <td>0.250571</td>\n",
       "      <td>0.176847</td>\n",
       "    </tr>\n",
       "    <tr>\n",
       "      <th>Low engagement</th>\n",
       "      <td>79</td>\n",
       "      <td>1645</td>\n",
       "      <td>6565</td>\n",
       "      <td>0.250571</td>\n",
       "      <td>0.012034</td>\n",
       "    </tr>\n",
       "    <tr>\n",
       "      <th>Moderately engaged</th>\n",
       "      <td>405</td>\n",
       "      <td>1645</td>\n",
       "      <td>6565</td>\n",
       "      <td>0.250571</td>\n",
       "      <td>0.061691</td>\n",
       "    </tr>\n",
       "    <tr>\n",
       "      <th rowspan=\"3\" valign=\"top\">2</th>\n",
       "      <th>Highly engaged</th>\n",
       "      <td>784</td>\n",
       "      <td>994</td>\n",
       "      <td>4973</td>\n",
       "      <td>0.199879</td>\n",
       "      <td>0.157651</td>\n",
       "    </tr>\n",
       "    <tr>\n",
       "      <th>Low engagement</th>\n",
       "      <td>20</td>\n",
       "      <td>994</td>\n",
       "      <td>4973</td>\n",
       "      <td>0.199879</td>\n",
       "      <td>0.004022</td>\n",
       "    </tr>\n",
       "    <tr>\n",
       "      <th>Moderately engaged</th>\n",
       "      <td>190</td>\n",
       "      <td>994</td>\n",
       "      <td>4973</td>\n",
       "      <td>0.199879</td>\n",
       "      <td>0.038206</td>\n",
       "    </tr>\n",
       "    <tr>\n",
       "      <th rowspan=\"3\" valign=\"top\">3</th>\n",
       "      <th>Highly engaged</th>\n",
       "      <td>427</td>\n",
       "      <td>511</td>\n",
       "      <td>3153</td>\n",
       "      <td>0.162068</td>\n",
       "      <td>0.135427</td>\n",
       "    </tr>\n",
       "    <tr>\n",
       "      <th>Low engagement</th>\n",
       "      <td>2</td>\n",
       "      <td>511</td>\n",
       "      <td>3153</td>\n",
       "      <td>0.162068</td>\n",
       "      <td>0.000634</td>\n",
       "    </tr>\n",
       "    <tr>\n",
       "      <th>Moderately engaged</th>\n",
       "      <td>82</td>\n",
       "      <td>511</td>\n",
       "      <td>3153</td>\n",
       "      <td>0.162068</td>\n",
       "      <td>0.026007</td>\n",
       "    </tr>\n",
       "    <tr>\n",
       "      <th rowspan=\"2\" valign=\"top\">4</th>\n",
       "      <th>Highly engaged</th>\n",
       "      <td>211</td>\n",
       "      <td>241</td>\n",
       "      <td>1928</td>\n",
       "      <td>0.125000</td>\n",
       "      <td>0.109440</td>\n",
       "    </tr>\n",
       "    <tr>\n",
       "      <th>Moderately engaged</th>\n",
       "      <td>30</td>\n",
       "      <td>241</td>\n",
       "      <td>1928</td>\n",
       "      <td>0.125000</td>\n",
       "      <td>0.015560</td>\n",
       "    </tr>\n",
       "    <tr>\n",
       "      <th rowspan=\"2\" valign=\"top\">5</th>\n",
       "      <th>Highly engaged</th>\n",
       "      <td>104</td>\n",
       "      <td>117</td>\n",
       "      <td>1252</td>\n",
       "      <td>0.093450</td>\n",
       "      <td>0.083067</td>\n",
       "    </tr>\n",
       "    <tr>\n",
       "      <th>Moderately engaged</th>\n",
       "      <td>13</td>\n",
       "      <td>117</td>\n",
       "      <td>1252</td>\n",
       "      <td>0.093450</td>\n",
       "      <td>0.010383</td>\n",
       "    </tr>\n",
       "    <tr>\n",
       "      <th rowspan=\"2\" valign=\"top\">6</th>\n",
       "      <th>Highly engaged</th>\n",
       "      <td>62</td>\n",
       "      <td>74</td>\n",
       "      <td>843</td>\n",
       "      <td>0.087782</td>\n",
       "      <td>0.073547</td>\n",
       "    </tr>\n",
       "    <tr>\n",
       "      <th>Moderately engaged</th>\n",
       "      <td>12</td>\n",
       "      <td>74</td>\n",
       "      <td>843</td>\n",
       "      <td>0.087782</td>\n",
       "      <td>0.014235</td>\n",
       "    </tr>\n",
       "    <tr>\n",
       "      <th rowspan=\"2\" valign=\"top\">7</th>\n",
       "      <th>Highly engaged</th>\n",
       "      <td>35</td>\n",
       "      <td>38</td>\n",
       "      <td>566</td>\n",
       "      <td>0.067138</td>\n",
       "      <td>0.061837</td>\n",
       "    </tr>\n",
       "    <tr>\n",
       "      <th>Moderately engaged</th>\n",
       "      <td>3</td>\n",
       "      <td>38</td>\n",
       "      <td>566</td>\n",
       "      <td>0.067138</td>\n",
       "      <td>0.005300</td>\n",
       "    </tr>\n",
       "    <tr>\n",
       "      <th rowspan=\"2\" valign=\"top\">8</th>\n",
       "      <th>Highly engaged</th>\n",
       "      <td>16</td>\n",
       "      <td>17</td>\n",
       "      <td>367</td>\n",
       "      <td>0.046322</td>\n",
       "      <td>0.043597</td>\n",
       "    </tr>\n",
       "    <tr>\n",
       "      <th>Moderately engaged</th>\n",
       "      <td>1</td>\n",
       "      <td>17</td>\n",
       "      <td>367</td>\n",
       "      <td>0.046322</td>\n",
       "      <td>0.002725</td>\n",
       "    </tr>\n",
       "    <tr>\n",
       "      <th>9</th>\n",
       "      <th>Highly engaged</th>\n",
       "      <td>17</td>\n",
       "      <td>17</td>\n",
       "      <td>270</td>\n",
       "      <td>0.062963</td>\n",
       "      <td>0.062963</td>\n",
       "    </tr>\n",
       "    <tr>\n",
       "      <th>10</th>\n",
       "      <th>Highly engaged</th>\n",
       "      <td>12</td>\n",
       "      <td>12</td>\n",
       "      <td>215</td>\n",
       "      <td>0.055814</td>\n",
       "      <td>0.055814</td>\n",
       "    </tr>\n",
       "    <tr>\n",
       "      <th>11</th>\n",
       "      <th>Highly engaged</th>\n",
       "      <td>12</td>\n",
       "      <td>12</td>\n",
       "      <td>168</td>\n",
       "      <td>0.071429</td>\n",
       "      <td>0.071429</td>\n",
       "    </tr>\n",
       "    <tr>\n",
       "      <th>12</th>\n",
       "      <th>Highly engaged</th>\n",
       "      <td>3</td>\n",
       "      <td>3</td>\n",
       "      <td>121</td>\n",
       "      <td>0.024793</td>\n",
       "      <td>0.024793</td>\n",
       "    </tr>\n",
       "    <tr>\n",
       "      <th rowspan=\"2\" valign=\"top\">13</th>\n",
       "      <th>Highly engaged</th>\n",
       "      <td>3</td>\n",
       "      <td>4</td>\n",
       "      <td>89</td>\n",
       "      <td>0.044944</td>\n",
       "      <td>0.033708</td>\n",
       "    </tr>\n",
       "    <tr>\n",
       "      <th>Moderately engaged</th>\n",
       "      <td>1</td>\n",
       "      <td>4</td>\n",
       "      <td>89</td>\n",
       "      <td>0.044944</td>\n",
       "      <td>0.011236</td>\n",
       "    </tr>\n",
       "    <tr>\n",
       "      <th>14</th>\n",
       "      <th>Highly engaged</th>\n",
       "      <td>1</td>\n",
       "      <td>1</td>\n",
       "      <td>66</td>\n",
       "      <td>0.015152</td>\n",
       "      <td>0.015152</td>\n",
       "    </tr>\n",
       "    <tr>\n",
       "      <th>15</th>\n",
       "      <th>Highly engaged</th>\n",
       "      <td>2</td>\n",
       "      <td>2</td>\n",
       "      <td>51</td>\n",
       "      <td>0.039216</td>\n",
       "      <td>0.039216</td>\n",
       "    </tr>\n",
       "    <tr>\n",
       "      <th>17</th>\n",
       "      <th>Highly engaged</th>\n",
       "      <td>4</td>\n",
       "      <td>4</td>\n",
       "      <td>58</td>\n",
       "      <td>0.068966</td>\n",
       "      <td>0.068966</td>\n",
       "    </tr>\n",
       "    <tr>\n",
       "      <th>23</th>\n",
       "      <th>Highly engaged</th>\n",
       "      <td>1</td>\n",
       "      <td>1</td>\n",
       "      <td>16</td>\n",
       "      <td>0.062500</td>\n",
       "      <td>0.062500</td>\n",
       "    </tr>\n",
       "  </tbody>\n",
       "</table>\n",
       "</div>"
      ],
      "text/plain": [
       "                              customer_cnt  responded_customers  \\\n",
       "campaign engagement_category                                      \n",
       "1        Highly engaged               1161                 1645   \n",
       "         Low engagement                 79                 1645   \n",
       "         Moderately engaged            405                 1645   \n",
       "2        Highly engaged                784                  994   \n",
       "         Low engagement                 20                  994   \n",
       "         Moderately engaged            190                  994   \n",
       "3        Highly engaged                427                  511   \n",
       "         Low engagement                  2                  511   \n",
       "         Moderately engaged             82                  511   \n",
       "4        Highly engaged                211                  241   \n",
       "         Moderately engaged             30                  241   \n",
       "5        Highly engaged                104                  117   \n",
       "         Moderately engaged             13                  117   \n",
       "6        Highly engaged                 62                   74   \n",
       "         Moderately engaged             12                   74   \n",
       "7        Highly engaged                 35                   38   \n",
       "         Moderately engaged              3                   38   \n",
       "8        Highly engaged                 16                   17   \n",
       "         Moderately engaged              1                   17   \n",
       "9        Highly engaged                 17                   17   \n",
       "10       Highly engaged                 12                   12   \n",
       "11       Highly engaged                 12                   12   \n",
       "12       Highly engaged                  3                    3   \n",
       "13       Highly engaged                  3                    4   \n",
       "         Moderately engaged              1                    4   \n",
       "14       Highly engaged                  1                    1   \n",
       "15       Highly engaged                  2                    2   \n",
       "17       Highly engaged                  4                    4   \n",
       "23       Highly engaged                  1                    1   \n",
       "\n",
       "                              total_unique_customer  campaign_cvr_rate  \\\n",
       "campaign engagement_category                                             \n",
       "1        Highly engaged                        6565           0.250571   \n",
       "         Low engagement                        6565           0.250571   \n",
       "         Moderately engaged                    6565           0.250571   \n",
       "2        Highly engaged                        4973           0.199879   \n",
       "         Low engagement                        4973           0.199879   \n",
       "         Moderately engaged                    4973           0.199879   \n",
       "3        Highly engaged                        3153           0.162068   \n",
       "         Low engagement                        3153           0.162068   \n",
       "         Moderately engaged                    3153           0.162068   \n",
       "4        Highly engaged                        1928           0.125000   \n",
       "         Moderately engaged                    1928           0.125000   \n",
       "5        Highly engaged                        1252           0.093450   \n",
       "         Moderately engaged                    1252           0.093450   \n",
       "6        Highly engaged                         843           0.087782   \n",
       "         Moderately engaged                     843           0.087782   \n",
       "7        Highly engaged                         566           0.067138   \n",
       "         Moderately engaged                     566           0.067138   \n",
       "8        Highly engaged                         367           0.046322   \n",
       "         Moderately engaged                     367           0.046322   \n",
       "9        Highly engaged                         270           0.062963   \n",
       "10       Highly engaged                         215           0.055814   \n",
       "11       Highly engaged                         168           0.071429   \n",
       "12       Highly engaged                         121           0.024793   \n",
       "13       Highly engaged                          89           0.044944   \n",
       "         Moderately engaged                      89           0.044944   \n",
       "14       Highly engaged                          66           0.015152   \n",
       "15       Highly engaged                          51           0.039216   \n",
       "17       Highly engaged                          58           0.068966   \n",
       "23       Highly engaged                          16           0.062500   \n",
       "\n",
       "                              percentage  \n",
       "campaign engagement_category              \n",
       "1        Highly engaged         0.176847  \n",
       "         Low engagement         0.012034  \n",
       "         Moderately engaged     0.061691  \n",
       "2        Highly engaged         0.157651  \n",
       "         Low engagement         0.004022  \n",
       "         Moderately engaged     0.038206  \n",
       "3        Highly engaged         0.135427  \n",
       "         Low engagement         0.000634  \n",
       "         Moderately engaged     0.026007  \n",
       "4        Highly engaged         0.109440  \n",
       "         Moderately engaged     0.015560  \n",
       "5        Highly engaged         0.083067  \n",
       "         Moderately engaged     0.010383  \n",
       "6        Highly engaged         0.073547  \n",
       "         Moderately engaged     0.014235  \n",
       "7        Highly engaged         0.061837  \n",
       "         Moderately engaged     0.005300  \n",
       "8        Highly engaged         0.043597  \n",
       "         Moderately engaged     0.002725  \n",
       "9        Highly engaged         0.062963  \n",
       "10       Highly engaged         0.055814  \n",
       "11       Highly engaged         0.071429  \n",
       "12       Highly engaged         0.024793  \n",
       "13       Highly engaged         0.033708  \n",
       "         Moderately engaged     0.011236  \n",
       "14       Highly engaged         0.015152  \n",
       "15       Highly engaged         0.039216  \n",
       "17       Highly engaged         0.068966  \n",
       "23       Highly engaged         0.062500  "
      ]
     },
     "execution_count": 127,
     "metadata": {},
     "output_type": "execute_result"
    }
   ],
   "source": [
    "# Merge campaign_engagement_agg with campaign_level_merge\n",
    "campaign_final_merge = campaign_engagement_agg.merge(campaign_level_merge, left_index=True, right_index=True)\n",
    "\n",
    "# Calculate percentage\n",
    "campaign_final_merge[\"percentage\"] = campaign_final_merge[\"customer_cnt\"] / campaign_final_merge[\"total_unique_customer\"]\n",
    "\n",
    "# Show first 5 rows\n",
    "campaign_final_merge"
   ]
  },
  {
   "cell_type": "code",
   "execution_count": 120,
   "metadata": {},
   "outputs": [
    {
     "data": {
      "application/vnd.plotly.v1+json": {
       "config": {
        "plotlyServerURL": "https://plot.ly"
       },
       "data": [
        {
         "alignmentgroup": "True",
         "hovertemplate": "engagement_category=Highly engaged<br>Campaign=%{x}<br>Percentage=%{y}<extra></extra>",
         "legendgroup": "Highly engaged",
         "marker": {
          "color": "#636efa",
          "pattern": {
           "shape": ""
          }
         },
         "name": "Highly engaged",
         "offsetgroup": "Highly engaged",
         "orientation": "v",
         "showlegend": true,
         "textposition": "auto",
         "type": "bar",
         "x": [
          1,
          2,
          3,
          4,
          5,
          6,
          7,
          8,
          9,
          10,
          11,
          12,
          13,
          14,
          15,
          17,
          23
         ],
         "xaxis": "x",
         "y": [
          0.176847,
          0.157651,
          0.135427,
          0.10944,
          0.083067,
          0.073547,
          0.061837,
          0.043597,
          0.062963,
          0.055814,
          0.071429,
          0.024793,
          0.033708,
          0.015152,
          0.039216,
          0.068966,
          0.0625
         ],
         "yaxis": "y"
        },
        {
         "alignmentgroup": "True",
         "hovertemplate": "engagement_category=Low engagement<br>Campaign=%{x}<br>Percentage=%{y}<extra></extra>",
         "legendgroup": "Low engagement",
         "marker": {
          "color": "#EF553B",
          "pattern": {
           "shape": ""
          }
         },
         "name": "Low engagement",
         "offsetgroup": "Low engagement",
         "orientation": "v",
         "showlegend": true,
         "textposition": "auto",
         "type": "bar",
         "x": [
          1,
          2,
          3
         ],
         "xaxis": "x",
         "y": [
          0.012034,
          0.004022,
          0.000634
         ],
         "yaxis": "y"
        },
        {
         "alignmentgroup": "True",
         "hovertemplate": "engagement_category=Moderately engaged<br>Campaign=%{x}<br>Percentage=%{y}<extra></extra>",
         "legendgroup": "Moderately engaged",
         "marker": {
          "color": "#00cc96",
          "pattern": {
           "shape": ""
          }
         },
         "name": "Moderately engaged",
         "offsetgroup": "Moderately engaged",
         "orientation": "v",
         "showlegend": true,
         "textposition": "auto",
         "type": "bar",
         "x": [
          1,
          2,
          3,
          4,
          5,
          6,
          7,
          8,
          13
         ],
         "xaxis": "x",
         "y": [
          0.061691,
          0.038206,
          0.026007,
          0.01556,
          0.010383,
          0.014235,
          0.0053,
          0.002725,
          0.011236
         ],
         "yaxis": "y"
        }
       ],
       "layout": {
        "barmode": "relative",
        "legend": {
         "title": {
          "text": "engagement_category"
         },
         "tracegroupgap": 0
        },
        "template": {
         "data": {
          "bar": [
           {
            "error_x": {
             "color": "#2a3f5f"
            },
            "error_y": {
             "color": "#2a3f5f"
            },
            "marker": {
             "line": {
              "color": "#E5ECF6",
              "width": 0.5
             },
             "pattern": {
              "fillmode": "overlay",
              "size": 10,
              "solidity": 0.2
             }
            },
            "type": "bar"
           }
          ],
          "barpolar": [
           {
            "marker": {
             "line": {
              "color": "#E5ECF6",
              "width": 0.5
             },
             "pattern": {
              "fillmode": "overlay",
              "size": 10,
              "solidity": 0.2
             }
            },
            "type": "barpolar"
           }
          ],
          "carpet": [
           {
            "aaxis": {
             "endlinecolor": "#2a3f5f",
             "gridcolor": "white",
             "linecolor": "white",
             "minorgridcolor": "white",
             "startlinecolor": "#2a3f5f"
            },
            "baxis": {
             "endlinecolor": "#2a3f5f",
             "gridcolor": "white",
             "linecolor": "white",
             "minorgridcolor": "white",
             "startlinecolor": "#2a3f5f"
            },
            "type": "carpet"
           }
          ],
          "choropleth": [
           {
            "colorbar": {
             "outlinewidth": 0,
             "ticks": ""
            },
            "type": "choropleth"
           }
          ],
          "contour": [
           {
            "colorbar": {
             "outlinewidth": 0,
             "ticks": ""
            },
            "colorscale": [
             [
              0,
              "#0d0887"
             ],
             [
              0.1111111111111111,
              "#46039f"
             ],
             [
              0.2222222222222222,
              "#7201a8"
             ],
             [
              0.3333333333333333,
              "#9c179e"
             ],
             [
              0.4444444444444444,
              "#bd3786"
             ],
             [
              0.5555555555555556,
              "#d8576b"
             ],
             [
              0.6666666666666666,
              "#ed7953"
             ],
             [
              0.7777777777777778,
              "#fb9f3a"
             ],
             [
              0.8888888888888888,
              "#fdca26"
             ],
             [
              1,
              "#f0f921"
             ]
            ],
            "type": "contour"
           }
          ],
          "contourcarpet": [
           {
            "colorbar": {
             "outlinewidth": 0,
             "ticks": ""
            },
            "type": "contourcarpet"
           }
          ],
          "heatmap": [
           {
            "colorbar": {
             "outlinewidth": 0,
             "ticks": ""
            },
            "colorscale": [
             [
              0,
              "#0d0887"
             ],
             [
              0.1111111111111111,
              "#46039f"
             ],
             [
              0.2222222222222222,
              "#7201a8"
             ],
             [
              0.3333333333333333,
              "#9c179e"
             ],
             [
              0.4444444444444444,
              "#bd3786"
             ],
             [
              0.5555555555555556,
              "#d8576b"
             ],
             [
              0.6666666666666666,
              "#ed7953"
             ],
             [
              0.7777777777777778,
              "#fb9f3a"
             ],
             [
              0.8888888888888888,
              "#fdca26"
             ],
             [
              1,
              "#f0f921"
             ]
            ],
            "type": "heatmap"
           }
          ],
          "heatmapgl": [
           {
            "colorbar": {
             "outlinewidth": 0,
             "ticks": ""
            },
            "colorscale": [
             [
              0,
              "#0d0887"
             ],
             [
              0.1111111111111111,
              "#46039f"
             ],
             [
              0.2222222222222222,
              "#7201a8"
             ],
             [
              0.3333333333333333,
              "#9c179e"
             ],
             [
              0.4444444444444444,
              "#bd3786"
             ],
             [
              0.5555555555555556,
              "#d8576b"
             ],
             [
              0.6666666666666666,
              "#ed7953"
             ],
             [
              0.7777777777777778,
              "#fb9f3a"
             ],
             [
              0.8888888888888888,
              "#fdca26"
             ],
             [
              1,
              "#f0f921"
             ]
            ],
            "type": "heatmapgl"
           }
          ],
          "histogram": [
           {
            "marker": {
             "pattern": {
              "fillmode": "overlay",
              "size": 10,
              "solidity": 0.2
             }
            },
            "type": "histogram"
           }
          ],
          "histogram2d": [
           {
            "colorbar": {
             "outlinewidth": 0,
             "ticks": ""
            },
            "colorscale": [
             [
              0,
              "#0d0887"
             ],
             [
              0.1111111111111111,
              "#46039f"
             ],
             [
              0.2222222222222222,
              "#7201a8"
             ],
             [
              0.3333333333333333,
              "#9c179e"
             ],
             [
              0.4444444444444444,
              "#bd3786"
             ],
             [
              0.5555555555555556,
              "#d8576b"
             ],
             [
              0.6666666666666666,
              "#ed7953"
             ],
             [
              0.7777777777777778,
              "#fb9f3a"
             ],
             [
              0.8888888888888888,
              "#fdca26"
             ],
             [
              1,
              "#f0f921"
             ]
            ],
            "type": "histogram2d"
           }
          ],
          "histogram2dcontour": [
           {
            "colorbar": {
             "outlinewidth": 0,
             "ticks": ""
            },
            "colorscale": [
             [
              0,
              "#0d0887"
             ],
             [
              0.1111111111111111,
              "#46039f"
             ],
             [
              0.2222222222222222,
              "#7201a8"
             ],
             [
              0.3333333333333333,
              "#9c179e"
             ],
             [
              0.4444444444444444,
              "#bd3786"
             ],
             [
              0.5555555555555556,
              "#d8576b"
             ],
             [
              0.6666666666666666,
              "#ed7953"
             ],
             [
              0.7777777777777778,
              "#fb9f3a"
             ],
             [
              0.8888888888888888,
              "#fdca26"
             ],
             [
              1,
              "#f0f921"
             ]
            ],
            "type": "histogram2dcontour"
           }
          ],
          "mesh3d": [
           {
            "colorbar": {
             "outlinewidth": 0,
             "ticks": ""
            },
            "type": "mesh3d"
           }
          ],
          "parcoords": [
           {
            "line": {
             "colorbar": {
              "outlinewidth": 0,
              "ticks": ""
             }
            },
            "type": "parcoords"
           }
          ],
          "pie": [
           {
            "automargin": true,
            "type": "pie"
           }
          ],
          "scatter": [
           {
            "fillpattern": {
             "fillmode": "overlay",
             "size": 10,
             "solidity": 0.2
            },
            "type": "scatter"
           }
          ],
          "scatter3d": [
           {
            "line": {
             "colorbar": {
              "outlinewidth": 0,
              "ticks": ""
             }
            },
            "marker": {
             "colorbar": {
              "outlinewidth": 0,
              "ticks": ""
             }
            },
            "type": "scatter3d"
           }
          ],
          "scattercarpet": [
           {
            "marker": {
             "colorbar": {
              "outlinewidth": 0,
              "ticks": ""
             }
            },
            "type": "scattercarpet"
           }
          ],
          "scattergeo": [
           {
            "marker": {
             "colorbar": {
              "outlinewidth": 0,
              "ticks": ""
             }
            },
            "type": "scattergeo"
           }
          ],
          "scattergl": [
           {
            "marker": {
             "colorbar": {
              "outlinewidth": 0,
              "ticks": ""
             }
            },
            "type": "scattergl"
           }
          ],
          "scattermapbox": [
           {
            "marker": {
             "colorbar": {
              "outlinewidth": 0,
              "ticks": ""
             }
            },
            "type": "scattermapbox"
           }
          ],
          "scatterpolar": [
           {
            "marker": {
             "colorbar": {
              "outlinewidth": 0,
              "ticks": ""
             }
            },
            "type": "scatterpolar"
           }
          ],
          "scatterpolargl": [
           {
            "marker": {
             "colorbar": {
              "outlinewidth": 0,
              "ticks": ""
             }
            },
            "type": "scatterpolargl"
           }
          ],
          "scatterternary": [
           {
            "marker": {
             "colorbar": {
              "outlinewidth": 0,
              "ticks": ""
             }
            },
            "type": "scatterternary"
           }
          ],
          "surface": [
           {
            "colorbar": {
             "outlinewidth": 0,
             "ticks": ""
            },
            "colorscale": [
             [
              0,
              "#0d0887"
             ],
             [
              0.1111111111111111,
              "#46039f"
             ],
             [
              0.2222222222222222,
              "#7201a8"
             ],
             [
              0.3333333333333333,
              "#9c179e"
             ],
             [
              0.4444444444444444,
              "#bd3786"
             ],
             [
              0.5555555555555556,
              "#d8576b"
             ],
             [
              0.6666666666666666,
              "#ed7953"
             ],
             [
              0.7777777777777778,
              "#fb9f3a"
             ],
             [
              0.8888888888888888,
              "#fdca26"
             ],
             [
              1,
              "#f0f921"
             ]
            ],
            "type": "surface"
           }
          ],
          "table": [
           {
            "cells": {
             "fill": {
              "color": "#EBF0F8"
             },
             "line": {
              "color": "white"
             }
            },
            "header": {
             "fill": {
              "color": "#C8D4E3"
             },
             "line": {
              "color": "white"
             }
            },
            "type": "table"
           }
          ]
         },
         "layout": {
          "annotationdefaults": {
           "arrowcolor": "#2a3f5f",
           "arrowhead": 0,
           "arrowwidth": 1
          },
          "autotypenumbers": "strict",
          "coloraxis": {
           "colorbar": {
            "outlinewidth": 0,
            "ticks": ""
           }
          },
          "colorscale": {
           "diverging": [
            [
             0,
             "#8e0152"
            ],
            [
             0.1,
             "#c51b7d"
            ],
            [
             0.2,
             "#de77ae"
            ],
            [
             0.3,
             "#f1b6da"
            ],
            [
             0.4,
             "#fde0ef"
            ],
            [
             0.5,
             "#f7f7f7"
            ],
            [
             0.6,
             "#e6f5d0"
            ],
            [
             0.7,
             "#b8e186"
            ],
            [
             0.8,
             "#7fbc41"
            ],
            [
             0.9,
             "#4d9221"
            ],
            [
             1,
             "#276419"
            ]
           ],
           "sequential": [
            [
             0,
             "#0d0887"
            ],
            [
             0.1111111111111111,
             "#46039f"
            ],
            [
             0.2222222222222222,
             "#7201a8"
            ],
            [
             0.3333333333333333,
             "#9c179e"
            ],
            [
             0.4444444444444444,
             "#bd3786"
            ],
            [
             0.5555555555555556,
             "#d8576b"
            ],
            [
             0.6666666666666666,
             "#ed7953"
            ],
            [
             0.7777777777777778,
             "#fb9f3a"
            ],
            [
             0.8888888888888888,
             "#fdca26"
            ],
            [
             1,
             "#f0f921"
            ]
           ],
           "sequentialminus": [
            [
             0,
             "#0d0887"
            ],
            [
             0.1111111111111111,
             "#46039f"
            ],
            [
             0.2222222222222222,
             "#7201a8"
            ],
            [
             0.3333333333333333,
             "#9c179e"
            ],
            [
             0.4444444444444444,
             "#bd3786"
            ],
            [
             0.5555555555555556,
             "#d8576b"
            ],
            [
             0.6666666666666666,
             "#ed7953"
            ],
            [
             0.7777777777777778,
             "#fb9f3a"
            ],
            [
             0.8888888888888888,
             "#fdca26"
            ],
            [
             1,
             "#f0f921"
            ]
           ]
          },
          "colorway": [
           "#636efa",
           "#EF553B",
           "#00cc96",
           "#ab63fa",
           "#FFA15A",
           "#19d3f3",
           "#FF6692",
           "#B6E880",
           "#FF97FF",
           "#FECB52"
          ],
          "font": {
           "color": "#2a3f5f"
          },
          "geo": {
           "bgcolor": "white",
           "lakecolor": "white",
           "landcolor": "#E5ECF6",
           "showlakes": true,
           "showland": true,
           "subunitcolor": "white"
          },
          "hoverlabel": {
           "align": "left"
          },
          "hovermode": "closest",
          "mapbox": {
           "style": "light"
          },
          "paper_bgcolor": "white",
          "plot_bgcolor": "#E5ECF6",
          "polar": {
           "angularaxis": {
            "gridcolor": "white",
            "linecolor": "white",
            "ticks": ""
           },
           "bgcolor": "#E5ECF6",
           "radialaxis": {
            "gridcolor": "white",
            "linecolor": "white",
            "ticks": ""
           }
          },
          "scene": {
           "xaxis": {
            "backgroundcolor": "#E5ECF6",
            "gridcolor": "white",
            "gridwidth": 2,
            "linecolor": "white",
            "showbackground": true,
            "ticks": "",
            "zerolinecolor": "white"
           },
           "yaxis": {
            "backgroundcolor": "#E5ECF6",
            "gridcolor": "white",
            "gridwidth": 2,
            "linecolor": "white",
            "showbackground": true,
            "ticks": "",
            "zerolinecolor": "white"
           },
           "zaxis": {
            "backgroundcolor": "#E5ECF6",
            "gridcolor": "white",
            "gridwidth": 2,
            "linecolor": "white",
            "showbackground": true,
            "ticks": "",
            "zerolinecolor": "white"
           }
          },
          "shapedefaults": {
           "line": {
            "color": "#2a3f5f"
           }
          },
          "ternary": {
           "aaxis": {
            "gridcolor": "white",
            "linecolor": "white",
            "ticks": ""
           },
           "baxis": {
            "gridcolor": "white",
            "linecolor": "white",
            "ticks": ""
           },
           "bgcolor": "#E5ECF6",
           "caxis": {
            "gridcolor": "white",
            "linecolor": "white",
            "ticks": ""
           }
          },
          "title": {
           "x": 0.05
          },
          "xaxis": {
           "automargin": true,
           "gridcolor": "white",
           "linecolor": "white",
           "ticks": "",
           "title": {
            "standoff": 15
           },
           "zerolinecolor": "white",
           "zerolinewidth": 2
          },
          "yaxis": {
           "automargin": true,
           "gridcolor": "white",
           "linecolor": "white",
           "ticks": "",
           "title": {
            "standoff": 15
           },
           "zerolinecolor": "white",
           "zerolinewidth": 2
          }
         }
        },
        "title": {
         "text": "Percentage of Each Campaign and Engagement Category"
        },
        "xaxis": {
         "anchor": "y",
         "domain": [
          0,
          1
         ],
         "title": {
          "text": "Campaign"
         }
        },
        "yaxis": {
         "anchor": "x",
         "domain": [
          0,
          1
         ],
         "title": {
          "text": "Percentage"
         }
        }
       }
      }
     },
     "metadata": {},
     "output_type": "display_data"
    }
   ],
   "source": [
    "# Structure of campaign_final_merge for demonstration\n",
    "\n",
    "data = {\n",
    "    'campaign': [1, 1, 1, 2, 2, 2, 3, 3, 3, 4, 4, 5, 5, 6, 6, 7, 7, 8, 8, 9, 10, 11, 12, 13, 13, 14, 15, 17, 23],\n",
    "    'engagement_category': ['Highly engaged', 'Low engagement', 'Moderately engaged', 'Highly engaged', 'Low engagement', \n",
    "                            'Moderately engaged', 'Highly engaged', 'Low engagement', 'Moderately engaged', 'Highly engaged', \n",
    "                            'Moderately engaged', 'Highly engaged', 'Moderately engaged', 'Highly engaged', \n",
    "                            'Moderately engaged', 'Highly engaged', 'Moderately engaged', 'Highly engaged', \n",
    "                            'Moderately engaged', 'Highly engaged', 'Highly engaged', 'Highly engaged', 'Highly engaged', \n",
    "                            'Highly engaged', 'Moderately engaged', 'Highly engaged', 'Highly engaged', 'Highly engaged', 'Highly engaged'],\n",
    "    'customer_cnt': [1161, 79, 405, 784, 20, 190, 427, 2, 82, 211, 30, 104, 13, 62, 12, 35, 3, 16, 1, 17, 12, 12, 3, 3, 1, 1, 2, 4, 1],\n",
    "    'responded_customers': [1645, 1645, 1645, 994, 994, 994, 511, 511, 511, 241, 241, 117, 117, 74, 74, 38, 38, 17, 17, 17, 12, 12, 3, 4, 4, 1, 2, 4, 1],\n",
    "    'total_unique_customer': [6565, 6565, 6565, 4973, 4973, 4973, 3153, 3153, 3153, 1928, 1928, 1252, 1252, 843, 843, 566, 566, 367, 367, 270, 215, 168, 121, 89, 89, 66, 51, 58, 16],\n",
    "    'campaign_cvr_rate': [0.250571, 0.250571, 0.250571, 0.199879, 0.199879, 0.199879, 0.162068, 0.162068, 0.162068, 0.125000, 0.125000, \n",
    "                          0.093450, 0.093450, 0.087782, 0.087782, 0.067138, 0.067138, 0.046322, 0.046322, 0.062963, 0.055814, 0.071429, \n",
    "                          0.024793, 0.044944, 0.044944, 0.015152, 0.039216, 0.068966, 0.062500],\n",
    "    'percentage': [0.176847, 0.012034, 0.061691, 0.157651, 0.004022, 0.038206, 0.135427, 0.000634, 0.026007, 0.109440, 0.015560, \n",
    "                   0.083067, 0.010383, 0.073547, 0.014235, 0.061837, 0.005300, 0.043597, 0.002725, 0.062963, 0.055814, 0.071429, \n",
    "                   0.024793, 0.033708, 0.011236, 0.015152, 0.039216, 0.068966, 0.062500]\n",
    "}\n",
    "\n",
    "campaign_visualization = pd.DataFrame(data)\n",
    "\n",
    "# Plot using Plotly\n",
    "fig = px.bar(campaign_visualization, \n",
    "             x='campaign', \n",
    "             y='percentage', \n",
    "             color='engagement_category', \n",
    "             labels={'percentage': 'Percentage', 'campaign': 'Campaign'},\n",
    "             title='Percentage of Each Campaign and Engagement Category')\n",
    "\n",
    "fig.show()"
   ]
  },
  {
   "cell_type": "code",
   "execution_count": 126,
   "metadata": {},
   "outputs": [
    {
     "data": {
      "image/png": "[encoded data removed]",
      "text/plain": [
       "<Figure size 1200x800 with 2 Axes>"
      ]
     },
     "metadata": {},
     "output_type": "display_data"
    }
   ],
   "source": [
    "# Pivot the data for heatmap\n",
    "heatmap_data = campaign_final_merge.pivot(index=\"engagement_category\", columns=\"campaign\", values=\"percentage\")\n",
    "\n",
    "# Plot heatmap using seaborn\n",
    "plt.figure(figsize=(12, 8))\n",
    "sns.heatmap(heatmap_data, annot=True, cmap=\"YlGnBu\", fmt=\".2f\")\n",
    "plt.title(\"Heatmap of Campaign Engagement Percentage\")\n",
    "plt.show()"
   ]
  },
  {
   "cell_type": "markdown",
   "metadata": {},
   "source": [
    "Based on the graph, the campaign that gives the highest probability of engagement is **Campaign 1**. This is indicated by the tallest bar, particularly for the **\"Highly engaged\"** category, which shows a **high percentage** relative to other campaigns. The significant height of the bars for **Campaign 1** across all engagement categories suggests it has a **higher probability of engaging customers compared to other campaigns**."
   ]
  }
 ],
 "metadata": {
  "kernelspec": {
   "display_name": "base",
   "language": "python",
   "name": "python3"
  },
  "language_info": {
   "codemirror_mode": {
    "name": "ipython",
    "version": 3
   },
   "file_extension": ".py",
   "mimetype": "text/x-python",
   "name": "python",
   "nbconvert_exporter": "python",
   "pygments_lexer": "ipython3",
   "version": "3.11.9"
  }
 },
 "nbformat": 4,
 "nbformat_minor": 2
}
