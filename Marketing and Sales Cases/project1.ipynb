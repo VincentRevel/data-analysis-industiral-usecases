{
 "cells": [
  {
   "cell_type": "markdown",
   "metadata": {},
   "source": [
    "## Introduction\n",
    "\n",
    "- In this notebook, I learn to deal with marketing dataset. My goal is to extract insight through data exploration focusing on marketing metrics\n",
    "- I'm using this dataset  https://archive.ics.uci.edu/dataset/222/bank+marketing for the case."
   ]
  },
  {
   "cell_type": "markdown",
   "metadata": {},
   "source": [
    "These variables are going to be the main focus to calculate customer engagement:\n",
    "  \n",
    "  1. `contact`:\n",
    "    - Represents the contact communication type, such as cellular, telephone, or unknown. It captures the method of contact made by the bank to engage with customers.\n",
    "  \n",
    "  2. `month`:\n",
    "    - Indicates the month of the last contact with the customer. It provides information on the timing of the engagement.\n",
    "  \n",
    "  3. `day_of_week`:\n",
    "    - Represents the day of the week of the last contact. It offers insights into the specific days when customers were engaged."
   ]
  },
  {
   "cell_type": "markdown",
   "metadata": {},
   "source": [
    "## Import Libraries and Data"
   ]
  },
  {
   "cell_type": "code",
   "execution_count": 1,
   "metadata": {},
   "outputs": [],
   "source": [
    "import numpy as np\n",
    "import pandas as pd\n",
    "\n",
    "from matplotlib import pyplot as plt\n",
    "import seaborn as sns"
   ]
  },
  {
   "cell_type": "code",
   "execution_count": 3,
   "metadata": {},
   "outputs": [
    {
     "data": {
      "text/html": [
       "<div>\n",
       "<style scoped>\n",
       "    .dataframe tbody tr th:only-of-type {\n",
       "        vertical-align: middle;\n",
       "    }\n",
       "\n",
       "    .dataframe tbody tr th {\n",
       "        vertical-align: top;\n",
       "    }\n",
       "\n",
       "    .dataframe thead th {\n",
       "        text-align: right;\n",
       "    }\n",
       "</style>\n",
       "<table border=\"1\" class=\"dataframe\">\n",
       "  <thead>\n",
       "    <tr style=\"text-align: right;\">\n",
       "      <th></th>\n",
       "      <th>age</th>\n",
       "      <th>job</th>\n",
       "      <th>marital</th>\n",
       "      <th>education</th>\n",
       "      <th>default</th>\n",
       "      <th>housing</th>\n",
       "      <th>loan</th>\n",
       "      <th>contact</th>\n",
       "      <th>month</th>\n",
       "      <th>day_of_week</th>\n",
       "      <th>...</th>\n",
       "      <th>campaign</th>\n",
       "      <th>pdays</th>\n",
       "      <th>previous</th>\n",
       "      <th>poutcome</th>\n",
       "      <th>emp.var.rate</th>\n",
       "      <th>cons.price.idx</th>\n",
       "      <th>cons.conf.idx</th>\n",
       "      <th>euribor3m</th>\n",
       "      <th>nr.employed</th>\n",
       "      <th>y</th>\n",
       "    </tr>\n",
       "  </thead>\n",
       "  <tbody>\n",
       "    <tr>\n",
       "      <th>0</th>\n",
       "      <td>56</td>\n",
       "      <td>housemaid</td>\n",
       "      <td>married</td>\n",
       "      <td>basic.4y</td>\n",
       "      <td>no</td>\n",
       "      <td>no</td>\n",
       "      <td>no</td>\n",
       "      <td>telephone</td>\n",
       "      <td>may</td>\n",
       "      <td>mon</td>\n",
       "      <td>...</td>\n",
       "      <td>1</td>\n",
       "      <td>999</td>\n",
       "      <td>0</td>\n",
       "      <td>nonexistent</td>\n",
       "      <td>1.1</td>\n",
       "      <td>93.994</td>\n",
       "      <td>-36.4</td>\n",
       "      <td>4.857</td>\n",
       "      <td>5191.0</td>\n",
       "      <td>no</td>\n",
       "    </tr>\n",
       "    <tr>\n",
       "      <th>1</th>\n",
       "      <td>57</td>\n",
       "      <td>services</td>\n",
       "      <td>married</td>\n",
       "      <td>high.school</td>\n",
       "      <td>unknown</td>\n",
       "      <td>no</td>\n",
       "      <td>no</td>\n",
       "      <td>telephone</td>\n",
       "      <td>may</td>\n",
       "      <td>mon</td>\n",
       "      <td>...</td>\n",
       "      <td>1</td>\n",
       "      <td>999</td>\n",
       "      <td>0</td>\n",
       "      <td>nonexistent</td>\n",
       "      <td>1.1</td>\n",
       "      <td>93.994</td>\n",
       "      <td>-36.4</td>\n",
       "      <td>4.857</td>\n",
       "      <td>5191.0</td>\n",
       "      <td>no</td>\n",
       "    </tr>\n",
       "    <tr>\n",
       "      <th>2</th>\n",
       "      <td>37</td>\n",
       "      <td>services</td>\n",
       "      <td>married</td>\n",
       "      <td>high.school</td>\n",
       "      <td>no</td>\n",
       "      <td>yes</td>\n",
       "      <td>no</td>\n",
       "      <td>telephone</td>\n",
       "      <td>may</td>\n",
       "      <td>mon</td>\n",
       "      <td>...</td>\n",
       "      <td>1</td>\n",
       "      <td>999</td>\n",
       "      <td>0</td>\n",
       "      <td>nonexistent</td>\n",
       "      <td>1.1</td>\n",
       "      <td>93.994</td>\n",
       "      <td>-36.4</td>\n",
       "      <td>4.857</td>\n",
       "      <td>5191.0</td>\n",
       "      <td>no</td>\n",
       "    </tr>\n",
       "    <tr>\n",
       "      <th>3</th>\n",
       "      <td>40</td>\n",
       "      <td>admin.</td>\n",
       "      <td>married</td>\n",
       "      <td>basic.6y</td>\n",
       "      <td>no</td>\n",
       "      <td>no</td>\n",
       "      <td>no</td>\n",
       "      <td>telephone</td>\n",
       "      <td>may</td>\n",
       "      <td>mon</td>\n",
       "      <td>...</td>\n",
       "      <td>1</td>\n",
       "      <td>999</td>\n",
       "      <td>0</td>\n",
       "      <td>nonexistent</td>\n",
       "      <td>1.1</td>\n",
       "      <td>93.994</td>\n",
       "      <td>-36.4</td>\n",
       "      <td>4.857</td>\n",
       "      <td>5191.0</td>\n",
       "      <td>no</td>\n",
       "    </tr>\n",
       "    <tr>\n",
       "      <th>4</th>\n",
       "      <td>56</td>\n",
       "      <td>services</td>\n",
       "      <td>married</td>\n",
       "      <td>high.school</td>\n",
       "      <td>no</td>\n",
       "      <td>no</td>\n",
       "      <td>yes</td>\n",
       "      <td>telephone</td>\n",
       "      <td>may</td>\n",
       "      <td>mon</td>\n",
       "      <td>...</td>\n",
       "      <td>1</td>\n",
       "      <td>999</td>\n",
       "      <td>0</td>\n",
       "      <td>nonexistent</td>\n",
       "      <td>1.1</td>\n",
       "      <td>93.994</td>\n",
       "      <td>-36.4</td>\n",
       "      <td>4.857</td>\n",
       "      <td>5191.0</td>\n",
       "      <td>no</td>\n",
       "    </tr>\n",
       "  </tbody>\n",
       "</table>\n",
       "<p>5 rows × 21 columns</p>\n",
       "</div>"
      ],
      "text/plain": [
       "   age        job  marital    education  default housing loan    contact  \\\n",
       "0   56  housemaid  married     basic.4y       no      no   no  telephone   \n",
       "1   57   services  married  high.school  unknown      no   no  telephone   \n",
       "2   37   services  married  high.school       no     yes   no  telephone   \n",
       "3   40     admin.  married     basic.6y       no      no   no  telephone   \n",
       "4   56   services  married  high.school       no      no  yes  telephone   \n",
       "\n",
       "  month day_of_week  ...  campaign  pdays  previous     poutcome emp.var.rate  \\\n",
       "0   may         mon  ...         1    999         0  nonexistent          1.1   \n",
       "1   may         mon  ...         1    999         0  nonexistent          1.1   \n",
       "2   may         mon  ...         1    999         0  nonexistent          1.1   \n",
       "3   may         mon  ...         1    999         0  nonexistent          1.1   \n",
       "4   may         mon  ...         1    999         0  nonexistent          1.1   \n",
       "\n",
       "   cons.price.idx  cons.conf.idx  euribor3m  nr.employed   y  \n",
       "0          93.994          -36.4      4.857       5191.0  no  \n",
       "1          93.994          -36.4      4.857       5191.0  no  \n",
       "2          93.994          -36.4      4.857       5191.0  no  \n",
       "3          93.994          -36.4      4.857       5191.0  no  \n",
       "4          93.994          -36.4      4.857       5191.0  no  \n",
       "\n",
       "[5 rows x 21 columns]"
      ]
     },
     "execution_count": 3,
     "metadata": {},
     "output_type": "execute_result"
    }
   ],
   "source": [
    "df = pd.read_csv('bank-additional-full.csv', sep=';')\n",
    "df.head()"
   ]
  },
  {
   "cell_type": "markdown",
   "metadata": {},
   "source": [
    "| Variable Name   | Role    | Type         | Demographic      | Description                                                                                                                                                                    | Units | Missing Values |\n",
    "|-----------------|---------|--------------|------------------|--------------------------------------------------------------------------------------------------------------------------------------------------------------------------------|-------|----------------|\n",
    "| age             | Feature | Integer      | Age              | Age                                                                                                                                                                            |       | no             |\n",
    "| job             | Feature | Categorical  | Occupation       | type of job (categorical: 'admin.','blue-collar','entrepreneur','housemaid','management','retired','self-employed','services','student','technician','unemployed','unknown')   |       | no             |\n",
    "| marital         | Feature | Categorical  | Marital Status   | marital status (categorical: 'divorced','married','single','unknown'; note: 'divorced' means divorced or widowed)                                                             |       | no             |\n",
    "| education       | Feature | Categorical  | Education Level  | (categorical: 'basic.4y','basic.6y','basic.9y','high.school','illiterate','professional.course','university.degree','unknown')                                                 |       | no             |\n",
    "| default         | Feature | Binary       |                  | has credit in default?                                                                                                                                                        |       | no             |\n",
    "| balance         | Feature | Integer      |                  | average yearly balance                                                                                                                                                        | euros | no             |\n",
    "| housing         | Feature | Binary       |                  | has housing loan?                                                                                                                                                             |       | yes            |\n",
    "| loan            | Feature | Binary       |                  | has personal loan?                                                                                                                                                            |       | no             |\n",
    "| contact         | Feature | Categorical  |                  | contact communication type (categorical: 'cellular','telephone')                                                                                                              |       | yes            |\n",
    "| day_of_week     | Feature | Date         |                  | last contact day of the week                                                                                                                                                   |       | no             |\n",
    "| month           | Feature | Date         |                  | last contact month of year (categorical: 'jan','feb','mar',...,'nov','dec')                                                                                                    |       | no             |\n",
    "| duration        | Feature | Integer      |                  | last contact duration, in seconds (numeric). Important note: this attribute highly affects the output target (e.g., if duration=0 then y='no'). Yet, the duration is not known before a call is performed. Also, after the end of the call y is obviously known. Thus, this input should only be included for benchmark purposes and should be discarded if the intention is to have a realistic predictive model. |       | no             |\n",
    "| campaign        | Feature | Integer      |                  | number of contacts performed during this campaign and for this client (numeric, includes last contact)                                                                         |       | no             |\n",
    "| pdays           | Feature | Integer      |                  | number of days that passed by after the client was last contacted from a previous campaign (numeric: -1 means client was not previously contacted)                             |       | yes            |\n",
    "| previous        | Feature | Integer      |                  | number of contacts performed before this campaign and for this client                                                                                                          |       | no             |\n",
    "| poutcome        | Feature | Categorical  |                  | outcome of the previous marketing campaign (categorical: 'failure','nonexistent','success')                                                                                   |       | yes            |\n",
    "| y               | Target  | Binary       |                  | has the client subscribed a term deposit?                                                                                                                                      |       | no             |\n"
   ]
  },
  {
   "cell_type": "markdown",
   "metadata": {},
   "source": [
    "# 1. Data Cleaning and Pre-processing"
   ]
  },
  {
   "cell_type": "markdown",
   "metadata": {},
   "source": [
    "## Check for duplicates"
   ]
  },
  {
   "cell_type": "code",
   "execution_count": 8,
   "metadata": {},
   "outputs": [
    {
     "name": "stdout",
     "output_type": "stream",
     "text": [
      "Total rows: 41188\n"
     ]
    }
   ],
   "source": [
    "print('Total rows:', len(df))"
   ]
  },
  {
   "cell_type": "code",
   "execution_count": 4,
   "metadata": {},
   "outputs": [
    {
     "data": {
      "text/plain": [
       "12"
      ]
     },
     "execution_count": 4,
     "metadata": {},
     "output_type": "execute_result"
    }
   ],
   "source": [
    "df.duplicated().sum()"
   ]
  },
  {
   "cell_type": "markdown",
   "metadata": {},
   "source": [
    "I wanna check if there is a same customer that duplicated on the dataset, cause there is no `id's` on the dataset."
   ]
  },
  {
   "cell_type": "code",
   "execution_count": 5,
   "metadata": {},
   "outputs": [
    {
     "data": {
      "text/plain": [
       "30719"
      ]
     },
     "execution_count": 5,
     "metadata": {},
     "output_type": "execute_result"
    }
   ],
   "source": [
    "df.duplicated(subset= [\"age\", \"job\" ,\"marital\", \"education\", \"housing\", \"loan\"]).sum()"
   ]
  },
  {
   "cell_type": "markdown",
   "metadata": {},
   "source": [
    "There is a lot of duplicated data here. Why are they duplicated? Is it an error or could there be other explanation?"
   ]
  },
  {
   "cell_type": "code",
   "execution_count": 9,
   "metadata": {},
   "outputs": [
    {
     "data": {
      "text/html": [
       "<div>\n",
       "<style scoped>\n",
       "    .dataframe tbody tr th:only-of-type {\n",
       "        vertical-align: middle;\n",
       "    }\n",
       "\n",
       "    .dataframe tbody tr th {\n",
       "        vertical-align: top;\n",
       "    }\n",
       "\n",
       "    .dataframe thead th {\n",
       "        text-align: right;\n",
       "    }\n",
       "</style>\n",
       "<table border=\"1\" class=\"dataframe\">\n",
       "  <thead>\n",
       "    <tr style=\"text-align: right;\">\n",
       "      <th></th>\n",
       "      <th>age</th>\n",
       "      <th>job</th>\n",
       "      <th>marital</th>\n",
       "      <th>education</th>\n",
       "      <th>default</th>\n",
       "      <th>housing</th>\n",
       "      <th>loan</th>\n",
       "      <th>contact</th>\n",
       "      <th>month</th>\n",
       "      <th>day_of_week</th>\n",
       "      <th>...</th>\n",
       "      <th>campaign</th>\n",
       "      <th>pdays</th>\n",
       "      <th>previous</th>\n",
       "      <th>poutcome</th>\n",
       "      <th>emp.var.rate</th>\n",
       "      <th>cons.price.idx</th>\n",
       "      <th>cons.conf.idx</th>\n",
       "      <th>euribor3m</th>\n",
       "      <th>nr.employed</th>\n",
       "      <th>y</th>\n",
       "    </tr>\n",
       "  </thead>\n",
       "  <tbody>\n",
       "    <tr>\n",
       "      <th>10</th>\n",
       "      <td>41</td>\n",
       "      <td>blue-collar</td>\n",
       "      <td>married</td>\n",
       "      <td>unknown</td>\n",
       "      <td>unknown</td>\n",
       "      <td>no</td>\n",
       "      <td>no</td>\n",
       "      <td>telephone</td>\n",
       "      <td>may</td>\n",
       "      <td>mon</td>\n",
       "      <td>...</td>\n",
       "      <td>1</td>\n",
       "      <td>999</td>\n",
       "      <td>0</td>\n",
       "      <td>nonexistent</td>\n",
       "      <td>1.1</td>\n",
       "      <td>93.994</td>\n",
       "      <td>-36.4</td>\n",
       "      <td>4.857</td>\n",
       "      <td>5191.0</td>\n",
       "      <td>no</td>\n",
       "    </tr>\n",
       "    <tr>\n",
       "      <th>11</th>\n",
       "      <td>25</td>\n",
       "      <td>services</td>\n",
       "      <td>single</td>\n",
       "      <td>high.school</td>\n",
       "      <td>no</td>\n",
       "      <td>yes</td>\n",
       "      <td>no</td>\n",
       "      <td>telephone</td>\n",
       "      <td>may</td>\n",
       "      <td>mon</td>\n",
       "      <td>...</td>\n",
       "      <td>1</td>\n",
       "      <td>999</td>\n",
       "      <td>0</td>\n",
       "      <td>nonexistent</td>\n",
       "      <td>1.1</td>\n",
       "      <td>93.994</td>\n",
       "      <td>-36.4</td>\n",
       "      <td>4.857</td>\n",
       "      <td>5191.0</td>\n",
       "      <td>no</td>\n",
       "    </tr>\n",
       "    <tr>\n",
       "      <th>16</th>\n",
       "      <td>35</td>\n",
       "      <td>blue-collar</td>\n",
       "      <td>married</td>\n",
       "      <td>basic.6y</td>\n",
       "      <td>no</td>\n",
       "      <td>yes</td>\n",
       "      <td>no</td>\n",
       "      <td>telephone</td>\n",
       "      <td>may</td>\n",
       "      <td>mon</td>\n",
       "      <td>...</td>\n",
       "      <td>1</td>\n",
       "      <td>999</td>\n",
       "      <td>0</td>\n",
       "      <td>nonexistent</td>\n",
       "      <td>1.1</td>\n",
       "      <td>93.994</td>\n",
       "      <td>-36.4</td>\n",
       "      <td>4.857</td>\n",
       "      <td>5191.0</td>\n",
       "      <td>no</td>\n",
       "    </tr>\n",
       "    <tr>\n",
       "      <th>31</th>\n",
       "      <td>59</td>\n",
       "      <td>technician</td>\n",
       "      <td>married</td>\n",
       "      <td>unknown</td>\n",
       "      <td>no</td>\n",
       "      <td>yes</td>\n",
       "      <td>no</td>\n",
       "      <td>telephone</td>\n",
       "      <td>may</td>\n",
       "      <td>mon</td>\n",
       "      <td>...</td>\n",
       "      <td>1</td>\n",
       "      <td>999</td>\n",
       "      <td>0</td>\n",
       "      <td>nonexistent</td>\n",
       "      <td>1.1</td>\n",
       "      <td>93.994</td>\n",
       "      <td>-36.4</td>\n",
       "      <td>4.857</td>\n",
       "      <td>5191.0</td>\n",
       "      <td>no</td>\n",
       "    </tr>\n",
       "    <tr>\n",
       "      <th>86</th>\n",
       "      <td>41</td>\n",
       "      <td>management</td>\n",
       "      <td>married</td>\n",
       "      <td>basic.6y</td>\n",
       "      <td>no</td>\n",
       "      <td>no</td>\n",
       "      <td>no</td>\n",
       "      <td>telephone</td>\n",
       "      <td>may</td>\n",
       "      <td>mon</td>\n",
       "      <td>...</td>\n",
       "      <td>2</td>\n",
       "      <td>999</td>\n",
       "      <td>0</td>\n",
       "      <td>nonexistent</td>\n",
       "      <td>1.1</td>\n",
       "      <td>93.994</td>\n",
       "      <td>-36.4</td>\n",
       "      <td>4.857</td>\n",
       "      <td>5191.0</td>\n",
       "      <td>no</td>\n",
       "    </tr>\n",
       "  </tbody>\n",
       "</table>\n",
       "<p>5 rows × 21 columns</p>\n",
       "</div>"
      ],
      "text/plain": [
       "    age          job  marital    education  default housing loan    contact  \\\n",
       "10   41  blue-collar  married      unknown  unknown      no   no  telephone   \n",
       "11   25     services   single  high.school       no     yes   no  telephone   \n",
       "16   35  blue-collar  married     basic.6y       no     yes   no  telephone   \n",
       "31   59   technician  married      unknown       no     yes   no  telephone   \n",
       "86   41   management  married     basic.6y       no      no   no  telephone   \n",
       "\n",
       "   month day_of_week  ...  campaign  pdays  previous     poutcome  \\\n",
       "10   may         mon  ...         1    999         0  nonexistent   \n",
       "11   may         mon  ...         1    999         0  nonexistent   \n",
       "16   may         mon  ...         1    999         0  nonexistent   \n",
       "31   may         mon  ...         1    999         0  nonexistent   \n",
       "86   may         mon  ...         2    999         0  nonexistent   \n",
       "\n",
       "   emp.var.rate  cons.price.idx  cons.conf.idx  euribor3m  nr.employed   y  \n",
       "10          1.1          93.994          -36.4      4.857       5191.0  no  \n",
       "11          1.1          93.994          -36.4      4.857       5191.0  no  \n",
       "16          1.1          93.994          -36.4      4.857       5191.0  no  \n",
       "31          1.1          93.994          -36.4      4.857       5191.0  no  \n",
       "86          1.1          93.994          -36.4      4.857       5191.0  no  \n",
       "\n",
       "[5 rows x 21 columns]"
      ]
     },
     "execution_count": 9,
     "metadata": {},
     "output_type": "execute_result"
    }
   ],
   "source": [
    "df[df.duplicated(subset= [\"age\", \"job\" ,\"marital\", \"education\", \"housing\", \"loan\"])].head()"
   ]
  },
  {
   "cell_type": "code",
   "execution_count": 12,
   "metadata": {},
   "outputs": [
    {
     "data": {
      "text/html": [
       "<div>\n",
       "<style scoped>\n",
       "    .dataframe tbody tr th:only-of-type {\n",
       "        vertical-align: middle;\n",
       "    }\n",
       "\n",
       "    .dataframe tbody tr th {\n",
       "        vertical-align: top;\n",
       "    }\n",
       "\n",
       "    .dataframe thead th {\n",
       "        text-align: right;\n",
       "    }\n",
       "</style>\n",
       "<table border=\"1\" class=\"dataframe\">\n",
       "  <thead>\n",
       "    <tr style=\"text-align: right;\">\n",
       "      <th></th>\n",
       "      <th>default</th>\n",
       "      <th>contact</th>\n",
       "      <th>month</th>\n",
       "      <th>day_of_week</th>\n",
       "      <th>duration</th>\n",
       "      <th>campaign</th>\n",
       "      <th>pdays</th>\n",
       "      <th>previous</th>\n",
       "      <th>poutcome</th>\n",
       "      <th>emp.var.rate</th>\n",
       "      <th>cons.price.idx</th>\n",
       "      <th>cons.conf.idx</th>\n",
       "      <th>euribor3m</th>\n",
       "      <th>nr.employed</th>\n",
       "      <th>y</th>\n",
       "    </tr>\n",
       "  </thead>\n",
       "  <tbody>\n",
       "    <tr>\n",
       "      <th>7</th>\n",
       "      <td>unknown</td>\n",
       "      <td>telephone</td>\n",
       "      <td>may</td>\n",
       "      <td>mon</td>\n",
       "      <td>217</td>\n",
       "      <td>1</td>\n",
       "      <td>999</td>\n",
       "      <td>0</td>\n",
       "      <td>nonexistent</td>\n",
       "      <td>1.1</td>\n",
       "      <td>93.994</td>\n",
       "      <td>-36.4</td>\n",
       "      <td>4.857</td>\n",
       "      <td>5191.0</td>\n",
       "      <td>no</td>\n",
       "    </tr>\n",
       "    <tr>\n",
       "      <th>10</th>\n",
       "      <td>unknown</td>\n",
       "      <td>telephone</td>\n",
       "      <td>may</td>\n",
       "      <td>mon</td>\n",
       "      <td>55</td>\n",
       "      <td>1</td>\n",
       "      <td>999</td>\n",
       "      <td>0</td>\n",
       "      <td>nonexistent</td>\n",
       "      <td>1.1</td>\n",
       "      <td>93.994</td>\n",
       "      <td>-36.4</td>\n",
       "      <td>4.857</td>\n",
       "      <td>5191.0</td>\n",
       "      <td>no</td>\n",
       "    </tr>\n",
       "    <tr>\n",
       "      <th>8005</th>\n",
       "      <td>no</td>\n",
       "      <td>telephone</td>\n",
       "      <td>jun</td>\n",
       "      <td>mon</td>\n",
       "      <td>424</td>\n",
       "      <td>2</td>\n",
       "      <td>999</td>\n",
       "      <td>0</td>\n",
       "      <td>nonexistent</td>\n",
       "      <td>1.4</td>\n",
       "      <td>94.465</td>\n",
       "      <td>-41.8</td>\n",
       "      <td>4.865</td>\n",
       "      <td>5228.1</td>\n",
       "      <td>no</td>\n",
       "    </tr>\n",
       "    <tr>\n",
       "      <th>12180</th>\n",
       "      <td>no</td>\n",
       "      <td>telephone</td>\n",
       "      <td>jul</td>\n",
       "      <td>tue</td>\n",
       "      <td>529</td>\n",
       "      <td>1</td>\n",
       "      <td>999</td>\n",
       "      <td>0</td>\n",
       "      <td>nonexistent</td>\n",
       "      <td>1.4</td>\n",
       "      <td>93.918</td>\n",
       "      <td>-42.7</td>\n",
       "      <td>4.955</td>\n",
       "      <td>5228.1</td>\n",
       "      <td>no</td>\n",
       "    </tr>\n",
       "    <tr>\n",
       "      <th>12533</th>\n",
       "      <td>no</td>\n",
       "      <td>cellular</td>\n",
       "      <td>jul</td>\n",
       "      <td>mon</td>\n",
       "      <td>226</td>\n",
       "      <td>1</td>\n",
       "      <td>999</td>\n",
       "      <td>0</td>\n",
       "      <td>nonexistent</td>\n",
       "      <td>1.4</td>\n",
       "      <td>93.918</td>\n",
       "      <td>-42.7</td>\n",
       "      <td>4.960</td>\n",
       "      <td>5228.1</td>\n",
       "      <td>no</td>\n",
       "    </tr>\n",
       "    <tr>\n",
       "      <th>12959</th>\n",
       "      <td>no</td>\n",
       "      <td>cellular</td>\n",
       "      <td>jul</td>\n",
       "      <td>tue</td>\n",
       "      <td>89</td>\n",
       "      <td>1</td>\n",
       "      <td>999</td>\n",
       "      <td>0</td>\n",
       "      <td>nonexistent</td>\n",
       "      <td>1.4</td>\n",
       "      <td>93.918</td>\n",
       "      <td>-42.7</td>\n",
       "      <td>4.962</td>\n",
       "      <td>5228.1</td>\n",
       "      <td>no</td>\n",
       "    </tr>\n",
       "    <tr>\n",
       "      <th>14891</th>\n",
       "      <td>unknown</td>\n",
       "      <td>cellular</td>\n",
       "      <td>jul</td>\n",
       "      <td>wed</td>\n",
       "      <td>516</td>\n",
       "      <td>4</td>\n",
       "      <td>999</td>\n",
       "      <td>0</td>\n",
       "      <td>nonexistent</td>\n",
       "      <td>1.4</td>\n",
       "      <td>93.918</td>\n",
       "      <td>-42.7</td>\n",
       "      <td>4.957</td>\n",
       "      <td>5228.1</td>\n",
       "      <td>no</td>\n",
       "    </tr>\n",
       "    <tr>\n",
       "      <th>29174</th>\n",
       "      <td>unknown</td>\n",
       "      <td>cellular</td>\n",
       "      <td>apr</td>\n",
       "      <td>fri</td>\n",
       "      <td>203</td>\n",
       "      <td>1</td>\n",
       "      <td>999</td>\n",
       "      <td>1</td>\n",
       "      <td>failure</td>\n",
       "      <td>-1.8</td>\n",
       "      <td>93.075</td>\n",
       "      <td>-47.1</td>\n",
       "      <td>1.405</td>\n",
       "      <td>5099.1</td>\n",
       "      <td>no</td>\n",
       "    </tr>\n",
       "  </tbody>\n",
       "</table>\n",
       "</div>"
      ],
      "text/plain": [
       "       default    contact month day_of_week  duration  campaign  pdays  \\\n",
       "7      unknown  telephone   may         mon       217         1    999   \n",
       "10     unknown  telephone   may         mon        55         1    999   \n",
       "8005        no  telephone   jun         mon       424         2    999   \n",
       "12180       no  telephone   jul         tue       529         1    999   \n",
       "12533       no   cellular   jul         mon       226         1    999   \n",
       "12959       no   cellular   jul         tue        89         1    999   \n",
       "14891  unknown   cellular   jul         wed       516         4    999   \n",
       "29174  unknown   cellular   apr         fri       203         1    999   \n",
       "\n",
       "       previous     poutcome  emp.var.rate  cons.price.idx  cons.conf.idx  \\\n",
       "7             0  nonexistent           1.1          93.994          -36.4   \n",
       "10            0  nonexistent           1.1          93.994          -36.4   \n",
       "8005          0  nonexistent           1.4          94.465          -41.8   \n",
       "12180         0  nonexistent           1.4          93.918          -42.7   \n",
       "12533         0  nonexistent           1.4          93.918          -42.7   \n",
       "12959         0  nonexistent           1.4          93.918          -42.7   \n",
       "14891         0  nonexistent           1.4          93.918          -42.7   \n",
       "29174         1      failure          -1.8          93.075          -47.1   \n",
       "\n",
       "       euribor3m  nr.employed   y  \n",
       "7          4.857       5191.0  no  \n",
       "10         4.857       5191.0  no  \n",
       "8005       4.865       5228.1  no  \n",
       "12180      4.955       5228.1  no  \n",
       "12533      4.960       5228.1  no  \n",
       "12959      4.962       5228.1  no  \n",
       "14891      4.957       5228.1  no  \n",
       "29174      1.405       5099.1  no  "
      ]
     },
     "execution_count": 12,
     "metadata": {},
     "output_type": "execute_result"
    }
   ],
   "source": [
    "# Take one value combination and take a peek at the data\n",
    "\n",
    "filtered_df = df[(df[\"age\"]==41) &\n",
    "                 (df[\"job\"]== \"blue-collar\") &\n",
    "                 (df[\"marital\"]== \"married\") &\n",
    "                 (df[\"education\"]== \"unknown\") &\n",
    "                 (df[\"housing\"]== \"no\") &\n",
    "                 (df[\"loan\"]== \"no\")]\n",
    "\n",
    "# Dropping the filtered columns to show only the remaining ones\n",
    "result_df = filtered_df.drop(columns=[\"age\", \"job\", \"marital\", \"education\", \"housing\", \"loan\"])\n",
    "result_df"
   ]
  },
  {
   "cell_type": "markdown",
   "metadata": {},
   "source": [
    "If you look at the table, the same data has different days, durations, months, and campaigns. So, there seems to be no duplicates that would harm the analyses."
   ]
  },
  {
   "cell_type": "markdown",
   "metadata": {},
   "source": [
    "## Check unique values"
   ]
  },
  {
   "cell_type": "code",
   "execution_count": 13,
   "metadata": {},
   "outputs": [
    {
     "name": "stdout",
     "output_type": "stream",
     "text": [
      "contact\n",
      "cellular     26144\n",
      "telephone    15044\n",
      "Name: count, dtype: int64\n"
     ]
    }
   ],
   "source": [
    "print(df[\"contact\"].value_counts())"
   ]
  },
  {
   "cell_type": "code",
   "execution_count": 14,
   "metadata": {},
   "outputs": [
    {
     "name": "stdout",
     "output_type": "stream",
     "text": [
      "month\n",
      "may    13769\n",
      "jul     7174\n",
      "aug     6178\n",
      "jun     5318\n",
      "nov     4101\n",
      "apr     2632\n",
      "oct      718\n",
      "sep      570\n",
      "mar      546\n",
      "dec      182\n",
      "Name: count, dtype: int64\n"
     ]
    }
   ],
   "source": [
    "print(df[\"month\"].value_counts())"
   ]
  },
  {
   "cell_type": "code",
   "execution_count": 15,
   "metadata": {},
   "outputs": [
    {
     "name": "stdout",
     "output_type": "stream",
     "text": [
      "day_of_week\n",
      "thu    8623\n",
      "mon    8514\n",
      "wed    8134\n",
      "tue    8090\n",
      "fri    7827\n",
      "Name: count, dtype: int64\n"
     ]
    }
   ],
   "source": [
    "print(df[\"day_of_week\"].value_counts())"
   ]
  },
  {
   "cell_type": "markdown",
   "metadata": {},
   "source": [
    "## Check missing value"
   ]
  },
  {
   "cell_type": "code",
   "execution_count": 16,
   "metadata": {},
   "outputs": [
    {
     "data": {
      "text/plain": [
       "age               0\n",
       "job               0\n",
       "marital           0\n",
       "education         0\n",
       "default           0\n",
       "housing           0\n",
       "loan              0\n",
       "contact           0\n",
       "month             0\n",
       "day_of_week       0\n",
       "duration          0\n",
       "campaign          0\n",
       "pdays             0\n",
       "previous          0\n",
       "poutcome          0\n",
       "emp.var.rate      0\n",
       "cons.price.idx    0\n",
       "cons.conf.idx     0\n",
       "euribor3m         0\n",
       "nr.employed       0\n",
       "y                 0\n",
       "dtype: int64"
      ]
     },
     "execution_count": 16,
     "metadata": {},
     "output_type": "execute_result"
    }
   ],
   "source": [
    "df.isna().sum()"
   ]
  },
  {
   "cell_type": "markdown",
   "metadata": {},
   "source": [
    "## Checking for outliers"
   ]
  },
  {
   "cell_type": "markdown",
   "metadata": {},
   "source": [
    "Here, I take the case that marketing needs to check if we need to exclude outliers based on age.  \n",
    "So i will do exploration on the distribution of `age` column."
   ]
  },
  {
   "cell_type": "code",
   "execution_count": 17,
   "metadata": {},
   "outputs": [
    {
     "data": {
      "text/plain": [
       "count    41188.00000\n",
       "mean        40.02406\n",
       "std         10.42125\n",
       "min         17.00000\n",
       "25%         32.00000\n",
       "50%         38.00000\n",
       "75%         47.00000\n",
       "max         98.00000\n",
       "Name: age, dtype: float64"
      ]
     },
     "execution_count": 17,
     "metadata": {},
     "output_type": "execute_result"
    }
   ],
   "source": [
    "df[\"age\"].describe()"
   ]
  },
  {
   "cell_type": "code",
   "execution_count": 18,
   "metadata": {},
   "outputs": [
    {
     "name": "stdout",
     "output_type": "stream",
     "text": [
      "average :  40.02406040594348\n",
      "5th percentile :  26.0\n",
      "50th percentile :  38.0\n",
      "95th percentile :  58.0\n"
     ]
    }
   ],
   "source": [
    "# Get the average value\n",
    "print(\"average : \", np.mean(df[\"age\"]))\n",
    "\n",
    "# Get the 5th, 50th, and 95th percentile value\n",
    "print(\"5th percentile : \", np.percentile(df[\"age\"], 5))\n",
    "print(\"50th percentile : \", np.percentile(df[\"age\"], 50))\n",
    "print(\"95th percentile : \", np.percentile(df[\"age\"], 95))"
   ]
  },
  {
   "cell_type": "markdown",
   "metadata": {},
   "source": [
    "There is two ways to visualize distribution of `age` column: Histogram and Box Plot "
   ]
  },
  {
   "cell_type": "code",
   "execution_count": 22,
   "metadata": {},
   "outputs": [
    {
     "name": "stderr",
     "output_type": "stream",
     "text": [
      "c:\\Users\\vince\\anaconda3\\Lib\\site-packages\\seaborn\\_oldcore.py:1119: FutureWarning: use_inf_as_na option is deprecated and will be removed in a future version. Convert inf values to NaN before operating instead.\n",
      "  with pd.option_context('mode.use_inf_as_na', True):\n"
     ]
    },
    {
     "data": {
      "image/png": "[encoded data removed]",
      "text/plain": [
       "<Figure size 1200x600 with 1 Axes>"
      ]
     },
     "metadata": {},
     "output_type": "display_data"
    }
   ],
   "source": [
    "# Set the aesthetic style of the plots\n",
    "sns.set_style(\"whitegrid\")\n",
    "\n",
    "# Create the figure and axis objects\n",
    "fig, ax = plt.subplots(figsize=(12, 6))\n",
    "\n",
    "# Create a histogram for the `age` column\n",
    "sns.histplot(data=df, x=\"age\", bins=30, kde=True, ax=ax, color='skyblue')\n",
    "\n",
    "# Add vertical lines for mean and percentiles\n",
    "mean_age = np.mean(df[\"age\"])\n",
    "percentiles = np.percentile(df[\"age\"], [5, 50, 95])\n",
    "\n",
    "# Plotting mean\n",
    "ax.axvline(x=mean_age, color=\"green\", linestyle=\"--\", lw=2, label=f'Mean: {mean_age:.2f}')\n",
    "\n",
    "# Plotting percentiles\n",
    "colors = ['red', 'orange', 'red']\n",
    "percentile_labels = ['5th Percentile', '50th Percentile', '95th Percentile']\n",
    "for perc, color, label in zip(percentiles, colors, percentile_labels):\n",
    "    ax.axvline(x=perc, color=color, linestyle=\"--\", lw=2, label=f'{label}: {perc:.2f}')\n",
    "\n",
    "# Adding titles and labels\n",
    "ax.set_title('Age Distribution with Mean and Percentiles', fontsize=16)\n",
    "ax.set_xlabel('Age', fontsize=14)\n",
    "ax.set_ylabel('Count', fontsize=14)\n",
    "\n",
    "# Adding a legend\n",
    "ax.legend()\n",
    "\n",
    "# Show the plot\n",
    "plt.show()"
   ]
  },
  {
   "cell_type": "code",
   "execution_count": 23,
   "metadata": {},
   "outputs": [
    {
     "data": {
      "image/png": "[encoded data removed]",
      "text/plain": [
       "<Figure size 1200x600 with 1 Axes>"
      ]
     },
     "metadata": {},
     "output_type": "display_data"
    }
   ],
   "source": [
    "# Set the aesthetic style of the plots\n",
    "sns.set_style(\"whitegrid\")\n",
    "\n",
    "# Create the figure and axis objects\n",
    "fig, ax = plt.subplots(figsize=(12, 6))\n",
    "\n",
    "# Create a box plot for the `age` column\n",
    "sns.boxplot(x=df[\"age\"], ax=ax, color='skyblue')\n",
    "\n",
    "# Add vertical lines for mean and percentiles\n",
    "mean_age = np.mean(df[\"age\"])\n",
    "percentiles = np.percentile(df[\"age\"], [5, 50, 95])\n",
    "\n",
    "# Plotting mean\n",
    "ax.axvline(x=mean_age, color=\"green\", linestyle=\"--\", lw=2, label=f'Mean: {mean_age:.2f}')\n",
    "\n",
    "# Plotting percentiles\n",
    "colors = ['red', 'orange', 'red']\n",
    "percentile_labels = ['5th Percentile', '50th Percentile', '95th Percentile']\n",
    "for perc, color, label in zip(percentiles, colors, percentile_labels):\n",
    "    ax.axvline(x=perc, color=color, linestyle=\"--\", lw=2, label=f'{label}: {perc:.2f}')\n",
    "\n",
    "# Adding titles and labels\n",
    "ax.set_title('Age Distribution with Mean and Percentiles', fontsize=16)\n",
    "ax.set_xlabel('Age', fontsize=14)\n",
    "\n",
    "# Adding a legend\n",
    "ax.legend()\n",
    "\n",
    "# Show the plot\n",
    "plt.show()"
   ]
  },
  {
   "cell_type": "code",
   "execution_count": 27,
   "metadata": {},
   "outputs": [
    {
     "name": "stderr",
     "output_type": "stream",
     "text": [
      "c:\\Users\\vince\\anaconda3\\Lib\\site-packages\\seaborn\\_oldcore.py:1119: FutureWarning: use_inf_as_na option is deprecated and will be removed in a future version. Convert inf values to NaN before operating instead.\n",
      "  with pd.option_context('mode.use_inf_as_na', True):\n"
     ]
    },
    {
     "data": {
      "text/plain": [
       "Text(0.75, 0.95, 'Skewness: 0.78')"
      ]
     },
     "execution_count": 27,
     "metadata": {},
     "output_type": "execute_result"
    },
    {
     "data": {
      "image/png": "[encoded data removed]",
      "text/plain": [
       "<Figure size 1200x600 with 1 Axes>"
      ]
     },
     "metadata": {},
     "output_type": "display_data"
    }
   ],
   "source": [
    "from scipy.stats import skew\n",
    "\n",
    "# Calculate skewness\n",
    "age_skewness = skew(df[\"age\"].dropna())\n",
    "\n",
    "# Set the aesthetic style of the plots\n",
    "sns.set_style(\"whitegrid\")\n",
    "\n",
    "# Create the figure and axis objects\n",
    "fig, ax = plt.subplots(figsize=(12, 6))\n",
    "\n",
    "# Create a histogram for the `age` column with KDE\n",
    "sns.histplot(data=df, x=\"age\", bins=30, kde=True, ax=ax, color='skyblue')\n",
    "\n",
    "# Add vertical lines for mean and percentiles\n",
    "mean_age = np.mean(df[\"age\"])\n",
    "percentiles = np.percentile(df[\"age\"], [5, 50, 95])\n",
    "\n",
    "# Plotting mean\n",
    "ax.axvline(x=mean_age, color=\"green\", linestyle=\"--\", lw=2, label=f'Mean: {mean_age:.2f}')\n",
    "\n",
    "# Plotting percentiles\n",
    "colors = ['red', 'orange', 'red']\n",
    "percentile_labels = ['5th Percentile', '50th Percentile', '95th Percentile']\n",
    "for perc, color, label in zip(percentiles, colors, percentile_labels):\n",
    "    ax.axvline(x=perc, color=color, linestyle=\"--\", lw=2, label=f'{label}: {perc:.2f}')\n",
    "\n",
    "# Adding titles and labels\n",
    "ax.set_title('Age Distribution with Skewness', fontsize=16)\n",
    "ax.set_xlabel('Age', fontsize=14)\n",
    "ax.set_ylabel('Count', fontsize=14)\n",
    "\n",
    "# Adding skewness value annotation\n",
    "ax.annotate(f'Skewness: {age_skewness:.2f}', xy=(0.75, 0.95), xycoords='axes fraction', fontsize=12,\n",
    "            bbox=dict(boxstyle=\"round,pad=0.3\", edgecolor='black', facecolor='white'))\n",
    "\n",
    "# Adding a legend\n",
    "# ax.legend()\n",
    "\n",
    "# Show the "
   ]
  },
  {
   "cell_type": "code",
   "execution_count": 33,
   "metadata": {},
   "outputs": [
    {
     "name": "stderr",
     "output_type": "stream",
     "text": [
      "c:\\Users\\vince\\anaconda3\\Lib\\site-packages\\seaborn\\_oldcore.py:1119: FutureWarning: use_inf_as_na option is deprecated and will be removed in a future version. Convert inf values to NaN before operating instead.\n",
      "  with pd.option_context('mode.use_inf_as_na', True):\n"
     ]
    },
    {
     "data": {
      "image/png": "[encoded data removed]",
      "text/plain": [
       "<Figure size 1200x600 with 1 Axes>"
      ]
     },
     "metadata": {},
     "output_type": "display_data"
    }
   ],
   "source": [
    "# Calculate skewness\n",
    "age_skewness = skew(df[\"age\"].dropna())\n",
    "\n",
    "# Calculate mean, median, and mode\n",
    "mean_age = np.mean(df[\"age\"])\n",
    "median_age = np.median(df[\"age\"])\n",
    "mode_age = df[\"age\"].mode()[0]  # mode() returns a series, get the first value\n",
    "\n",
    "# Set the aesthetic style of the plots\n",
    "sns.set_style(\"whitegrid\")\n",
    "\n",
    "# Create the figure and axis objects\n",
    "fig, ax = plt.subplots(figsize=(12, 6))\n",
    "\n",
    "# Create a histogram for the `age` column with KDE\n",
    "sns.histplot(data=df, x=\"age\", bins=30, kde=True, ax=ax, color='skyblue')\n",
    "\n",
    "# Add vertical lines for mean and percentiles\n",
    "percentiles = np.percentile(df[\"age\"], [5, 50, 95])\n",
    "\n",
    "# Plotting mean\n",
    "ax.axvline(x=mean_age, color=\"green\", linestyle=\"--\", lw=2, label=f'Mean: {mean_age:.2f}')\n",
    "\n",
    "# Plotting median\n",
    "ax.axvline(x=median_age, color=\"blue\", linestyle=\"-.\", lw=2, label=f'Median: {median_age:.2f}')\n",
    "\n",
    "# Plotting mode\n",
    "ax.axvline(x=mode_age, color=\"purple\", linestyle=\":\", lw=2, label=f'Mode: {mode_age:.2f}')\n",
    "\n",
    "# Adding titles and labels\n",
    "ax.set_title('Age Distribution with Skewness, Mean, Median, and Mode', fontsize=16)\n",
    "ax.set_xlabel('Age', fontsize=14)\n",
    "ax.set_ylabel('Count', fontsize=14)\n",
    "\n",
    "# Adding skewness value annotation\n",
    "ax.annotate(f'Skewness: {age_skewness:.2f}', xy=(0.65, 0.9), xycoords='axes fraction', fontsize=12,\n",
    "            bbox=dict(boxstyle=\"round,pad=0.3\", edgecolor='black', facecolor='white'))\n",
    "\n",
    "# Adding a legend\n",
    "ax.legend()\n",
    "\n",
    "# Show the plot\n",
    "plt.show()"
   ]
  },
  {
   "cell_type": "markdown",
   "metadata": {},
   "source": [
    "Understanding Skewness:\n",
    "  1. Positive Skewness: When skewness is greater than 0, the distribution is positively skewed (right-skewed). This means the right tail (higher values) is longer or fatter than the left tail (lower values).\n",
    "  2. Negative Skewness: When skewness is less than 0, the distribution is negatively skewed (left-skewed). This means the left tail (lower values) is longer or fatter than the right tail (higher values).\n",
    "  3. Zero Skewness: When skewness is 0, the distribution is perfectly symmetrical."
   ]
  },
  {
   "cell_type": "markdown",
   "metadata": {},
   "source": [
    "It doesn't seem like there is any proof that the outlier will interfere with the analysis since:\n",
    "  1. The outlier is not skewing the data dsitribution too much. This can be seen by comparing the median and average value.  \n",
    "  *Since 0.78 is greater than 0, the distribution is positively skewed. The value 0.78 indicates a moderate degree of skewness. It’s not extremely skewed, but it’s noticeably asymmetrical.*  \n",
    "    \n",
    "  2. There are a lot of outliers, but the moajority of the data can still be considered to be distributed normally. I might lose important information if I decide to filter out the outliers."
   ]
  },
  {
   "cell_type": "markdown",
   "metadata": {},
   "source": [
    "## Adding Customer ID"
   ]
  },
  {
   "cell_type": "markdown",
   "metadata": {},
   "source": [
    "- Unique identifier for each customer\n",
    "- In the bank marketing dataset, each row represents one instance of a contact made with a customer rather than one customer ID.\n",
    "- Therefore, there can be multiple rows with the same customer ID, indicating multiple contacts made with the same customer.\n",
    "- I will use a combination of age, job, marital, education, housing, and loan columns to create a unique identifier for each customer."
   ]
  },
  {
   "cell_type": "code",
   "execution_count": 34,
   "metadata": {},
   "outputs": [
    {
     "data": {
      "text/html": [
       "<div>\n",
       "<style scoped>\n",
       "    .dataframe tbody tr th:only-of-type {\n",
       "        vertical-align: middle;\n",
       "    }\n",
       "\n",
       "    .dataframe tbody tr th {\n",
       "        vertical-align: top;\n",
       "    }\n",
       "\n",
       "    .dataframe thead th {\n",
       "        text-align: right;\n",
       "    }\n",
       "</style>\n",
       "<table border=\"1\" class=\"dataframe\">\n",
       "  <thead>\n",
       "    <tr style=\"text-align: right;\">\n",
       "      <th></th>\n",
       "      <th>age</th>\n",
       "      <th>job</th>\n",
       "      <th>marital</th>\n",
       "      <th>education</th>\n",
       "      <th>default</th>\n",
       "      <th>housing</th>\n",
       "      <th>loan</th>\n",
       "      <th>contact</th>\n",
       "      <th>month</th>\n",
       "      <th>day_of_week</th>\n",
       "      <th>...</th>\n",
       "      <th>pdays</th>\n",
       "      <th>previous</th>\n",
       "      <th>poutcome</th>\n",
       "      <th>emp.var.rate</th>\n",
       "      <th>cons.price.idx</th>\n",
       "      <th>cons.conf.idx</th>\n",
       "      <th>euribor3m</th>\n",
       "      <th>nr.employed</th>\n",
       "      <th>y</th>\n",
       "      <th>customer_id</th>\n",
       "    </tr>\n",
       "  </thead>\n",
       "  <tbody>\n",
       "    <tr>\n",
       "      <th>0</th>\n",
       "      <td>56</td>\n",
       "      <td>housemaid</td>\n",
       "      <td>married</td>\n",
       "      <td>basic.4y</td>\n",
       "      <td>no</td>\n",
       "      <td>no</td>\n",
       "      <td>no</td>\n",
       "      <td>telephone</td>\n",
       "      <td>may</td>\n",
       "      <td>mon</td>\n",
       "      <td>...</td>\n",
       "      <td>999</td>\n",
       "      <td>0</td>\n",
       "      <td>nonexistent</td>\n",
       "      <td>1.1</td>\n",
       "      <td>93.994</td>\n",
       "      <td>-36.4</td>\n",
       "      <td>4.857</td>\n",
       "      <td>5191.0</td>\n",
       "      <td>no</td>\n",
       "      <td>56_housemaid_married_basic.4y_no_no</td>\n",
       "    </tr>\n",
       "    <tr>\n",
       "      <th>1</th>\n",
       "      <td>57</td>\n",
       "      <td>services</td>\n",
       "      <td>married</td>\n",
       "      <td>high.school</td>\n",
       "      <td>unknown</td>\n",
       "      <td>no</td>\n",
       "      <td>no</td>\n",
       "      <td>telephone</td>\n",
       "      <td>may</td>\n",
       "      <td>mon</td>\n",
       "      <td>...</td>\n",
       "      <td>999</td>\n",
       "      <td>0</td>\n",
       "      <td>nonexistent</td>\n",
       "      <td>1.1</td>\n",
       "      <td>93.994</td>\n",
       "      <td>-36.4</td>\n",
       "      <td>4.857</td>\n",
       "      <td>5191.0</td>\n",
       "      <td>no</td>\n",
       "      <td>57_services_married_high.school_no_no</td>\n",
       "    </tr>\n",
       "    <tr>\n",
       "      <th>2</th>\n",
       "      <td>37</td>\n",
       "      <td>services</td>\n",
       "      <td>married</td>\n",
       "      <td>high.school</td>\n",
       "      <td>no</td>\n",
       "      <td>yes</td>\n",
       "      <td>no</td>\n",
       "      <td>telephone</td>\n",
       "      <td>may</td>\n",
       "      <td>mon</td>\n",
       "      <td>...</td>\n",
       "      <td>999</td>\n",
       "      <td>0</td>\n",
       "      <td>nonexistent</td>\n",
       "      <td>1.1</td>\n",
       "      <td>93.994</td>\n",
       "      <td>-36.4</td>\n",
       "      <td>4.857</td>\n",
       "      <td>5191.0</td>\n",
       "      <td>no</td>\n",
       "      <td>37_services_married_high.school_yes_no</td>\n",
       "    </tr>\n",
       "    <tr>\n",
       "      <th>3</th>\n",
       "      <td>40</td>\n",
       "      <td>admin.</td>\n",
       "      <td>married</td>\n",
       "      <td>basic.6y</td>\n",
       "      <td>no</td>\n",
       "      <td>no</td>\n",
       "      <td>no</td>\n",
       "      <td>telephone</td>\n",
       "      <td>may</td>\n",
       "      <td>mon</td>\n",
       "      <td>...</td>\n",
       "      <td>999</td>\n",
       "      <td>0</td>\n",
       "      <td>nonexistent</td>\n",
       "      <td>1.1</td>\n",
       "      <td>93.994</td>\n",
       "      <td>-36.4</td>\n",
       "      <td>4.857</td>\n",
       "      <td>5191.0</td>\n",
       "      <td>no</td>\n",
       "      <td>40_admin._married_basic.6y_no_no</td>\n",
       "    </tr>\n",
       "    <tr>\n",
       "      <th>4</th>\n",
       "      <td>56</td>\n",
       "      <td>services</td>\n",
       "      <td>married</td>\n",
       "      <td>high.school</td>\n",
       "      <td>no</td>\n",
       "      <td>no</td>\n",
       "      <td>yes</td>\n",
       "      <td>telephone</td>\n",
       "      <td>may</td>\n",
       "      <td>mon</td>\n",
       "      <td>...</td>\n",
       "      <td>999</td>\n",
       "      <td>0</td>\n",
       "      <td>nonexistent</td>\n",
       "      <td>1.1</td>\n",
       "      <td>93.994</td>\n",
       "      <td>-36.4</td>\n",
       "      <td>4.857</td>\n",
       "      <td>5191.0</td>\n",
       "      <td>no</td>\n",
       "      <td>56_services_married_high.school_no_yes</td>\n",
       "    </tr>\n",
       "  </tbody>\n",
       "</table>\n",
       "<p>5 rows × 22 columns</p>\n",
       "</div>"
      ],
      "text/plain": [
       "   age        job  marital    education  default housing loan    contact  \\\n",
       "0   56  housemaid  married     basic.4y       no      no   no  telephone   \n",
       "1   57   services  married  high.school  unknown      no   no  telephone   \n",
       "2   37   services  married  high.school       no     yes   no  telephone   \n",
       "3   40     admin.  married     basic.6y       no      no   no  telephone   \n",
       "4   56   services  married  high.school       no      no  yes  telephone   \n",
       "\n",
       "  month day_of_week  ...  pdays  previous     poutcome  emp.var.rate  \\\n",
       "0   may         mon  ...    999         0  nonexistent           1.1   \n",
       "1   may         mon  ...    999         0  nonexistent           1.1   \n",
       "2   may         mon  ...    999         0  nonexistent           1.1   \n",
       "3   may         mon  ...    999         0  nonexistent           1.1   \n",
       "4   may         mon  ...    999         0  nonexistent           1.1   \n",
       "\n",
       "  cons.price.idx  cons.conf.idx  euribor3m  nr.employed   y  \\\n",
       "0         93.994          -36.4      4.857       5191.0  no   \n",
       "1         93.994          -36.4      4.857       5191.0  no   \n",
       "2         93.994          -36.4      4.857       5191.0  no   \n",
       "3         93.994          -36.4      4.857       5191.0  no   \n",
       "4         93.994          -36.4      4.857       5191.0  no   \n",
       "\n",
       "                              customer_id  \n",
       "0     56_housemaid_married_basic.4y_no_no  \n",
       "1   57_services_married_high.school_no_no  \n",
       "2  37_services_married_high.school_yes_no  \n",
       "3        40_admin._married_basic.6y_no_no  \n",
       "4  56_services_married_high.school_no_yes  \n",
       "\n",
       "[5 rows x 22 columns]"
      ]
     },
     "execution_count": 34,
     "metadata": {},
     "output_type": "execute_result"
    }
   ],
   "source": [
    "df[\"customer_id\"] = df[\"age\"].astype(str) + '_' + df[\"job\"].astype(str) + '_' + df[\"marital\"].astype(str) + '_' + \\\n",
    "                      df[\"education\"].astype(str) + '_' + df[\"housing\"].astype(str) + '_' + df[\"loan\"]\n",
    "df.head()"
   ]
  },
  {
   "cell_type": "code",
   "execution_count": 36,
   "metadata": {},
   "outputs": [
    {
     "name": "stdout",
     "output_type": "stream",
     "text": [
      "Total customers: 10469\n"
     ]
    }
   ],
   "source": [
    "print('Total customers:', df[\"customer_id\"].nunique())"
   ]
  },
  {
   "cell_type": "markdown",
   "metadata": {},
   "source": [
    "# 2. Calculate Engagement Metrics"
   ]
  },
  {
   "cell_type": "markdown",
   "metadata": {},
   "source": [
    "Relevant variables for analysis\n",
    "1. `contact`: The contact communication type (e.g., cellular, telephone).\n",
    "2. `month`: The month of the last contact with the customer.\n",
    "3. `day_of_week`: The day of the week of the last contact.\n",
    "4. `duration`: The duration of the last contact in seconds.\n",
    "5. `campaign`: The number of contacts performed as part of a specific marketing campaign for the customer.\n",
    "6. `previous`: The number of contacts made with the customer before the current campaign.\n",
    "7. `poutcome`: The outcome of the previous marketing campaign (e.g., success, failure, unknown).\n",
    "8. `education`: The customer's education level.\n",
    "9. `job`: The customer's occupation or job category.\n",
    "10. `age`: The customer's age.\n",
    "11. `marital`: The customer's marital status.\n",
    "12. `housing`: The type of housing the customer has (e.g., own, rent, unknown)."
   ]
  },
  {
   "cell_type": "markdown",
   "metadata": {},
   "source": [
    "## Contact Frequency\n",
    "   - Total number of contacts made by each customer.\n",
    "   - Count the number of contacts made to each customer in the bank marketing datasetby type of contact.\n",
    "   - Use `.groupby()` to do calculation grouped by certain columns.\n",
    "   - Use `.size()` to quickly aggregate the number of row.\n",
    "   - You can call it `channel_usage_freq` but you can also choose your own DataFrame name."
   ]
  },
  {
   "cell_type": "code",
   "execution_count": 38,
   "metadata": {},
   "outputs": [
    {
     "data": {
      "text/html": [
       "<div>\n",
       "<style scoped>\n",
       "    .dataframe tbody tr th:only-of-type {\n",
       "        vertical-align: middle;\n",
       "    }\n",
       "\n",
       "    .dataframe tbody tr th {\n",
       "        vertical-align: top;\n",
       "    }\n",
       "\n",
       "    .dataframe thead th {\n",
       "        text-align: right;\n",
       "    }\n",
       "</style>\n",
       "<table border=\"1\" class=\"dataframe\">\n",
       "  <thead>\n",
       "    <tr style=\"text-align: right;\">\n",
       "      <th></th>\n",
       "      <th></th>\n",
       "      <th>count</th>\n",
       "    </tr>\n",
       "    <tr>\n",
       "      <th>customer_id</th>\n",
       "      <th>contact</th>\n",
       "      <th></th>\n",
       "    </tr>\n",
       "  </thead>\n",
       "  <tbody>\n",
       "    <tr>\n",
       "      <th>29_admin._single_university.degree_yes_no</th>\n",
       "      <th>cellular</th>\n",
       "      <td>92</td>\n",
       "    </tr>\n",
       "    <tr>\n",
       "      <th>31_admin._single_university.degree_yes_no</th>\n",
       "      <th>cellular</th>\n",
       "      <td>84</td>\n",
       "    </tr>\n",
       "    <tr>\n",
       "      <th>30_admin._single_university.degree_no_no</th>\n",
       "      <th>cellular</th>\n",
       "      <td>73</td>\n",
       "    </tr>\n",
       "    <tr>\n",
       "      <th>32_admin._single_university.degree_yes_no</th>\n",
       "      <th>cellular</th>\n",
       "      <td>73</td>\n",
       "    </tr>\n",
       "    <tr>\n",
       "      <th>30_admin._single_university.degree_yes_no</th>\n",
       "      <th>cellular</th>\n",
       "      <td>72</td>\n",
       "    </tr>\n",
       "  </tbody>\n",
       "</table>\n",
       "</div>"
      ],
      "text/plain": [
       "                                                    count\n",
       "customer_id                               contact        \n",
       "29_admin._single_university.degree_yes_no cellular     92\n",
       "31_admin._single_university.degree_yes_no cellular     84\n",
       "30_admin._single_university.degree_no_no  cellular     73\n",
       "32_admin._single_university.degree_yes_no cellular     73\n",
       "30_admin._single_university.degree_yes_no cellular     72"
      ]
     },
     "execution_count": 38,
     "metadata": {},
     "output_type": "execute_result"
    }
   ],
   "source": [
    "# group by `customer_id` and `contact`\n",
    "channel_usage_freq = df.groupby([\"customer_id\", \"contact\"]).size()\n",
    "\n",
    "# rename column to be called `count`\n",
    "channel_usage_freq = pd.DataFrame(channel_usage_freq).rename(columns={0:\"count\"})\n",
    "\n",
    "# sort values descending by the `count` column\n",
    "channel_usage_freq.sort_values(by = \"count\", ascending=False, inplace=True)\n",
    "\n",
    "# show the top 5 data\n",
    "channel_usage_freq.head()"
   ]
  },
  {
   "cell_type": "markdown",
   "metadata": {},
   "source": [
    "Show the `count` column distribution."
   ]
  },
  {
   "cell_type": "code",
   "execution_count": 39,
   "metadata": {},
   "outputs": [
    {
     "data": {
      "image/png": "[encoded data removed]",
      "text/plain": [
       "<Figure size 640x480 with 1 Axes>"
      ]
     },
     "metadata": {},
     "output_type": "display_data"
    }
   ],
   "source": [
    "sns.boxplot(data = channel_usage_freq,\n",
    "            x=\"count\"\n",
    "            )\n",
    "\n",
    "plt.show()"
   ]
  },
  {
   "cell_type": "markdown",
   "metadata": {},
   "source": [
    "- Find contact frequency for each customer.\n",
    "\n",
    "- Save it to a DataFrame called `contact_frequency`."
   ]
  },
  {
   "cell_type": "code",
   "execution_count": 40,
   "metadata": {},
   "outputs": [
    {
     "data": {
      "text/html": [
       "<div>\n",
       "<style scoped>\n",
       "    .dataframe tbody tr th:only-of-type {\n",
       "        vertical-align: middle;\n",
       "    }\n",
       "\n",
       "    .dataframe tbody tr th {\n",
       "        vertical-align: top;\n",
       "    }\n",
       "\n",
       "    .dataframe thead th {\n",
       "        text-align: right;\n",
       "    }\n",
       "</style>\n",
       "<table border=\"1\" class=\"dataframe\">\n",
       "  <thead>\n",
       "    <tr style=\"text-align: right;\">\n",
       "      <th></th>\n",
       "      <th>count</th>\n",
       "    </tr>\n",
       "    <tr>\n",
       "      <th>customer_id</th>\n",
       "      <th></th>\n",
       "    </tr>\n",
       "  </thead>\n",
       "  <tbody>\n",
       "    <tr>\n",
       "      <th>29_admin._single_university.degree_yes_no</th>\n",
       "      <td>114</td>\n",
       "    </tr>\n",
       "    <tr>\n",
       "      <th>31_admin._single_university.degree_yes_no</th>\n",
       "      <td>101</td>\n",
       "    </tr>\n",
       "    <tr>\n",
       "      <th>32_admin._single_university.degree_yes_no</th>\n",
       "      <td>92</td>\n",
       "    </tr>\n",
       "    <tr>\n",
       "      <th>32_admin._single_university.degree_no_no</th>\n",
       "      <td>89</td>\n",
       "    </tr>\n",
       "    <tr>\n",
       "      <th>29_admin._single_university.degree_no_no</th>\n",
       "      <td>88</td>\n",
       "    </tr>\n",
       "    <tr>\n",
       "      <th>...</th>\n",
       "      <td>...</td>\n",
       "    </tr>\n",
       "    <tr>\n",
       "      <th>40_technician_married_high.school_yes_yes</th>\n",
       "      <td>1</td>\n",
       "    </tr>\n",
       "    <tr>\n",
       "      <th>40_technician_married_basic.9y_no_yes</th>\n",
       "      <td>1</td>\n",
       "    </tr>\n",
       "    <tr>\n",
       "      <th>40_technician_married_basic.4y_yes_no</th>\n",
       "      <td>1</td>\n",
       "    </tr>\n",
       "    <tr>\n",
       "      <th>40_technician_married_basic.4y_no_yes</th>\n",
       "      <td>1</td>\n",
       "    </tr>\n",
       "    <tr>\n",
       "      <th>41_unemployed_single_basic.4y_no_no</th>\n",
       "      <td>1</td>\n",
       "    </tr>\n",
       "  </tbody>\n",
       "</table>\n",
       "<p>10469 rows × 1 columns</p>\n",
       "</div>"
      ],
      "text/plain": [
       "                                           count\n",
       "customer_id                                     \n",
       "29_admin._single_university.degree_yes_no    114\n",
       "31_admin._single_university.degree_yes_no    101\n",
       "32_admin._single_university.degree_yes_no     92\n",
       "32_admin._single_university.degree_no_no      89\n",
       "29_admin._single_university.degree_no_no      88\n",
       "...                                          ...\n",
       "40_technician_married_high.school_yes_yes      1\n",
       "40_technician_married_basic.9y_no_yes          1\n",
       "40_technician_married_basic.4y_yes_no          1\n",
       "40_technician_married_basic.4y_no_yes          1\n",
       "41_unemployed_single_basic.4y_no_no            1\n",
       "\n",
       "[10469 rows x 1 columns]"
      ]
     },
     "execution_count": 40,
     "metadata": {},
     "output_type": "execute_result"
    }
   ],
   "source": [
    "# group by `customer_id`\n",
    "contact_frequency = df.groupby([\"customer_id\"]).size()\n",
    "\n",
    "# rename column to be called `count`\n",
    "contact_frequency = pd.DataFrame(contact_frequency).rename(columns={0:\"count\"})\n",
    "\n",
    "# sort values descending by the `count` column\n",
    "contact_frequency.sort_values(by = \"count\", ascending=False)"
   ]
  },
  {
   "cell_type": "code",
   "execution_count": 41,
   "metadata": {},
   "outputs": [
    {
     "data": {
      "image/png": "[encoded data removed]",
      "text/plain": [
       "<Figure size 640x480 with 1 Axes>"
      ]
     },
     "metadata": {},
     "output_type": "display_data"
    }
   ],
   "source": [
    "sns.boxplot(data = contact_frequency,\n",
    "            x=\"count\"\n",
    "            )\n",
    "\n",
    "plt.show()"
   ]
  },
  {
   "cell_type": "markdown",
   "metadata": {},
   "source": [
    "## Duration of contact"
   ]
  },
  {
   "cell_type": "markdown",
   "metadata": {},
   "source": [
    "  - Average or total duration of contacts made by each customer.\n",
    "\n",
    "  - Calculate the average and sum of the duration of contacts for each customer in the dataset.\n",
    "\n",
    "  - Use `.agg()` function to aggregate a column."
   ]
  },
  {
   "cell_type": "code",
   "execution_count": 42,
   "metadata": {},
   "outputs": [
    {
     "data": {
      "text/html": [
       "<div>\n",
       "<style scoped>\n",
       "    .dataframe tbody tr th:only-of-type {\n",
       "        vertical-align: middle;\n",
       "    }\n",
       "\n",
       "    .dataframe tbody tr th {\n",
       "        vertical-align: top;\n",
       "    }\n",
       "\n",
       "    .dataframe thead tr th {\n",
       "        text-align: left;\n",
       "    }\n",
       "\n",
       "    .dataframe thead tr:last-of-type th {\n",
       "        text-align: right;\n",
       "    }\n",
       "</style>\n",
       "<table border=\"1\" class=\"dataframe\">\n",
       "  <thead>\n",
       "    <tr>\n",
       "      <th></th>\n",
       "      <th colspan=\"2\" halign=\"left\">duration</th>\n",
       "    </tr>\n",
       "    <tr>\n",
       "      <th></th>\n",
       "      <th>sum</th>\n",
       "      <th>mean</th>\n",
       "    </tr>\n",
       "    <tr>\n",
       "      <th>customer_id</th>\n",
       "      <th></th>\n",
       "      <th></th>\n",
       "    </tr>\n",
       "  </thead>\n",
       "  <tbody>\n",
       "    <tr>\n",
       "      <th>17_student_single_basic.9y_unknown_unknown</th>\n",
       "      <td>498</td>\n",
       "      <td>498.0</td>\n",
       "    </tr>\n",
       "    <tr>\n",
       "      <th>17_student_single_basic.9y_yes_no</th>\n",
       "      <td>274</td>\n",
       "      <td>137.0</td>\n",
       "    </tr>\n",
       "    <tr>\n",
       "      <th>17_student_single_unknown_no_yes</th>\n",
       "      <td>896</td>\n",
       "      <td>896.0</td>\n",
       "    </tr>\n",
       "    <tr>\n",
       "      <th>17_student_single_unknown_yes_no</th>\n",
       "      <td>432</td>\n",
       "      <td>432.0</td>\n",
       "    </tr>\n",
       "    <tr>\n",
       "      <th>18_student_single_basic.4y_no_no</th>\n",
       "      <td>108</td>\n",
       "      <td>108.0</td>\n",
       "    </tr>\n",
       "  </tbody>\n",
       "</table>\n",
       "</div>"
      ],
      "text/plain": [
       "                                           duration       \n",
       "                                                sum   mean\n",
       "customer_id                                               \n",
       "17_student_single_basic.9y_unknown_unknown      498  498.0\n",
       "17_student_single_basic.9y_yes_no               274  137.0\n",
       "17_student_single_unknown_no_yes                896  896.0\n",
       "17_student_single_unknown_yes_no                432  432.0\n",
       "18_student_single_basic.4y_no_no                108  108.0"
      ]
     },
     "execution_count": 42,
     "metadata": {},
     "output_type": "execute_result"
    }
   ],
   "source": [
    "# group by `customer_id`\n",
    "duration_of_contact = df.groupby([\"customer_id\"]).agg({\"duration\":[\"sum\", \"mean\"]})\n",
    "\n",
    "\n",
    "# show the top 5 data\n",
    "duration_of_contact.head()"
   ]
  },
  {
   "cell_type": "code",
   "execution_count": 43,
   "metadata": {},
   "outputs": [
    {
     "data": {
      "image/png": "[encoded data removed]",
      "text/plain": [
       "<Figure size 1600x800 with 2 Axes>"
      ]
     },
     "metadata": {},
     "output_type": "display_data"
    }
   ],
   "source": [
    "fig, ax = plt.subplots(figsize=(16,8), nrows=2)\n",
    "\n",
    "# create 1st plot\n",
    "sns.boxplot(data = duration_of_contact,\n",
    "            x = (\"duration\",\"sum\"), # pay attention to the multiindex column\n",
    "            ax=ax[0]\n",
    "            )\n",
    "\n",
    "# create 2nd plot\n",
    "sns.boxplot(data = duration_of_contact,\n",
    "            x = (\"duration\",\"mean\"),\n",
    "            ax=ax[1]\n",
    "            )\n",
    "\n",
    "plt.show()"
   ]
  },
  {
   "cell_type": "markdown",
   "metadata": {},
   "source": [
    "## Most frequent contact"
   ]
  },
  {
   "cell_type": "markdown",
   "metadata": {},
   "source": [
    "- Preferred banking channels used by the customer.\n",
    "  \n",
    "- Determine the most frequently used channel by each customer based on contact frequency for each channel.\n",
    "\n",
    "- Use the `channel_usage_freq` DataFrame you have created before.\n",
    "\n",
    "- Use `dense rank` to rank each customer's contact frequency."
   ]
  },
  {
   "cell_type": "code",
   "execution_count": 44,
   "metadata": {},
   "outputs": [
    {
     "data": {
      "text/html": [
       "<div>\n",
       "<style scoped>\n",
       "    .dataframe tbody tr th:only-of-type {\n",
       "        vertical-align: middle;\n",
       "    }\n",
       "\n",
       "    .dataframe tbody tr th {\n",
       "        vertical-align: top;\n",
       "    }\n",
       "\n",
       "    .dataframe thead th {\n",
       "        text-align: right;\n",
       "    }\n",
       "</style>\n",
       "<table border=\"1\" class=\"dataframe\">\n",
       "  <thead>\n",
       "    <tr style=\"text-align: right;\">\n",
       "      <th></th>\n",
       "      <th>customer_id</th>\n",
       "      <th>contact</th>\n",
       "      <th>count</th>\n",
       "      <th>rank</th>\n",
       "    </tr>\n",
       "  </thead>\n",
       "  <tbody>\n",
       "    <tr>\n",
       "      <th>0</th>\n",
       "      <td>29_admin._single_university.degree_yes_no</td>\n",
       "      <td>cellular</td>\n",
       "      <td>92</td>\n",
       "      <td>1</td>\n",
       "    </tr>\n",
       "    <tr>\n",
       "      <th>1</th>\n",
       "      <td>31_admin._single_university.degree_yes_no</td>\n",
       "      <td>cellular</td>\n",
       "      <td>84</td>\n",
       "      <td>1</td>\n",
       "    </tr>\n",
       "    <tr>\n",
       "      <th>2</th>\n",
       "      <td>30_admin._single_university.degree_no_no</td>\n",
       "      <td>cellular</td>\n",
       "      <td>73</td>\n",
       "      <td>1</td>\n",
       "    </tr>\n",
       "    <tr>\n",
       "      <th>3</th>\n",
       "      <td>32_admin._single_university.degree_yes_no</td>\n",
       "      <td>cellular</td>\n",
       "      <td>73</td>\n",
       "      <td>1</td>\n",
       "    </tr>\n",
       "    <tr>\n",
       "      <th>4</th>\n",
       "      <td>30_admin._single_university.degree_yes_no</td>\n",
       "      <td>cellular</td>\n",
       "      <td>72</td>\n",
       "      <td>1</td>\n",
       "    </tr>\n",
       "    <tr>\n",
       "      <th>...</th>\n",
       "      <td>...</td>\n",
       "      <td>...</td>\n",
       "      <td>...</td>\n",
       "      <td>...</td>\n",
       "    </tr>\n",
       "    <tr>\n",
       "      <th>14005</th>\n",
       "      <td>39_services_divorced_basic.6y_no_no</td>\n",
       "      <td>telephone</td>\n",
       "      <td>1</td>\n",
       "      <td>1</td>\n",
       "    </tr>\n",
       "    <tr>\n",
       "      <th>14006</th>\n",
       "      <td>39_services_divorced_basic.9y_no_no</td>\n",
       "      <td>telephone</td>\n",
       "      <td>1</td>\n",
       "      <td>1</td>\n",
       "    </tr>\n",
       "    <tr>\n",
       "      <th>14007</th>\n",
       "      <td>39_services_divorced_professional.course_yes_yes</td>\n",
       "      <td>cellular</td>\n",
       "      <td>1</td>\n",
       "      <td>1</td>\n",
       "    </tr>\n",
       "    <tr>\n",
       "      <th>14008</th>\n",
       "      <td>39_services_divorced_unknown_yes_no</td>\n",
       "      <td>cellular</td>\n",
       "      <td>1</td>\n",
       "      <td>1</td>\n",
       "    </tr>\n",
       "    <tr>\n",
       "      <th>14009</th>\n",
       "      <td>41_housemaid_divorced_university.degree_no_no</td>\n",
       "      <td>cellular</td>\n",
       "      <td>1</td>\n",
       "      <td>1</td>\n",
       "    </tr>\n",
       "  </tbody>\n",
       "</table>\n",
       "<p>14010 rows × 4 columns</p>\n",
       "</div>"
      ],
      "text/plain": [
       "                                            customer_id    contact  count  \\\n",
       "0             29_admin._single_university.degree_yes_no   cellular     92   \n",
       "1             31_admin._single_university.degree_yes_no   cellular     84   \n",
       "2              30_admin._single_university.degree_no_no   cellular     73   \n",
       "3             32_admin._single_university.degree_yes_no   cellular     73   \n",
       "4             30_admin._single_university.degree_yes_no   cellular     72   \n",
       "...                                                 ...        ...    ...   \n",
       "14005               39_services_divorced_basic.6y_no_no  telephone      1   \n",
       "14006               39_services_divorced_basic.9y_no_no  telephone      1   \n",
       "14007  39_services_divorced_professional.course_yes_yes   cellular      1   \n",
       "14008               39_services_divorced_unknown_yes_no   cellular      1   \n",
       "14009     41_housemaid_divorced_university.degree_no_no   cellular      1   \n",
       "\n",
       "       rank  \n",
       "0         1  \n",
       "1         1  \n",
       "2         1  \n",
       "3         1  \n",
       "4         1  \n",
       "...     ...  \n",
       "14005     1  \n",
       "14006     1  \n",
       "14007     1  \n",
       "14008     1  \n",
       "14009     1  \n",
       "\n",
       "[14010 rows x 4 columns]"
      ]
     },
     "execution_count": 44,
     "metadata": {},
     "output_type": "execute_result"
    }
   ],
   "source": [
    "# reset index if needed\n",
    "channel_usage_freq.reset_index(inplace=True)\n",
    "\n",
    "# create a column called `rank` using dense rank\n",
    "channel_usage_freq['rank'] = channel_usage_freq.groupby([\"customer_id\"])[\"count\"].rank(method='dense', ascending=False).astype(int)\n",
    "channel_usage_freq"
   ]
  },
  {
   "cell_type": "code",
   "execution_count": 45,
   "metadata": {},
   "outputs": [
    {
     "data": {
      "text/html": [
       "<div>\n",
       "<style scoped>\n",
       "    .dataframe tbody tr th:only-of-type {\n",
       "        vertical-align: middle;\n",
       "    }\n",
       "\n",
       "    .dataframe tbody tr th {\n",
       "        vertical-align: top;\n",
       "    }\n",
       "\n",
       "    .dataframe thead th {\n",
       "        text-align: right;\n",
       "    }\n",
       "</style>\n",
       "<table border=\"1\" class=\"dataframe\">\n",
       "  <thead>\n",
       "    <tr style=\"text-align: right;\">\n",
       "      <th></th>\n",
       "      <th>customer_id</th>\n",
       "      <th>contact</th>\n",
       "      <th>count</th>\n",
       "      <th>rank</th>\n",
       "    </tr>\n",
       "  </thead>\n",
       "  <tbody>\n",
       "    <tr>\n",
       "      <th>6443</th>\n",
       "      <td>18_student_single_unknown_no_no</td>\n",
       "      <td>telephone</td>\n",
       "      <td>2</td>\n",
       "      <td>1</td>\n",
       "    </tr>\n",
       "    <tr>\n",
       "      <th>10887</th>\n",
       "      <td>18_student_single_unknown_no_no</td>\n",
       "      <td>cellular</td>\n",
       "      <td>1</td>\n",
       "      <td>2</td>\n",
       "    </tr>\n",
       "  </tbody>\n",
       "</table>\n",
       "</div>"
      ],
      "text/plain": [
       "                           customer_id    contact  count  rank\n",
       "6443   18_student_single_unknown_no_no  telephone      2     1\n",
       "10887  18_student_single_unknown_no_no   cellular      1     2"
      ]
     },
     "execution_count": 45,
     "metadata": {},
     "output_type": "execute_result"
    }
   ],
   "source": [
    "# Check for one `customer_id`\n",
    "\n",
    "channel_usage_freq[channel_usage_freq[\"customer_id\"]=='18_student_single_unknown_no_no']"
   ]
  },
  {
   "cell_type": "code",
   "execution_count": 46,
   "metadata": {},
   "outputs": [
    {
     "data": {
      "text/html": [
       "<div>\n",
       "<style scoped>\n",
       "    .dataframe tbody tr th:only-of-type {\n",
       "        vertical-align: middle;\n",
       "    }\n",
       "\n",
       "    .dataframe tbody tr th {\n",
       "        vertical-align: top;\n",
       "    }\n",
       "\n",
       "    .dataframe thead th {\n",
       "        text-align: right;\n",
       "    }\n",
       "</style>\n",
       "<table border=\"1\" class=\"dataframe\">\n",
       "  <thead>\n",
       "    <tr style=\"text-align: right;\">\n",
       "      <th></th>\n",
       "      <th>customer_id</th>\n",
       "      <th>contact</th>\n",
       "      <th>count</th>\n",
       "      <th>rank</th>\n",
       "    </tr>\n",
       "  </thead>\n",
       "  <tbody>\n",
       "    <tr>\n",
       "      <th>0</th>\n",
       "      <td>29_admin._single_university.degree_yes_no</td>\n",
       "      <td>cellular</td>\n",
       "      <td>92</td>\n",
       "      <td>1</td>\n",
       "    </tr>\n",
       "    <tr>\n",
       "      <th>1</th>\n",
       "      <td>31_admin._single_university.degree_yes_no</td>\n",
       "      <td>cellular</td>\n",
       "      <td>84</td>\n",
       "      <td>1</td>\n",
       "    </tr>\n",
       "    <tr>\n",
       "      <th>2</th>\n",
       "      <td>30_admin._single_university.degree_no_no</td>\n",
       "      <td>cellular</td>\n",
       "      <td>73</td>\n",
       "      <td>1</td>\n",
       "    </tr>\n",
       "    <tr>\n",
       "      <th>3</th>\n",
       "      <td>32_admin._single_university.degree_yes_no</td>\n",
       "      <td>cellular</td>\n",
       "      <td>73</td>\n",
       "      <td>1</td>\n",
       "    </tr>\n",
       "    <tr>\n",
       "      <th>4</th>\n",
       "      <td>30_admin._single_university.degree_yes_no</td>\n",
       "      <td>cellular</td>\n",
       "      <td>72</td>\n",
       "      <td>1</td>\n",
       "    </tr>\n",
       "  </tbody>\n",
       "</table>\n",
       "</div>"
      ],
      "text/plain": [
       "                                 customer_id   contact  count  rank\n",
       "0  29_admin._single_university.degree_yes_no  cellular     92     1\n",
       "1  31_admin._single_university.degree_yes_no  cellular     84     1\n",
       "2   30_admin._single_university.degree_no_no  cellular     73     1\n",
       "3  32_admin._single_university.degree_yes_no  cellular     73     1\n",
       "4  30_admin._single_university.degree_yes_no  cellular     72     1"
      ]
     },
     "execution_count": 46,
     "metadata": {},
     "output_type": "execute_result"
    }
   ],
   "source": [
    "channel_usage_freq_ranked = channel_usage_freq[channel_usage_freq[\"rank\"] == 1].copy()\n",
    "channel_usage_freq_ranked.head()"
   ]
  },
  {
   "cell_type": "code",
   "execution_count": 47,
   "metadata": {},
   "outputs": [
    {
     "data": {
      "image/png": "[encoded data removed]",
      "text/plain": [
       "<Figure size 640x480 with 1 Axes>"
      ]
     },
     "metadata": {},
     "output_type": "display_data"
    }
   ],
   "source": [
    "# show frquency of each value in the `contact` column\n",
    "sns.countplot(data = channel_usage_freq_ranked,\n",
    "              x= \"contact\"\n",
    "              )\n",
    "\n",
    "# show the graph\n",
    "plt.show()"
   ]
  },
  {
   "cell_type": "markdown",
   "metadata": {},
   "source": [
    "## Campaign conversion rate"
   ]
  },
  {
   "cell_type": "markdown",
   "metadata": {},
   "source": [
    "- Rate at which customers respond yes to marketing campaigns.\n",
    "\n",
    "- Divide the number of customers who responded yes to a specific marketing campaign by the total number of customers targeted for that campaign.\n",
    "\n",
    "\n",
    "- First, we need to know the number of unique `customer_id` per `campaign`.\n",
    "\n",
    "- Name the result column to be `unique_cust_cnt`."
   ]
  },
  {
   "cell_type": "code",
   "execution_count": 48,
   "metadata": {},
   "outputs": [
    {
     "data": {
      "text/html": [
       "<div>\n",
       "<style scoped>\n",
       "    .dataframe tbody tr th:only-of-type {\n",
       "        vertical-align: middle;\n",
       "    }\n",
       "\n",
       "    .dataframe tbody tr th {\n",
       "        vertical-align: top;\n",
       "    }\n",
       "\n",
       "    .dataframe thead th {\n",
       "        text-align: right;\n",
       "    }\n",
       "</style>\n",
       "<table border=\"1\" class=\"dataframe\">\n",
       "  <thead>\n",
       "    <tr style=\"text-align: right;\">\n",
       "      <th></th>\n",
       "      <th>unique_cust_cnt</th>\n",
       "    </tr>\n",
       "    <tr>\n",
       "      <th>campaign</th>\n",
       "      <th></th>\n",
       "    </tr>\n",
       "  </thead>\n",
       "  <tbody>\n",
       "    <tr>\n",
       "      <th>1</th>\n",
       "      <td>6565</td>\n",
       "    </tr>\n",
       "    <tr>\n",
       "      <th>2</th>\n",
       "      <td>4973</td>\n",
       "    </tr>\n",
       "    <tr>\n",
       "      <th>3</th>\n",
       "      <td>3153</td>\n",
       "    </tr>\n",
       "    <tr>\n",
       "      <th>4</th>\n",
       "      <td>1928</td>\n",
       "    </tr>\n",
       "    <tr>\n",
       "      <th>5</th>\n",
       "      <td>1252</td>\n",
       "    </tr>\n",
       "  </tbody>\n",
       "</table>\n",
       "</div>"
      ],
      "text/plain": [
       "          unique_cust_cnt\n",
       "campaign                 \n",
       "1                    6565\n",
       "2                    4973\n",
       "3                    3153\n",
       "4                    1928\n",
       "5                    1252"
      ]
     },
     "execution_count": 48,
     "metadata": {},
     "output_type": "execute_result"
    }
   ],
   "source": [
    "# find unique customer_id per campaign\n",
    "campaign_unique_cust = df.groupby([\"campaign\"]).agg({\"customer_id\":\"nunique\"})\n",
    "\n",
    "\n",
    "# properly rename the result column to be `unique_cust_cnt`\n",
    "campaign_unique_cust = campaign_unique_cust.rename(columns={\"customer_id\": \"unique_cust_cnt\"})\n",
    "\n",
    "\n",
    "# Check first 5 data\n",
    "campaign_unique_cust.head()"
   ]
  },
  {
   "cell_type": "markdown",
   "metadata": {},
   "source": [
    "- Now we need to find unique `customer_id` that responded to the campaign.\n",
    "\n",
    "- We can do this by first finding unique `customer_id` per `campaign` and `y`.\n",
    "\n",
    "- Name the result column to be `unique_respond_cust_cnt`."
   ]
  },
  {
   "cell_type": "code",
   "execution_count": 49,
   "metadata": {},
   "outputs": [
    {
     "data": {
      "text/html": [
       "<div>\n",
       "<style scoped>\n",
       "    .dataframe tbody tr th:only-of-type {\n",
       "        vertical-align: middle;\n",
       "    }\n",
       "\n",
       "    .dataframe tbody tr th {\n",
       "        vertical-align: top;\n",
       "    }\n",
       "\n",
       "    .dataframe thead th {\n",
       "        text-align: right;\n",
       "    }\n",
       "</style>\n",
       "<table border=\"1\" class=\"dataframe\">\n",
       "  <thead>\n",
       "    <tr style=\"text-align: right;\">\n",
       "      <th></th>\n",
       "      <th></th>\n",
       "      <th>unique_respond_cust_cnt</th>\n",
       "    </tr>\n",
       "    <tr>\n",
       "      <th>campaign</th>\n",
       "      <th>y</th>\n",
       "      <th></th>\n",
       "    </tr>\n",
       "  </thead>\n",
       "  <tbody>\n",
       "    <tr>\n",
       "      <th rowspan=\"2\" valign=\"top\">1</th>\n",
       "      <th>no</th>\n",
       "      <td>6002</td>\n",
       "    </tr>\n",
       "    <tr>\n",
       "      <th>yes</th>\n",
       "      <td>1645</td>\n",
       "    </tr>\n",
       "    <tr>\n",
       "      <th rowspan=\"2\" valign=\"top\">2</th>\n",
       "      <th>no</th>\n",
       "      <td>4580</td>\n",
       "    </tr>\n",
       "    <tr>\n",
       "      <th>yes</th>\n",
       "      <td>994</td>\n",
       "    </tr>\n",
       "    <tr>\n",
       "      <th>3</th>\n",
       "      <th>no</th>\n",
       "      <td>2915</td>\n",
       "    </tr>\n",
       "  </tbody>\n",
       "</table>\n",
       "</div>"
      ],
      "text/plain": [
       "              unique_respond_cust_cnt\n",
       "campaign y                           \n",
       "1        no                      6002\n",
       "         yes                     1645\n",
       "2        no                      4580\n",
       "         yes                      994\n",
       "3        no                      2915"
      ]
     },
     "execution_count": 49,
     "metadata": {},
     "output_type": "execute_result"
    }
   ],
   "source": [
    "# find unique customer_id per campaign and y\n",
    "campaign_respond_unique_cust = df.groupby([\"campaign\", \"y\"]).agg({\"customer_id\":\"nunique\"})\n",
    "\n",
    "# properly rename the result column to be `unique_respond_cust_cnt`\n",
    "campaign_respond_unique_cust = campaign_respond_unique_cust.rename(columns={\"customer_id\": \"unique_respond_cust_cnt\"})\n",
    "\n",
    "# Check first 5 data\n",
    "campaign_respond_unique_cust.head()"
   ]
  },
  {
   "cell_type": "markdown",
   "metadata": {},
   "source": [
    "- We can then combine the 2 DataFrame by merging them together using `.merge()`.\n",
    "\n",
    "- Pay attention to the result of the merge and the variables we merge them on."
   ]
  },
  {
   "cell_type": "code",
   "execution_count": 50,
   "metadata": {},
   "outputs": [
    {
     "data": {
      "text/html": [
       "<div>\n",
       "<style scoped>\n",
       "    .dataframe tbody tr th:only-of-type {\n",
       "        vertical-align: middle;\n",
       "    }\n",
       "\n",
       "    .dataframe tbody tr th {\n",
       "        vertical-align: top;\n",
       "    }\n",
       "\n",
       "    .dataframe thead th {\n",
       "        text-align: right;\n",
       "    }\n",
       "</style>\n",
       "<table border=\"1\" class=\"dataframe\">\n",
       "  <thead>\n",
       "    <tr style=\"text-align: right;\">\n",
       "      <th></th>\n",
       "      <th></th>\n",
       "      <th>unique_respond_cust_cnt</th>\n",
       "      <th>unique_cust_cnt</th>\n",
       "    </tr>\n",
       "    <tr>\n",
       "      <th>campaign</th>\n",
       "      <th>y</th>\n",
       "      <th></th>\n",
       "      <th></th>\n",
       "    </tr>\n",
       "  </thead>\n",
       "  <tbody>\n",
       "    <tr>\n",
       "      <th rowspan=\"2\" valign=\"top\">1</th>\n",
       "      <th>no</th>\n",
       "      <td>6002</td>\n",
       "      <td>6565</td>\n",
       "    </tr>\n",
       "    <tr>\n",
       "      <th>yes</th>\n",
       "      <td>1645</td>\n",
       "      <td>6565</td>\n",
       "    </tr>\n",
       "    <tr>\n",
       "      <th rowspan=\"2\" valign=\"top\">2</th>\n",
       "      <th>no</th>\n",
       "      <td>4580</td>\n",
       "      <td>4973</td>\n",
       "    </tr>\n",
       "    <tr>\n",
       "      <th>yes</th>\n",
       "      <td>994</td>\n",
       "      <td>4973</td>\n",
       "    </tr>\n",
       "    <tr>\n",
       "      <th>3</th>\n",
       "      <th>no</th>\n",
       "      <td>2915</td>\n",
       "      <td>3153</td>\n",
       "    </tr>\n",
       "  </tbody>\n",
       "</table>\n",
       "</div>"
      ],
      "text/plain": [
       "              unique_respond_cust_cnt  unique_cust_cnt\n",
       "campaign y                                            \n",
       "1        no                      6002             6565\n",
       "         yes                     1645             6565\n",
       "2        no                      4580             4973\n",
       "         yes                      994             4973\n",
       "3        no                      2915             3153"
      ]
     },
     "execution_count": 50,
     "metadata": {},
     "output_type": "execute_result"
    }
   ],
   "source": [
    "# Merge campaign_respond_unique_cust and campaign_unique_cust by the index\n",
    "campaign_conv_rate = campaign_respond_unique_cust.merge(campaign_unique_cust, left_index=True, right_index=True)\n",
    "\n",
    "# Check first 5 data\n",
    "campaign_conv_rate.head()"
   ]
  },
  {
   "cell_type": "markdown",
   "metadata": {},
   "source": [
    "- With some Pandas slicing and magic, we can find the campaign conversion rate by dividing the number of unique customer who responded to the campaign (`responded_customer` from `campaign_respond_unique_cust`) with the total number of customer targeted by each campaign (`total_customer` from `campaign_unique_cust`).\n",
    "\n",
    "- First, create new DataFrame to keep the old DataFrame save. But only get the rows where `y = yes`."
   ]
  },
  {
   "cell_type": "code",
   "execution_count": 51,
   "metadata": {},
   "outputs": [
    {
     "data": {
      "text/html": [
       "<div>\n",
       "<style scoped>\n",
       "    .dataframe tbody tr th:only-of-type {\n",
       "        vertical-align: middle;\n",
       "    }\n",
       "\n",
       "    .dataframe tbody tr th {\n",
       "        vertical-align: top;\n",
       "    }\n",
       "\n",
       "    .dataframe thead th {\n",
       "        text-align: right;\n",
       "    }\n",
       "</style>\n",
       "<table border=\"1\" class=\"dataframe\">\n",
       "  <thead>\n",
       "    <tr style=\"text-align: right;\">\n",
       "      <th></th>\n",
       "      <th></th>\n",
       "      <th>responded_customer</th>\n",
       "      <th>total_customer</th>\n",
       "      <th>campaign_conversion_rate</th>\n",
       "    </tr>\n",
       "    <tr>\n",
       "      <th>campaign</th>\n",
       "      <th>y</th>\n",
       "      <th></th>\n",
       "      <th></th>\n",
       "      <th></th>\n",
       "    </tr>\n",
       "  </thead>\n",
       "  <tbody>\n",
       "    <tr>\n",
       "      <th>1</th>\n",
       "      <th>yes</th>\n",
       "      <td>1645</td>\n",
       "      <td>6565</td>\n",
       "      <td>0.250571</td>\n",
       "    </tr>\n",
       "    <tr>\n",
       "      <th>2</th>\n",
       "      <th>yes</th>\n",
       "      <td>994</td>\n",
       "      <td>4973</td>\n",
       "      <td>0.199879</td>\n",
       "    </tr>\n",
       "    <tr>\n",
       "      <th>3</th>\n",
       "      <th>yes</th>\n",
       "      <td>511</td>\n",
       "      <td>3153</td>\n",
       "      <td>0.162068</td>\n",
       "    </tr>\n",
       "    <tr>\n",
       "      <th>4</th>\n",
       "      <th>yes</th>\n",
       "      <td>241</td>\n",
       "      <td>1928</td>\n",
       "      <td>0.125000</td>\n",
       "    </tr>\n",
       "    <tr>\n",
       "      <th>5</th>\n",
       "      <th>yes</th>\n",
       "      <td>117</td>\n",
       "      <td>1252</td>\n",
       "      <td>0.093450</td>\n",
       "    </tr>\n",
       "  </tbody>\n",
       "</table>\n",
       "</div>"
      ],
      "text/plain": [
       "              responded_customer  total_customer  campaign_conversion_rate\n",
       "campaign y                                                                \n",
       "1        yes                1645            6565                  0.250571\n",
       "2        yes                 994            4973                  0.199879\n",
       "3        yes                 511            3153                  0.162068\n",
       "4        yes                 241            1928                  0.125000\n",
       "5        yes                 117            1252                  0.093450"
      ]
     },
     "execution_count": 51,
     "metadata": {},
     "output_type": "execute_result"
    }
   ],
   "source": [
    "# Create new DataFrame to keep the old DataFrame save. But only get the rows where `y = yes`\n",
    "campaign_conv_rate_responded = campaign_conv_rate.loc[(slice(None),\"yes\"),:].copy()\n",
    "\n",
    "\n",
    "# rename the columns\n",
    "campaign_conv_rate_responded.rename(columns={\"unique_respond_cust_cnt\":\"responded_customer\",\n",
    "                                             \"unique_cust_cnt\":\"total_customer\"\n",
    "                                             }, inplace=True)\n",
    "\n",
    "# get conversion rate\n",
    "campaign_conv_rate_responded[\"campaign_conversion_rate\"] = campaign_conv_rate_responded[\"responded_customer\"] / campaign_conv_rate_responded[\"total_customer\"]\n",
    "\n",
    "# show result\n",
    "campaign_conv_rate_responded.head()"
   ]
  },
  {
   "cell_type": "code",
   "execution_count": 52,
   "metadata": {},
   "outputs": [
    {
     "data": {
      "image/png": "[encoded data removed]",
      "text/plain": [
       "<Figure size 1600x800 with 2 Axes>"
      ]
     },
     "metadata": {},
     "output_type": "display_data"
    }
   ],
   "source": [
    "fig, ax = plt.subplots(figsize=(16,8), nrows=2)\n",
    "\n",
    "sns.barplot(data = campaign_conv_rate_responded.reset_index(),\n",
    "            x = \"campaign\",\n",
    "            y = \"campaign_conversion_rate\",\n",
    "            ax = ax[0]\n",
    "            )\n",
    "\n",
    "sns.barplot(data = campaign_conv_rate_responded.reset_index(),\n",
    "            x = \"campaign\",\n",
    "            y = \"responded_customer\",\n",
    "            ax = ax[1]\n",
    "            )\n",
    "\n",
    "plt.show()"
   ]
  },
  {
   "cell_type": "markdown",
   "metadata": {},
   "source": [
    "## Campaign engagement"
   ]
  },
  {
   "cell_type": "markdown",
   "metadata": {},
   "source": [
    "- Number of contacts made as part of each marketing campaign.\n",
    "\n",
    "- Count the number of contacts made for each customer within each marketing campaign in the dataset."
   ]
  },
  {
   "cell_type": "code",
   "execution_count": 53,
   "metadata": {},
   "outputs": [
    {
     "data": {
      "text/html": [
       "<div>\n",
       "<style scoped>\n",
       "    .dataframe tbody tr th:only-of-type {\n",
       "        vertical-align: middle;\n",
       "    }\n",
       "\n",
       "    .dataframe tbody tr th {\n",
       "        vertical-align: top;\n",
       "    }\n",
       "\n",
       "    .dataframe thead th {\n",
       "        text-align: right;\n",
       "    }\n",
       "</style>\n",
       "<table border=\"1\" class=\"dataframe\">\n",
       "  <thead>\n",
       "    <tr style=\"text-align: right;\">\n",
       "      <th></th>\n",
       "      <th>customer_id</th>\n",
       "      <th>campaign</th>\n",
       "      <th>count</th>\n",
       "    </tr>\n",
       "  </thead>\n",
       "  <tbody>\n",
       "    <tr>\n",
       "      <th>0</th>\n",
       "      <td>17_student_single_basic.9y_unknown_unknown</td>\n",
       "      <td>2</td>\n",
       "      <td>1</td>\n",
       "    </tr>\n",
       "    <tr>\n",
       "      <th>13033</th>\n",
       "      <td>44_technician_married_professional.course_unkn...</td>\n",
       "      <td>3</td>\n",
       "      <td>1</td>\n",
       "    </tr>\n",
       "    <tr>\n",
       "      <th>13037</th>\n",
       "      <td>44_technician_married_professional.course_yes_no</td>\n",
       "      <td>6</td>\n",
       "      <td>1</td>\n",
       "    </tr>\n",
       "    <tr>\n",
       "      <th>13039</th>\n",
       "      <td>44_technician_married_professional.course_yes_no</td>\n",
       "      <td>9</td>\n",
       "      <td>1</td>\n",
       "    </tr>\n",
       "    <tr>\n",
       "      <th>13041</th>\n",
       "      <td>44_technician_married_professional.course_yes_yes</td>\n",
       "      <td>2</td>\n",
       "      <td>1</td>\n",
       "    </tr>\n",
       "    <tr>\n",
       "      <th>...</th>\n",
       "      <td>...</td>\n",
       "      <td>...</td>\n",
       "      <td>...</td>\n",
       "    </tr>\n",
       "    <tr>\n",
       "      <th>5887</th>\n",
       "      <td>34_admin._married_university.degree_no_no</td>\n",
       "      <td>1</td>\n",
       "      <td>40</td>\n",
       "    </tr>\n",
       "    <tr>\n",
       "      <th>2986</th>\n",
       "      <td>30_admin._single_university.degree_yes_no</td>\n",
       "      <td>1</td>\n",
       "      <td>43</td>\n",
       "    </tr>\n",
       "    <tr>\n",
       "      <th>2973</th>\n",
       "      <td>30_admin._single_university.degree_no_no</td>\n",
       "      <td>1</td>\n",
       "      <td>44</td>\n",
       "    </tr>\n",
       "    <tr>\n",
       "      <th>3719</th>\n",
       "      <td>31_admin._single_university.degree_yes_no</td>\n",
       "      <td>1</td>\n",
       "      <td>49</td>\n",
       "    </tr>\n",
       "    <tr>\n",
       "      <th>2382</th>\n",
       "      <td>29_admin._single_university.degree_yes_no</td>\n",
       "      <td>1</td>\n",
       "      <td>54</td>\n",
       "    </tr>\n",
       "  </tbody>\n",
       "</table>\n",
       "<p>20980 rows × 3 columns</p>\n",
       "</div>"
      ],
      "text/plain": [
       "                                             customer_id  campaign  count\n",
       "0             17_student_single_basic.9y_unknown_unknown         2      1\n",
       "13033  44_technician_married_professional.course_unkn...         3      1\n",
       "13037   44_technician_married_professional.course_yes_no         6      1\n",
       "13039   44_technician_married_professional.course_yes_no         9      1\n",
       "13041  44_technician_married_professional.course_yes_yes         2      1\n",
       "...                                                  ...       ...    ...\n",
       "5887           34_admin._married_university.degree_no_no         1     40\n",
       "2986           30_admin._single_university.degree_yes_no         1     43\n",
       "2973            30_admin._single_university.degree_no_no         1     44\n",
       "3719           31_admin._single_university.degree_yes_no         1     49\n",
       "2382           29_admin._single_university.degree_yes_no         1     54\n",
       "\n",
       "[20980 rows x 3 columns]"
      ]
     },
     "execution_count": 53,
     "metadata": {},
     "output_type": "execute_result"
    }
   ],
   "source": [
    "# find number of row per customer_id per campaign and y\n",
    "campaign_engagement = pd.DataFrame(df.groupby([\"customer_id\", \"campaign\"]).size())\n",
    "\n",
    "# properly rename the result column to be `count`\n",
    "campaign_engagement.rename(columns={0:\"count\"}, inplace=True)\n",
    "\n",
    "# reset index\n",
    "campaign_engagement.reset_index(inplace=True)\n",
    "\n",
    "# sort values by `count`\n",
    "campaign_engagement.sort_values(by=\"count\")"
   ]
  },
  {
   "cell_type": "code",
   "execution_count": 54,
   "metadata": {},
   "outputs": [
    {
     "name": "stderr",
     "output_type": "stream",
     "text": [
      "c:\\Users\\vince\\anaconda3\\Lib\\site-packages\\seaborn\\axisgrid.py:118: UserWarning: The figure layout has changed to tight\n",
      "  self._figure.tight_layout(*args, **kwargs)\n"
     ]
    },
    {
     "data": {
      "image/png": "[encoded data removed]",
      "text/plain": [
       "<Figure size 4000x3000 with 42 Axes>"
      ]
     },
     "metadata": {},
     "output_type": "display_data"
    }
   ],
   "source": [
    "sns.catplot(data = campaign_engagement,\n",
    "            x= \"count\",\n",
    "            kind=\"box\",\n",
    "            col=\"campaign\", # drawing each campaign into 1 plot\n",
    "            col_wrap=8, # creating 4 columns\n",
    "            sharex=False   #to make each graph not to share x axis scale\n",
    "            # showfliers=False\n",
    "            )\n",
    "\n",
    "plt.show()"
   ]
  }
 ],
 "metadata": {
  "kernelspec": {
   "display_name": "base",
   "language": "python",
   "name": "python3"
  },
  "language_info": {
   "codemirror_mode": {
    "name": "ipython",
    "version": 3
   },
   "file_extension": ".py",
   "mimetype": "text/x-python",
   "name": "python",
   "nbconvert_exporter": "python",
   "pygments_lexer": "ipython3",
   "version": "3.11.9"
  }
 },
 "nbformat": 4,
 "nbformat_minor": 2
}
